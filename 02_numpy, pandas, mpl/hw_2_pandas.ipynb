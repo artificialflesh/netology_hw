{
 "cells": [
  {
   "cell_type": "code",
   "execution_count": 2,
   "id": "59c453c3",
   "metadata": {},
   "outputs": [],
   "source": [
    "import pandas as pd"
   ]
  },
  {
   "cell_type": "markdown",
   "id": "74de96a1",
   "metadata": {},
   "source": [
    "##### Задание 1\n",
    "Скачайте с сайта https://grouplens.org/datasets/movielens/ датасет любого размера. Определите, какому фильму было выставлено больше всего оценок 5.0."
   ]
  },
  {
   "cell_type": "code",
   "execution_count": 2,
   "id": "a3d20fee",
   "metadata": {},
   "outputs": [],
   "source": [
    "movie_rate = pd.read_csv('movielens/ratings.csv')"
   ]
  },
  {
   "cell_type": "code",
   "execution_count": 3,
   "id": "27e19318",
   "metadata": {},
   "outputs": [],
   "source": [
    "# оставляем в списке только фильмы с рейтингом 5, считаем количество каждого movieId, выводим топ-1\n",
    "ranked_first = movie_rate[ movie_rate.rating == 5.0 ].movieId.value_counts().index[0]"
   ]
  },
  {
   "cell_type": "code",
   "execution_count": 4,
   "id": "8957aa23",
   "metadata": {},
   "outputs": [
    {
     "data": {
      "text/plain": [
       "'Больше всего оценок 5.0 выставлено фильму с id 318'"
      ]
     },
     "execution_count": 4,
     "metadata": {},
     "output_type": "execute_result"
    }
   ],
   "source": [
    "f'Больше всего оценок 5.0 выставлено фильму с id {ranked_first}'"
   ]
  },
  {
   "cell_type": "markdown",
   "id": "be99bbd3",
   "metadata": {},
   "source": [
    "##### Задание 2\n",
    "По данным файла power.csv посчитайте суммарное потребление стран Прибалтики (Латвия, Литва и Эстония) категорий 4, 12 и 21 за период с 2005 по 2010 года. Не учитывайте в расчетах отрицательные значения quantity."
   ]
  },
  {
   "cell_type": "code",
   "execution_count": 3,
   "id": "6fa7cd67",
   "metadata": {},
   "outputs": [],
   "source": [
    "power = pd.read_csv('power.csv')"
   ]
  },
  {
   "cell_type": "code",
   "execution_count": 4,
   "id": "42b1736e",
   "metadata": {},
   "outputs": [],
   "source": [
    "baltic = ['Lithuania', 'Latvia', 'Estonia']"
   ]
  },
  {
   "cell_type": "code",
   "execution_count": 5,
   "id": "013b57e6",
   "metadata": {},
   "outputs": [],
   "source": [
    "category = [4, 12, 21]"
   ]
  },
  {
   "cell_type": "code",
   "execution_count": null,
   "id": "30d1b9fc",
   "metadata": {},
   "outputs": [],
   "source": []
  },
  {
   "cell_type": "code",
   "execution_count": 8,
   "id": "8d3af6ff",
   "metadata": {
    "scrolled": true
   },
   "outputs": [],
   "source": [
    "power_consumption = power.loc[ power['country'].isin(baltic) & power['category'].isin(category) & \\\n",
    "         (power['year'] >= 2005) & (power['year'] <= 2010) & (power['quantity'] > 0) ]"
   ]
  },
  {
   "cell_type": "code",
   "execution_count": 7,
   "id": "a6a92565",
   "metadata": {},
   "outputs": [
    {
     "data": {
      "text/html": [
       "<div>\n",
       "<style scoped>\n",
       "    .dataframe tbody tr th:only-of-type {\n",
       "        vertical-align: middle;\n",
       "    }\n",
       "\n",
       "    .dataframe tbody tr th {\n",
       "        vertical-align: top;\n",
       "    }\n",
       "\n",
       "    .dataframe thead th {\n",
       "        text-align: right;\n",
       "    }\n",
       "</style>\n",
       "<table border=\"1\" class=\"dataframe\">\n",
       "  <thead>\n",
       "    <tr style=\"text-align: right;\">\n",
       "      <th></th>\n",
       "      <th>country</th>\n",
       "      <th>year</th>\n",
       "      <th>quantity</th>\n",
       "      <th>category</th>\n",
       "    </tr>\n",
       "  </thead>\n",
       "  <tbody>\n",
       "    <tr>\n",
       "      <th>10617</th>\n",
       "      <td>Estonia</td>\n",
       "      <td>2008</td>\n",
       "      <td>1.0</td>\n",
       "      <td>4</td>\n",
       "    </tr>\n",
       "    <tr>\n",
       "      <th>10620</th>\n",
       "      <td>Estonia</td>\n",
       "      <td>2005</td>\n",
       "      <td>1.0</td>\n",
       "      <td>4</td>\n",
       "    </tr>\n",
       "    <tr>\n",
       "      <th>11156</th>\n",
       "      <td>Lithuania</td>\n",
       "      <td>2008</td>\n",
       "      <td>1.0</td>\n",
       "      <td>4</td>\n",
       "    </tr>\n",
       "    <tr>\n",
       "      <th>11158</th>\n",
       "      <td>Lithuania</td>\n",
       "      <td>2006</td>\n",
       "      <td>1.0</td>\n",
       "      <td>4</td>\n",
       "    </tr>\n",
       "    <tr>\n",
       "      <th>11159</th>\n",
       "      <td>Lithuania</td>\n",
       "      <td>2005</td>\n",
       "      <td>1.0</td>\n",
       "      <td>4</td>\n",
       "    </tr>\n",
       "    <tr>\n",
       "      <th>...</th>\n",
       "      <td>...</td>\n",
       "      <td>...</td>\n",
       "      <td>...</td>\n",
       "      <td>...</td>\n",
       "    </tr>\n",
       "    <tr>\n",
       "      <th>253982</th>\n",
       "      <td>Lithuania</td>\n",
       "      <td>2009</td>\n",
       "      <td>98.0</td>\n",
       "      <td>21</td>\n",
       "    </tr>\n",
       "    <tr>\n",
       "      <th>253983</th>\n",
       "      <td>Lithuania</td>\n",
       "      <td>2008</td>\n",
       "      <td>54.0</td>\n",
       "      <td>21</td>\n",
       "    </tr>\n",
       "    <tr>\n",
       "      <th>253984</th>\n",
       "      <td>Lithuania</td>\n",
       "      <td>2007</td>\n",
       "      <td>47.0</td>\n",
       "      <td>21</td>\n",
       "    </tr>\n",
       "    <tr>\n",
       "      <th>253985</th>\n",
       "      <td>Lithuania</td>\n",
       "      <td>2006</td>\n",
       "      <td>31.0</td>\n",
       "      <td>21</td>\n",
       "    </tr>\n",
       "    <tr>\n",
       "      <th>253986</th>\n",
       "      <td>Lithuania</td>\n",
       "      <td>2005</td>\n",
       "      <td>1.0</td>\n",
       "      <td>21</td>\n",
       "    </tr>\n",
       "  </tbody>\n",
       "</table>\n",
       "<p>347 rows × 4 columns</p>\n",
       "</div>"
      ],
      "text/plain": [
       "          country  year  quantity  category\n",
       "10617     Estonia  2008       1.0         4\n",
       "10620     Estonia  2005       1.0         4\n",
       "11156   Lithuania  2008       1.0         4\n",
       "11158   Lithuania  2006       1.0         4\n",
       "11159   Lithuania  2005       1.0         4\n",
       "...           ...   ...       ...       ...\n",
       "253982  Lithuania  2009      98.0        21\n",
       "253983  Lithuania  2008      54.0        21\n",
       "253984  Lithuania  2007      47.0        21\n",
       "253985  Lithuania  2006      31.0        21\n",
       "253986  Lithuania  2005       1.0        21\n",
       "\n",
       "[347 rows x 4 columns]"
      ]
     },
     "execution_count": 7,
     "metadata": {},
     "output_type": "execute_result"
    }
   ],
   "source": [
    "power.loc[ power['country'].isin(baltic) & power['category'].isin(category) & \\\n",
    "         power['year'].between(2005, 2010) & (power['quantity'] > 0) ]"
   ]
  },
  {
   "cell_type": "code",
   "execution_count": 9,
   "id": "20aaec19",
   "metadata": {},
   "outputs": [],
   "source": [
    "consumption_sum = power_consumption['quantity'].sum()"
   ]
  },
  {
   "cell_type": "code",
   "execution_count": 10,
   "id": "c46e6d1e",
   "metadata": {},
   "outputs": [
    {
     "data": {
      "text/plain": [
       "'Суммарное потребление стран Прибалтики — 240580.0'"
      ]
     },
     "execution_count": 10,
     "metadata": {},
     "output_type": "execute_result"
    }
   ],
   "source": [
    "f'Суммарное потребление стран Прибалтики — {consumption_sum}'"
   ]
  },
  {
   "cell_type": "markdown",
   "id": "ec748770",
   "metadata": {},
   "source": [
    "##### Задание 3\n",
    "Выберите страницу любого сайта с табличными данными. Импортируйте таблицы в pandas dataframe.\n",
    "Примеры страниц (необязательно брать именно эти):\n",
    "\n",
    "https://fortrader.org/quotes\n",
    "\n",
    "https://www.finanz.ru/valyuty/v-realnom-vremeni"
   ]
  },
  {
   "cell_type": "code",
   "execution_count": 11,
   "id": "5df4df2b",
   "metadata": {},
   "outputs": [
    {
     "data": {
      "text/html": [
       "<div>\n",
       "<style scoped>\n",
       "    .dataframe tbody tr th:only-of-type {\n",
       "        vertical-align: middle;\n",
       "    }\n",
       "\n",
       "    .dataframe tbody tr th {\n",
       "        vertical-align: top;\n",
       "    }\n",
       "\n",
       "    .dataframe thead th {\n",
       "        text-align: right;\n",
       "    }\n",
       "</style>\n",
       "<table border=\"1\" class=\"dataframe\">\n",
       "  <thead>\n",
       "    <tr style=\"text-align: right;\">\n",
       "      <th></th>\n",
       "      <th>Название</th>\n",
       "      <th>Цена</th>\n",
       "      <th>Изменение</th>\n",
       "      <th>Изменение(%)</th>\n",
       "      <th>Обновлено</th>\n",
       "    </tr>\n",
       "  </thead>\n",
       "  <tbody>\n",
       "    <tr>\n",
       "      <th>0</th>\n",
       "      <td>EURRUB Курс евро к рублю сегодня</td>\n",
       "      <td>84.19</td>\n",
       "      <td>-7.06</td>\n",
       "      <td>-7.73</td>\n",
       "      <td>NaN</td>\n",
       "    </tr>\n",
       "    <tr>\n",
       "      <th>1</th>\n",
       "      <td>USDRUB Курс рубля к доллару</td>\n",
       "      <td>79.20</td>\n",
       "      <td>-6.35</td>\n",
       "      <td>-7.42</td>\n",
       "      <td>NaN</td>\n",
       "    </tr>\n",
       "  </tbody>\n",
       "</table>\n",
       "</div>"
      ],
      "text/plain": [
       "                           Название   Цена  Изменение  Изменение(%)  Обновлено\n",
       "0  EURRUB Курс евро к рублю сегодня  84.19      -7.06         -7.73        NaN\n",
       "1       USDRUB Курс рубля к доллару  79.20      -6.35         -7.42        NaN"
      ]
     },
     "execution_count": 11,
     "metadata": {},
     "output_type": "execute_result"
    }
   ],
   "source": [
    "pd.read_html('https://fortrader.org/quotes')[0]"
   ]
  },
  {
   "cell_type": "code",
   "execution_count": 12,
   "id": "84acc94e",
   "metadata": {},
   "outputs": [
    {
     "data": {
      "text/html": [
       "<div>\n",
       "<style scoped>\n",
       "    .dataframe tbody tr th:only-of-type {\n",
       "        vertical-align: middle;\n",
       "    }\n",
       "\n",
       "    .dataframe tbody tr th {\n",
       "        vertical-align: top;\n",
       "    }\n",
       "\n",
       "    .dataframe thead th {\n",
       "        text-align: right;\n",
       "    }\n",
       "</style>\n",
       "<table border=\"1\" class=\"dataframe\">\n",
       "  <thead>\n",
       "    <tr style=\"text-align: right;\">\n",
       "      <th></th>\n",
       "      <th>Название</th>\n",
       "      <th>Цена</th>\n",
       "      <th>Изменение</th>\n",
       "      <th>Изменение(%)</th>\n",
       "      <th>Обновлено</th>\n",
       "    </tr>\n",
       "  </thead>\n",
       "  <tbody>\n",
       "    <tr>\n",
       "      <th>0</th>\n",
       "      <td>Нефть Brent Курс нефти сегодня</td>\n",
       "      <td>116.06</td>\n",
       "      <td>0.00</td>\n",
       "      <td>0.00</td>\n",
       "      <td>NaN</td>\n",
       "    </tr>\n",
       "    <tr>\n",
       "      <th>1</th>\n",
       "      <td>Нефть WTI Цены на нефть WTI</td>\n",
       "      <td>106.00</td>\n",
       "      <td>-4.24</td>\n",
       "      <td>-3.85</td>\n",
       "      <td>NaN</td>\n",
       "    </tr>\n",
       "    <tr>\n",
       "      <th>2</th>\n",
       "      <td>Природный газ Цена на природный газ</td>\n",
       "      <td>7.30</td>\n",
       "      <td>2.16</td>\n",
       "      <td>42.15</td>\n",
       "      <td>NaN</td>\n",
       "    </tr>\n",
       "    <tr>\n",
       "      <th>3</th>\n",
       "      <td>Кофе</td>\n",
       "      <td>225.05</td>\n",
       "      <td>0.00</td>\n",
       "      <td>0.00</td>\n",
       "      <td>NaN</td>\n",
       "    </tr>\n",
       "    <tr>\n",
       "      <th>4</th>\n",
       "      <td>Кукуруза</td>\n",
       "      <td>789.60</td>\n",
       "      <td>38.20</td>\n",
       "      <td>5.08</td>\n",
       "      <td>NaN</td>\n",
       "    </tr>\n",
       "    <tr>\n",
       "      <th>5</th>\n",
       "      <td>Соя</td>\n",
       "      <td>461.00</td>\n",
       "      <td>-18.80</td>\n",
       "      <td>-3.92</td>\n",
       "      <td>NaN</td>\n",
       "    </tr>\n",
       "    <tr>\n",
       "      <th>6</th>\n",
       "      <td>Хлопок</td>\n",
       "      <td>130.45</td>\n",
       "      <td>0.00</td>\n",
       "      <td>0.00</td>\n",
       "      <td>NaN</td>\n",
       "    </tr>\n",
       "  </tbody>\n",
       "</table>\n",
       "</div>"
      ],
      "text/plain": [
       "                              Название    Цена  Изменение  Изменение(%)  \\\n",
       "0       Нефть Brent Курс нефти сегодня  116.06       0.00          0.00   \n",
       "1          Нефть WTI Цены на нефть WTI  106.00      -4.24         -3.85   \n",
       "2  Природный газ Цена на природный газ    7.30       2.16         42.15   \n",
       "3                                 Кофе  225.05       0.00          0.00   \n",
       "4                             Кукуруза  789.60      38.20          5.08   \n",
       "5                                  Соя  461.00     -18.80         -3.92   \n",
       "6                               Хлопок  130.45       0.00          0.00   \n",
       "\n",
       "   Обновлено  \n",
       "0        NaN  \n",
       "1        NaN  \n",
       "2        NaN  \n",
       "3        NaN  \n",
       "4        NaN  \n",
       "5        NaN  \n",
       "6        NaN  "
      ]
     },
     "execution_count": 12,
     "metadata": {},
     "output_type": "execute_result"
    }
   ],
   "source": [
    "pd.read_html('https://fortrader.org/quotes')[1]"
   ]
  },
  {
   "cell_type": "code",
   "execution_count": 13,
   "id": "e80259c3",
   "metadata": {},
   "outputs": [
    {
     "data": {
      "text/html": [
       "<div>\n",
       "<style scoped>\n",
       "    .dataframe tbody tr th:only-of-type {\n",
       "        vertical-align: middle;\n",
       "    }\n",
       "\n",
       "    .dataframe tbody tr th {\n",
       "        vertical-align: top;\n",
       "    }\n",
       "\n",
       "    .dataframe thead th {\n",
       "        text-align: right;\n",
       "    }\n",
       "</style>\n",
       "<table border=\"1\" class=\"dataframe\">\n",
       "  <thead>\n",
       "    <tr style=\"text-align: right;\">\n",
       "      <th></th>\n",
       "      <th>Название</th>\n",
       "      <th>Цена</th>\n",
       "      <th>Изменение</th>\n",
       "      <th>Изменение(%)</th>\n",
       "      <th>Обновлено</th>\n",
       "    </tr>\n",
       "  </thead>\n",
       "  <tbody>\n",
       "    <tr>\n",
       "      <th>0</th>\n",
       "      <td>Золото Цена золота на бирже</td>\n",
       "      <td>1 969</td>\n",
       "      <td>19.00</td>\n",
       "      <td>1.00</td>\n",
       "      <td>NaN</td>\n",
       "    </tr>\n",
       "    <tr>\n",
       "      <th>1</th>\n",
       "      <td>Серебро Цена на серебро на бирже</td>\n",
       "      <td>25.64</td>\n",
       "      <td>0.81</td>\n",
       "      <td>3.28</td>\n",
       "      <td>NaN</td>\n",
       "    </tr>\n",
       "    <tr>\n",
       "      <th>2</th>\n",
       "      <td>Палладий Цена на Палладий</td>\n",
       "      <td>2 298</td>\n",
       "      <td>-255.00</td>\n",
       "      <td>-10.00</td>\n",
       "      <td>NaN</td>\n",
       "    </tr>\n",
       "    <tr>\n",
       "      <th>3</th>\n",
       "      <td>Платина Цены на платину</td>\n",
       "      <td>991</td>\n",
       "      <td>-29.00</td>\n",
       "      <td>-3.00</td>\n",
       "      <td>NaN</td>\n",
       "    </tr>\n",
       "    <tr>\n",
       "      <th>4</th>\n",
       "      <td>Медь Цена меди на бирже</td>\n",
       "      <td>4.72</td>\n",
       "      <td>0.02</td>\n",
       "      <td>0.38</td>\n",
       "      <td>NaN</td>\n",
       "    </tr>\n",
       "  </tbody>\n",
       "</table>\n",
       "</div>"
      ],
      "text/plain": [
       "                           Название   Цена  Изменение  Изменение(%)  Обновлено\n",
       "0       Золото Цена золота на бирже  1 969      19.00          1.00        NaN\n",
       "1  Серебро Цена на серебро на бирже  25.64       0.81          3.28        NaN\n",
       "2         Палладий Цена на Палладий  2 298    -255.00        -10.00        NaN\n",
       "3           Платина Цены на платину    991     -29.00         -3.00        NaN\n",
       "4           Медь Цена меди на бирже   4.72       0.02          0.38        NaN"
      ]
     },
     "execution_count": 13,
     "metadata": {},
     "output_type": "execute_result"
    }
   ],
   "source": [
    "pd.read_html('https://fortrader.org/quotes')[2]"
   ]
  }
 ],
 "metadata": {
  "kernelspec": {
   "display_name": "Python 3 (ipykernel)",
   "language": "python",
   "name": "python3"
  },
  "language_info": {
   "codemirror_mode": {
    "name": "ipython",
    "version": 3
   },
   "file_extension": ".py",
   "mimetype": "text/x-python",
   "name": "python",
   "nbconvert_exporter": "python",
   "pygments_lexer": "ipython3",
   "version": "3.9.7"
  }
 },
 "nbformat": 4,
 "nbformat_minor": 5
}
