{
 "cells": [
  {
   "cell_type": "markdown",
   "id": "e801b396",
   "metadata": {},
   "source": [
    "##### Задание 1\n",
    "Дана переменная, в которой хранится слово из латинских букв. Напишите код, который выводит на экран:\n",
    "\n",
    "- среднюю букву, если число букв в слове нечетное;\n",
    "- две средних буквы, если число букв четное."
   ]
  },
  {
   "cell_type": "code",
   "execution_count": 1,
   "id": "ec0f0453",
   "metadata": {},
   "outputs": [
    {
     "name": "stdout",
     "output_type": "stream",
     "text": [
      "n\n"
     ]
    }
   ],
   "source": [
    "word = 'tenet'\n",
    "middle = int(len(word)/2)\n",
    "\n",
    "print(word[middle]) if len(word) % 2 != 0 else print(word[(middle-1):(middle+1)])"
   ]
  },
  {
   "cell_type": "code",
   "execution_count": 2,
   "id": "f688c5b0",
   "metadata": {},
   "outputs": [
    {
     "name": "stdout",
     "output_type": "stream",
     "text": [
      "n\n"
     ]
    }
   ],
   "source": [
    "# второй вариант решения\n",
    "print(word[(len(word)-1)//2:(len(word)+2)//2])"
   ]
  },
  {
   "cell_type": "markdown",
   "id": "0da9b950",
   "metadata": {},
   "source": [
    "##### Задание 2\n",
    "Напишите программу, которая последовательно запрашивает у пользователя числа (по одному за раз) и после первого нуля выводит сумму всех ранее введенных чисел."
   ]
  },
  {
   "cell_type": "code",
   "execution_count": 3,
   "id": "fd22ba7f",
   "metadata": {},
   "outputs": [
    {
     "name": "stdout",
     "output_type": "stream",
     "text": [
      "Введите число 0\n",
      "Сумма всех введенных чисел 0\n"
     ]
    }
   ],
   "source": [
    "num = int(input('Введите число '))\n",
    "num_sum = 0\n",
    "\n",
    "while num != 0:\n",
    "    num_sum += num\n",
    "    num = int(input('Введите число '))\n",
    "print(f'Сумма всех введенных чисел {num_sum}')"
   ]
  },
  {
   "cell_type": "markdown",
   "id": "8a7dcf6c",
   "metadata": {},
   "source": [
    "##### Задание 3\n",
    "Мы делаем MVP dating-сервиса, и у нас есть список парней и девушек.\n",
    "Выдвигаем гипотезу: лучшие рекомендации мы получим, если просто отсортируем имена по алфавиту и познакомим людей с одинаковыми индексами после сортировки! Но мы не будем никого знакомить, если кто-то может остаться без пары."
   ]
  },
  {
   "cell_type": "code",
   "execution_count": 4,
   "id": "a6bed5f6",
   "metadata": {},
   "outputs": [
    {
     "name": "stdout",
     "output_type": "stream",
     "text": [
      "Alex и Emma\n",
      "Arthur и Kate\n",
      "John и Kira\n",
      "Peter и Liza\n",
      "Richard и Trisha\n"
     ]
    }
   ],
   "source": [
    "boys = ['Peter', 'Alex', 'John', 'Arthur', 'Richard']\n",
    "girls = ['Kate', 'Liza', 'Kira', 'Emma', 'Trisha']\n",
    "\n",
    "if len(boys) == len(girls):\n",
    "    for index in range(len(boys)):\n",
    "        print(f'{sorted(boys)[index]} и {sorted(girls)[index]}')\n",
    "else:\n",
    "    print('Внимание, кто-то может остаться без пары!')"
   ]
  },
  {
   "cell_type": "markdown",
   "id": "3f5b5c1a",
   "metadata": {},
   "source": [
    "##### Задание 4\n",
    "У нас есть список, содержащий информацию о среднедневной температуре в Фаренгейтах за произвольный период по странам (структура данных в примере). Необходимо написать код, который рассчитает среднюю температуру за период в Цельсиях(!) для каждой страны."
   ]
  },
  {
   "cell_type": "code",
   "execution_count": 5,
   "id": "11b726a2",
   "metadata": {},
   "outputs": [],
   "source": [
    "countries_temperature = [\n",
    "    ['Thailand', [75.2, 77, 78.8, 73.4, 68, 75.2, 77]],\n",
    "    ['Germany', [57.2, 55.4, 59, 59, 53.6]],\n",
    "    ['Russia', [35.6, 37.4, 39.2, 41, 42.8, 39.2, 35.6]],\n",
    "    ['Poland', [50, 50, 53.6, 57.2, 55.4, 55.4]]\n",
    "]"
   ]
  },
  {
   "cell_type": "code",
   "execution_count": 6,
   "id": "2ed8f33e",
   "metadata": {},
   "outputs": [
    {
     "name": "stdout",
     "output_type": "stream",
     "text": [
      "Средняя температура в странах:\n",
      "Thailand - 23.9 ℃\n",
      "Germany - 13.8 ℃\n",
      "Russia - 3.7 ℃\n",
      "Poland - 12.0 ℃\n"
     ]
    }
   ],
   "source": [
    "print('Средняя температура в странах:')\n",
    "for country in countries_temperature:\n",
    "    avg_temp = sum(country[1]) / len(country[1])\n",
    "    celsius = round( (avg_temp - 32) / 1.8, 1 )\n",
    "    print(f'{country[0]} - {celsius} ℃')"
   ]
  }
 ],
 "metadata": {
  "kernelspec": {
   "display_name": "Python 3 (ipykernel)",
   "language": "python",
   "name": "python3"
  },
  "language_info": {
   "codemirror_mode": {
    "name": "ipython",
    "version": 3
   },
   "file_extension": ".py",
   "mimetype": "text/x-python",
   "name": "python",
   "nbconvert_exporter": "python",
   "pygments_lexer": "ipython3",
   "version": "3.9.7"
  }
 },
 "nbformat": 4,
 "nbformat_minor": 5
}
