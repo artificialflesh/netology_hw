{
 "cells": [
  {
   "cell_type": "markdown",
   "id": "183609ef",
   "metadata": {},
   "source": [
    "##### Задание 1\n",
    "Даны 2 переменных, в которых хранятся строки произвольной длины: phrase_1 и phrase_2.\n",
    "Напишите код, который проверяет какая из этих строк длиннее."
   ]
  },
  {
   "cell_type": "code",
   "execution_count": 1,
   "id": "1806ad59",
   "metadata": {},
   "outputs": [],
   "source": [
    "phrase_1 = 'Насколько проще было бы писать программы, если бы не заказчики'\n",
    "phrase_2 = '640Кб должно хватить для любых задач. Билл Гейтс (по легенде)'"
   ]
  },
  {
   "cell_type": "code",
   "execution_count": 2,
   "id": "c3503f8d",
   "metadata": {},
   "outputs": [
    {
     "name": "stdout",
     "output_type": "stream",
     "text": [
      "Фраза 1 длиннее фразы 2\n"
     ]
    }
   ],
   "source": [
    "if len(phrase_1) > len(phrase_2):\n",
    "    print(\"Фраза 1 длиннее фразы 2\")\n",
    "elif len(phrase_1) < len(phrase_2):\n",
    "    print(\"Фраза 2 длиннее фразы 1\")\n",
    "else:\n",
    "    print(\"Фразы равны\")"
   ]
  },
  {
   "cell_type": "markdown",
   "id": "ab68b6a8",
   "metadata": {},
   "source": [
    "##### Задание 2\n",
    "Дана переменная, в которой хранится число (год). Необходимо написать программу, которая выведет, является ли данный год високосным или обычным."
   ]
  },
  {
   "cell_type": "code",
   "execution_count": 3,
   "id": "8136a0d9",
   "metadata": {},
   "outputs": [
    {
     "name": "stdout",
     "output_type": "stream",
     "text": [
      "Введите год 2020\n",
      "Високосный год\n"
     ]
    }
   ],
   "source": [
    "year = int(input(\"Введите год \"))\n",
    "if year % 4 == 0 and year % 100 != 0 or year % 400 == 0:\n",
    "    print('Високосный год')\n",
    "else:\n",
    "    print('Обычный год')"
   ]
  },
  {
   "cell_type": "markdown",
   "id": "1f3ee506",
   "metadata": {},
   "source": [
    "##### Задание 3\n",
    "Необходимо написать программу, которая будет запрашивать у пользователя месяц и дату рождения и выводить соответствующий знак зодиака."
   ]
  },
  {
   "cell_type": "code",
   "execution_count": 4,
   "id": "80e1ea09",
   "metadata": {},
   "outputs": [
    {
     "name": "stdout",
     "output_type": "stream",
     "text": [
      "Введите месяц рождения август\n",
      "Введите день рождения 31\n",
      "Ваш знак зодиака: Дева\n"
     ]
    }
   ],
   "source": [
    "month = input(\"Введите месяц рождения \")\n",
    "day = int(input(\"Введите день рождения \"))\n",
    "\n",
    "if (day >= 22 and day <= 31 and month == \"декабрь\") or (day >= 1 and day <= 20 and month == \"январь\"):\n",
    "    print(\"Ваш знак зодиака: Козерог\")\n",
    "elif (day >= 21 and day <= 31 and month == \"январь\") or (day >= 1 and day <= 18 and month == \"февраль\"):\n",
    "    print(\"Ваш знак зодиака: Водолей\")\n",
    "elif (day >= 19 and day <= 29 and month == \"февраль\") or (day >= 1 and day <= 20 and month == \"март\"):\n",
    "    print(\"Ваш знак зодиака: Рыбы\")\n",
    "elif (day >= 21 and day <= 31 and month == \"март\") or (day >= 1 and day <= 20 and month == \"апрель\"):\n",
    "    print(\"Ваш знак зодиака: Овен\")\n",
    "elif (day >= 21 and day <= 30 and month == \"апрель\") or (day >= 1 and day <= 21 and month == \"май\"):\n",
    "    print(\"Ваш знак зодиака: Телец\")\n",
    "elif (day >= 22 and day <= 31 and month == \"май\") or (day >= 1 and day <= 21 and month == \"июнь\"):\n",
    "    print(\"Ваш знак зодиака: Близнецы\")\n",
    "elif (day >= 22 and day <= 30 and month == \"июнь\") or (day >= 1 and day <= 22 and month == \"июль\"):\n",
    "    print(\"Ваш знак зодиака: Рак\")\n",
    "elif (day >= 23 and day <= 31 and month == \"июль\") or (day >= 1 and day <= 23 and month == \"август\"):\n",
    "    print(\"Ваш знак зодиака: Лев\")\n",
    "elif (day >= 24 and day <= 31 and month == \"август\") or (day >= 1 and day <= 22 and month == \"сентябрь\"):\n",
    "    print(\"Ваш знак зодиака: Дева\")\n",
    "elif (day >= 23 and day <= 30 and month == \"сентябрь\") or (day >= 1 and day <= 23 and month == \"октябрь\"):\n",
    "    print(\"Ваш знак зодиака: Весы\")\n",
    "elif (day >= 24 and day <= 31 and month == \"октябрь\") or (day >= 1 and day <= 22 and month == \"ноябрь\"):\n",
    "    print(\"Ваш знак зодиака: Скорпион\")\n",
    "elif (day >= 23 and day <= 30 and month == \"ноябрь\") or (day >= 1 and day <= 21 and month == \"декабрь\"):\n",
    "    print(\"Ваш знак зодиака: Стрелец\")"
   ]
  },
  {
   "cell_type": "code",
   "execution_count": 5,
   "id": "ae729190",
   "metadata": {},
   "outputs": [
    {
     "name": "stdout",
     "output_type": "stream",
     "text": [
      "Введите месяц рождения август\n",
      "Введите день рождения 31\n",
      "Дева\n"
     ]
    }
   ],
   "source": [
    "# второй вариант решения\n",
    "month = input(\"Введите месяц рождения \")\n",
    "day = int(input(\"Введите день рождения \"))\n",
    "\n",
    "signs = {\"март\": (21, \"Рыбы\", \"Овен\"), \"апрель\": (21, \"Овен\", \"Телец\"), \"май\": (22, \"Телец\", \"Близнецы\"),\n",
    "        \"июнь\": (22, \"Близнецы\", \"Рак\"), \"июль\": (23, \"Рак\", \"Лев\"), \"август\": (24, \"Лев\", \"Дева\"),\n",
    "        \"сентябрь\": (24, \"Дева\", \"Весы\"), \"октябрь\": (24, \"Весы\", \"Скорпион\"),\n",
    "        \"ноябрь\": (23, \"Скорпион\", \"Стрелец\"), \"декабрь\": (23, \"Стрелец\", \"Козерог\"),\n",
    "        \"январь\": (21, \"Козерог\", \"Водолей\"), \"февраль\": (20, \"Водолей\",\"Рыбы\")}\n",
    "\n",
    "if (day >= signs[month][0]):\n",
    "   print(signs[month][2])\n",
    "else:\n",
    "   print(signs[month][1])"
   ]
  },
  {
   "cell_type": "markdown",
   "id": "66fe401f",
   "metadata": {},
   "source": [
    "##### Задание 4\n",
    "Вам нужно написать программу для подбора упаковок по размерам товара. Размеры (ширина, длина, высота) хранятся в переменных (в сантиметрах):\n",
    "\n",
    "Используйте следующие правила:\n",
    "\n",
    "- если каждое из трех измерений менее или равно 15 сантиметрам, то выведите на экран \"Коробка №1\";\n",
    "- если хотя бы одно из измерений больше 15 сантиметров, но менее 50 сантиметров, то выводите \"Коробка №2\";\n",
    "- если длина товара больше 2 метров, то выводите \"Упаковка для лыж\";\n",
    "- во всех остальных случаях выводите \"Стандартная коробка №3\"."
   ]
  },
  {
   "cell_type": "code",
   "execution_count": 6,
   "id": "88e67246",
   "metadata": {},
   "outputs": [
    {
     "name": "stdout",
     "output_type": "stream",
     "text": [
      "Введите ширину 205\n",
      "Введите длину 34\n",
      "Введите высоту 23\n",
      "Коробка №2\n"
     ]
    }
   ],
   "source": [
    "width = int(input(\"Введите ширину \"))\n",
    "length = int(input(\"Введите длину \"))\n",
    "height = int(input(\"Введите высоту \"))\n",
    "\n",
    "if width <= 15 and length <= 15 and height <= 15:\n",
    "    print(\"Коробка №1\")\n",
    "elif length > 200:\n",
    "    print(\"Упаковка для лыж\")\n",
    "elif (length > 15 and length < 50) or (width > 15 and width < 50) or (height > 15 and height < 50):\n",
    "    print(\"Коробка №2\")\n",
    "else:\n",
    "    print(\"Стандартная коробка №3\")"
   ]
  }
 ],
 "metadata": {
  "kernelspec": {
   "display_name": "Python 3 (ipykernel)",
   "language": "python",
   "name": "python3"
  },
  "language_info": {
   "codemirror_mode": {
    "name": "ipython",
    "version": 3
   },
   "file_extension": ".py",
   "mimetype": "text/x-python",
   "name": "python",
   "nbconvert_exporter": "python",
   "pygments_lexer": "ipython3",
   "version": "3.9.7"
  }
 },
 "nbformat": 4,
 "nbformat_minor": 5
}
