{
 "cells": [
  {
   "cell_type": "markdown",
   "id": "2effa257",
   "metadata": {},
   "source": [
    "##### Задание 1\n",
    "Печатные газеты использовали свой формат дат для каждого выпуска. Для каждой газеты из списка напишите формат указанной даты для перевода в объект datetime:\n",
    "<br>The Moscow Times - Wednesday, October 2, 2002\n",
    "<br>The Guardian - Friday, 11.10.13\n",
    "<br>Daily News - Thursday, 18 August 1977"
   ]
  },
  {
   "cell_type": "code",
   "execution_count": 1,
   "id": "045dced7",
   "metadata": {},
   "outputs": [],
   "source": [
    "from datetime import datetime"
   ]
  },
  {
   "cell_type": "code",
   "execution_count": 2,
   "id": "4a85ce63",
   "metadata": {},
   "outputs": [],
   "source": [
    "newspaper_1 = 'The Moscow Times - Wednesday, October 2, 2002'\n",
    "newspaper_2 = 'The Guardian - Friday, 11.10.13'\n",
    "newspaper_3 = 'Daily News - Thursday, 18 August 1977'"
   ]
  },
  {
   "cell_type": "code",
   "execution_count": 3,
   "id": "7af66879",
   "metadata": {},
   "outputs": [],
   "source": [
    "moscow_times = newspaper_1.split(' - ')[1]\n",
    "guardian = newspaper_2.split(' - ')[1]\n",
    "daily_news = newspaper_3.split(' - ')[1]"
   ]
  },
  {
   "cell_type": "code",
   "execution_count": 4,
   "id": "fe0006e0",
   "metadata": {},
   "outputs": [
    {
     "data": {
      "text/plain": [
       "datetime.datetime(2002, 10, 2, 0, 0)"
      ]
     },
     "execution_count": 4,
     "metadata": {},
     "output_type": "execute_result"
    }
   ],
   "source": [
    "moscow_times_dt = datetime.strptime(moscow_times, '%A, %B %d, %Y')\n",
    "moscow_times_dt"
   ]
  },
  {
   "cell_type": "code",
   "execution_count": 5,
   "id": "2037c220",
   "metadata": {},
   "outputs": [
    {
     "data": {
      "text/plain": [
       "datetime.datetime(2013, 10, 11, 0, 0)"
      ]
     },
     "execution_count": 5,
     "metadata": {},
     "output_type": "execute_result"
    }
   ],
   "source": [
    "guardian_dt = datetime.strptime(guardian, '%A, %d.%m.%y')\n",
    "if guardian_dt.strftime('%A') != guardian.split(',')[0]:\n",
    "    guardian_dt = datetime.strptime(guardian, '%A, %m.%d.%y')\n",
    "guardian_dt"
   ]
  },
  {
   "cell_type": "code",
   "execution_count": 6,
   "id": "46ad8725",
   "metadata": {},
   "outputs": [
    {
     "data": {
      "text/plain": [
       "datetime.datetime(1977, 8, 18, 0, 0)"
      ]
     },
     "execution_count": 6,
     "metadata": {},
     "output_type": "execute_result"
    }
   ],
   "source": [
    "daily_news_dt = datetime.strptime(daily_news, '%A, %d %B %Y')\n",
    "daily_news_dt"
   ]
  },
  {
   "cell_type": "markdown",
   "id": "841df154",
   "metadata": {},
   "source": [
    "##### Задание 2\n",
    "Дан поток дат в формате YYYY-MM-DD, в которых встречаются некорректные значения:\n",
    "```python\n",
    "stream = ['2018-04-02', '2018-02-29', '2018-19-02']\n",
    "```\n",
    "Напишите функцию, которая проверяет эти даты на корректность. Т. е. для каждой даты возвращает True (дата корректна) или False (некорректная дата)."
   ]
  },
  {
   "cell_type": "code",
   "execution_count": 7,
   "id": "499b1c62",
   "metadata": {},
   "outputs": [],
   "source": [
    "from datetime import datetime"
   ]
  },
  {
   "cell_type": "code",
   "execution_count": 8,
   "id": "563c0c82",
   "metadata": {},
   "outputs": [],
   "source": [
    "stream = ['2018-04-02', '2018-02-29', '2018-19-02']"
   ]
  },
  {
   "cell_type": "code",
   "execution_count": 9,
   "id": "b29ff08e",
   "metadata": {},
   "outputs": [],
   "source": [
    "def date_checker(date):\n",
    "    try:\n",
    "        datetime.strptime(date, '%Y-%m-%d')\n",
    "        return True\n",
    "    except:\n",
    "        return False"
   ]
  },
  {
   "cell_type": "code",
   "execution_count": 10,
   "id": "050f6194",
   "metadata": {},
   "outputs": [
    {
     "data": {
      "text/plain": [
       "[True, False, False]"
      ]
     },
     "execution_count": 10,
     "metadata": {},
     "output_type": "execute_result"
    }
   ],
   "source": [
    "list(map(date_checker, stream))"
   ]
  },
  {
   "cell_type": "markdown",
   "id": "18e35b14",
   "metadata": {},
   "source": [
    "##### Задание 3\n",
    "Напишите функцию date_range, которая возвращает список дат за период от start_date до end_date. Даты должны вводиться в формате YYYY-MM-DD. В случае неверного формата или при start_date > end_date должен возвращаться пустой список."
   ]
  },
  {
   "cell_type": "code",
   "execution_count": 11,
   "id": "b4a1c2de",
   "metadata": {},
   "outputs": [],
   "source": [
    "from datetime import datetime, timedelta"
   ]
  },
  {
   "cell_type": "code",
   "execution_count": 12,
   "id": "f9814ad4",
   "metadata": {},
   "outputs": [],
   "source": [
    "start_date = '2022-02-27'\n",
    "end_date = '2022-03-01'"
   ]
  },
  {
   "cell_type": "code",
   "execution_count": 13,
   "id": "bc26ba07",
   "metadata": {},
   "outputs": [],
   "source": [
    "def date_range(start, end):\n",
    "    list_ = []\n",
    "    try:\n",
    "        start_datetime = datetime.strptime(start, '%Y-%m-%d')\n",
    "        end_datetime = datetime.strptime(end, '%Y-%m-%d')\n",
    "        for n in range((end_datetime - start_datetime).days + 1):\n",
    "            list_.append((start_datetime + timedelta(n)).strftime('%Y-%m-%d'))\n",
    "        return list_\n",
    "    except:\n",
    "        return []"
   ]
  },
  {
   "cell_type": "code",
   "execution_count": 14,
   "id": "b03101c8",
   "metadata": {},
   "outputs": [
    {
     "data": {
      "text/plain": [
       "['2022-02-27', '2022-02-28', '2022-03-01']"
      ]
     },
     "execution_count": 14,
     "metadata": {},
     "output_type": "execute_result"
    }
   ],
   "source": [
    "date_range(start_date, end_date)"
   ]
  },
  {
   "cell_type": "markdown",
   "id": "756fda69",
   "metadata": {},
   "source": [
    "##### Задание 4\n",
    "Ваш коллега прислал код функции:\n",
    "```python\n",
    "DEFAULT_USER_COUNT = 3\n",
    "\n",
    "def delete_and_return_last_user(region, default_list=['A100', 'A101', 'A102']):\n",
    "    \"\"\"\n",
    "    Удаляет из списка default_list последнего пользователя\n",
    "    и возвращает ID нового последнего пользователя.\n",
    "    \"\"\"\n",
    "    element_to_delete = default_list[-1]\n",
    "    default_list.remove(element_to_delete)\n",
    "\n",
    "    return default_list[DEFAULT_USER_COUNT-2]\n",
    "```\n",
    "При однократном вызове этой функции все работает корректно:\n",
    "```python\n",
    "delete_and_return_last_user(1)\n",
    "'A101'\n",
    "```\n",
    "Однако, при повторном вызове получается ошибка IndexError: list index out of range.\n",
    "\n",
    "Задание:\n",
    "1. Что значит ошибка list index out of range?\n",
    "2. Почему при первом запуске функция работает корректно, а при втором - нет?"
   ]
  },
  {
   "cell_type": "code",
   "execution_count": 15,
   "id": "8d9dbcd3",
   "metadata": {},
   "outputs": [],
   "source": [
    "DEFAULT_USER_COUNT = 3"
   ]
  },
  {
   "cell_type": "code",
   "execution_count": 16,
   "id": "9511f53e",
   "metadata": {},
   "outputs": [],
   "source": [
    "def delete_and_return_last_user(region, default_list=['A100', 'A101', 'A102']):\n",
    "    \"\"\"\n",
    "    Удаляет из списка default_list последнего пользователя \n",
    "    и возвращает ID нового последнего пользователя.\n",
    "    \"\"\"\n",
    "    element_to_delete = default_list[-1]\n",
    "    default_list.remove(element_to_delete)\n",
    "    \n",
    "    return default_list[DEFAULT_USER_COUNT-2]"
   ]
  },
  {
   "cell_type": "code",
   "execution_count": 17,
   "id": "7e0a4136",
   "metadata": {
    "scrolled": true
   },
   "outputs": [
    {
     "data": {
      "text/plain": [
       "'A101'"
      ]
     },
     "execution_count": 17,
     "metadata": {},
     "output_type": "execute_result"
    }
   ],
   "source": [
    "delete_and_return_last_user(1)"
   ]
  },
  {
   "cell_type": "markdown",
   "id": "440c5cac",
   "metadata": {},
   "source": [
    "1. Ошибка list index out of range значит, что был указан индекс, выходящий за пределы диапазона списка (например, в списке 3 элемента, а мы указали в индексе элемент 5, которого в этом списке просто нет).\n",
    "2. При первом запуске удаляется элемент 'A102' и функция возвращает элемент [DEFAULT_USER_COUNT-2], что соответствует [1], как указано в return функции. Поскольку в default_list на этот момент есть элемент с таким индексом, мы получаем 'A101' из списка.<br>\n",
    "При повторном запуске удаляется 'A101' и в списке остается всего один элемент с индексом [0], поэтому при попытке получить в return элемент с индексом [DEFAULT_USER_COUNT-2] равным [1] функция работает некорректно."
   ]
  }
 ],
 "metadata": {
  "kernelspec": {
   "display_name": "Python 3 (ipykernel)",
   "language": "python",
   "name": "python3"
  },
  "language_info": {
   "codemirror_mode": {
    "name": "ipython",
    "version": 3
   },
   "file_extension": ".py",
   "mimetype": "text/x-python",
   "name": "python",
   "nbconvert_exporter": "python",
   "pygments_lexer": "ipython3",
   "version": "3.9.7"
  }
 },
 "nbformat": 4,
 "nbformat_minor": 5
}
