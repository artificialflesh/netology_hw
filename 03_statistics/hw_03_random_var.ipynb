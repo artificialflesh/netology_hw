{
 "cells": [
  {
   "cell_type": "code",
   "execution_count": 1,
   "id": "513ef083",
   "metadata": {},
   "outputs": [],
   "source": [
    "import numpy as np"
   ]
  },
  {
   "cell_type": "markdown",
   "id": "e3e2cb27",
   "metadata": {},
   "source": [
    "Смоделировать игру против лотерейного автомата типа \"777\". Игрок платит 1 руб., после чего выпадает случайное целое число, равномерно распределенное от 0 до 999. При некоторых значениях числа игрок получает выигрыш\n",
    "- Выгодна ли игра игроку? \n",
    "- Сколько в среднем приобретает или теряет игрок за одну игру?\n",
    "\n",
    "777: 200 руб.\n",
    "\n",
    "999: 100 руб.\n",
    "\n",
    "555: 50 руб.\n",
    "\n",
    "333: 15 руб.\n",
    "\n",
    "111: 10 руб.\n",
    "\n",
    "*77: 5 руб.\n",
    "\n",
    "\\**7: 3 руб.\n",
    "\n",
    "*00: 2 руб.\n",
    "\n",
    "\\**0: 1 руб.\n",
    "\n",
    "\\* – любая цифра\n",
    "\n",
    "Дополнительное задание повышенной сложности.\n",
    "\n",
    "Теоретически рассчитать средний выигрыш (проигрыш) и сравнить с результатами моделирования"
   ]
  },
  {
   "cell_type": "code",
   "execution_count": 2,
   "id": "ffa26ea0",
   "metadata": {},
   "outputs": [
    {
     "name": "stdout",
     "output_type": "stream",
     "text": [
      "0.203911\n",
      "807461\n"
     ]
    }
   ],
   "source": [
    "attempts = 1000000\n",
    "price = 1\n",
    "reward = 0\n",
    "successes = 0\n",
    "\n",
    "for i in range(attempts):\n",
    "    n = np.random.randint(0, 1000)\n",
    "    \n",
    "    if n == 777:\n",
    "        reward += 200\n",
    "        successes += 1\n",
    "    elif n == 999:\n",
    "        reward += 100\n",
    "        successes += 1\n",
    "    elif n == 555:\n",
    "        reward += 50\n",
    "        successes += 1\n",
    "    elif n == 333:\n",
    "        reward += 15\n",
    "        successes += 1\n",
    "    elif n == 111:\n",
    "        reward += 10\n",
    "        successes += 1\n",
    "    elif n % 100 == 77:\n",
    "        reward += 5\n",
    "        successes += 1\n",
    "    elif n % 10 == 7:\n",
    "        reward += 3\n",
    "        successes += 1\n",
    "    elif n % 100 == 0:\n",
    "        reward += 2\n",
    "        successes += 1\n",
    "    elif n % 10 == 0:\n",
    "        reward += 1\n",
    "        successes += 1\n",
    "    else:\n",
    "        reward += 0\n",
    "        \n",
    "print(successes/attempts)\n",
    "print(reward)"
   ]
  },
  {
   "cell_type": "markdown",
   "id": "c6005305",
   "metadata": {},
   "source": [
    "Игра игроку не выгодна.\n",
    "\n",
    "В среднем за одну игру игрок теряет около 20 копеек с 1 рубля."
   ]
  },
  {
   "cell_type": "markdown",
   "id": "3bee71fa",
   "metadata": {},
   "source": [
    "Вариации выигрышных чисел:\n",
    "\n",
    "777: 1\n",
    "\n",
    "999: 1\n",
    "\n",
    "555: 1\n",
    "\n",
    "333: 1\n",
    "\n",
    "111: 1\n",
    "\n",
    "*77: 9\n",
    "\n",
    "\\**7: 90\n",
    "\n",
    "*00: 10\n",
    "\n",
    "\\**0: 90"
   ]
  },
  {
   "cell_type": "code",
   "execution_count": 3,
   "id": "08ede43c",
   "metadata": {},
   "outputs": [
    {
     "data": {
      "text/plain": [
       "0.8"
      ]
     },
     "execution_count": 3,
     "metadata": {},
     "output_type": "execute_result"
    }
   ],
   "source": [
    "total_probability = 200*0.001 + 100*0.001 + 50*0.001 + 15*0.001 + 10*0.001 + 5*0.009 + 3*0.09 + 2*0.01 + 0.09\n",
    "total_probability"
   ]
  },
  {
   "cell_type": "markdown",
   "id": "02a08f07",
   "metadata": {},
   "source": [
    "Теоретический рассчет сходится с результатами моделирования."
   ]
  }
 ],
 "metadata": {
  "kernelspec": {
   "display_name": "Python 3 (ipykernel)",
   "language": "python",
   "name": "python3"
  },
  "language_info": {
   "codemirror_mode": {
    "name": "ipython",
    "version": 3
   },
   "file_extension": ".py",
   "mimetype": "text/x-python",
   "name": "python",
   "nbconvert_exporter": "python",
   "pygments_lexer": "ipython3",
   "version": "3.9.7"
  }
 },
 "nbformat": 4,
 "nbformat_minor": 5
}
