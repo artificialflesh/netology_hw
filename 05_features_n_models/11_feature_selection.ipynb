{
 "cells": [
  {
   "cell_type": "code",
   "execution_count": 1,
   "metadata": {
    "executionInfo": {
     "elapsed": 2100,
     "status": "ok",
     "timestamp": 1700067772536,
     "user": {
      "displayName": "artificial flesh",
      "userId": "00780849165661762341"
     },
     "user_tz": -300
    },
    "id": "3Ren1kyNCp_T"
   },
   "outputs": [],
   "source": [
    "import pandas as pd\n",
    "import numpy as np\n",
    "import seaborn as sns\n",
    "import matplotlib.pyplot as plt\n",
    "from sklearn.datasets import make_classification\n",
    "from sklearn.linear_model import LogisticRegression\n",
    "from sklearn.model_selection import cross_val_score\n",
    "from sklearn.ensemble import RandomForestClassifier\n",
    "from sklearn.svm import SVC\n",
    "from sklearn.feature_selection import VarianceThreshold, SelectKBest, SelectFromModel, SequentialFeatureSelector"
   ]
  },
  {
   "cell_type": "markdown",
   "metadata": {
    "id": "FlGMJYN6C4xT"
   },
   "source": [
    "В домашнем задании нужно решить задачу классификации точек наиболее эффективно. Для этого в работе необходимо применить различные методы по отбору признаков. Отбор признаков предпочтительнее осуществлять основываясь на математическом аппарате, поэтому данные для этого задания будут сгенерированы, чтобы избежать признаков с физическим смыслом."
   ]
  },
  {
   "cell_type": "markdown",
   "metadata": {
    "id": "nJU5W4qfC54w"
   },
   "source": [
    "1. Сгенерируйте данные с помощью кода:\n",
    "```\n",
    "from sklearn.datasets import make_classification  \n",
    "x_data_generated, y_data_generated = make_classification(scale=1)\n",
    "```\n",
    "\n"
   ]
  },
  {
   "cell_type": "code",
   "execution_count": 2,
   "metadata": {
    "executionInfo": {
     "elapsed": 10,
     "status": "ok",
     "timestamp": 1700067772536,
     "user": {
      "displayName": "artificial flesh",
      "userId": "00780849165661762341"
     },
     "user_tz": -300
    },
    "id": "Iv70kI_XDH-w"
   },
   "outputs": [],
   "source": [
    "X, y = make_classification(scale=1, random_state=42)"
   ]
  },
  {
   "cell_type": "code",
   "execution_count": 3,
   "metadata": {
    "executionInfo": {
     "elapsed": 11,
     "status": "ok",
     "timestamp": 1700067772537,
     "user": {
      "displayName": "artificial flesh",
      "userId": "00780849165661762341"
     },
     "user_tz": -300
    },
    "id": "7doWy7XoLx2X"
   },
   "outputs": [],
   "source": [
    "df = pd.DataFrame(X)\n",
    "df['target'] = y"
   ]
  },
  {
   "cell_type": "code",
   "execution_count": 4,
   "metadata": {
    "colab": {
     "base_uri": "https://localhost:8080/",
     "height": 443
    },
    "executionInfo": {
     "elapsed": 11,
     "status": "ok",
     "timestamp": 1700067772537,
     "user": {
      "displayName": "artificial flesh",
      "userId": "00780849165661762341"
     },
     "user_tz": -300
    },
    "id": "iOrCOVpPUzg6",
    "outputId": "bf2f1396-58da-4f23-e89b-5ef7e78918c6"
   },
   "outputs": [
    {
     "data": {
      "text/html": [
       "<div>\n",
       "<style scoped>\n",
       "    .dataframe tbody tr th:only-of-type {\n",
       "        vertical-align: middle;\n",
       "    }\n",
       "\n",
       "    .dataframe tbody tr th {\n",
       "        vertical-align: top;\n",
       "    }\n",
       "\n",
       "    .dataframe thead th {\n",
       "        text-align: right;\n",
       "    }\n",
       "</style>\n",
       "<table border=\"1\" class=\"dataframe\">\n",
       "  <thead>\n",
       "    <tr style=\"text-align: right;\">\n",
       "      <th></th>\n",
       "      <th>0</th>\n",
       "      <th>1</th>\n",
       "      <th>2</th>\n",
       "      <th>3</th>\n",
       "      <th>4</th>\n",
       "      <th>5</th>\n",
       "      <th>6</th>\n",
       "      <th>7</th>\n",
       "      <th>8</th>\n",
       "      <th>9</th>\n",
       "      <th>...</th>\n",
       "      <th>11</th>\n",
       "      <th>12</th>\n",
       "      <th>13</th>\n",
       "      <th>14</th>\n",
       "      <th>15</th>\n",
       "      <th>16</th>\n",
       "      <th>17</th>\n",
       "      <th>18</th>\n",
       "      <th>19</th>\n",
       "      <th>target</th>\n",
       "    </tr>\n",
       "  </thead>\n",
       "  <tbody>\n",
       "    <tr>\n",
       "      <th>0</th>\n",
       "      <td>-2.025143</td>\n",
       "      <td>0.029102</td>\n",
       "      <td>-0.474945</td>\n",
       "      <td>-0.114736</td>\n",
       "      <td>0.504987</td>\n",
       "      <td>0.088962</td>\n",
       "      <td>0.404982</td>\n",
       "      <td>-0.653329</td>\n",
       "      <td>0.186454</td>\n",
       "      <td>-0.661786</td>\n",
       "      <td>...</td>\n",
       "      <td>2.143944</td>\n",
       "      <td>1.765454</td>\n",
       "      <td>0.852433</td>\n",
       "      <td>0.633919</td>\n",
       "      <td>0.087142</td>\n",
       "      <td>-0.792521</td>\n",
       "      <td>-0.334501</td>\n",
       "      <td>0.865755</td>\n",
       "      <td>-1.200296</td>\n",
       "      <td>0</td>\n",
       "    </tr>\n",
       "    <tr>\n",
       "      <th>1</th>\n",
       "      <td>1.613711</td>\n",
       "      <td>0.659924</td>\n",
       "      <td>-0.150056</td>\n",
       "      <td>-1.227608</td>\n",
       "      <td>0.597400</td>\n",
       "      <td>0.865620</td>\n",
       "      <td>0.015579</td>\n",
       "      <td>0.125576</td>\n",
       "      <td>0.453534</td>\n",
       "      <td>-0.244157</td>\n",
       "      <td>...</td>\n",
       "      <td>0.321357</td>\n",
       "      <td>-0.173072</td>\n",
       "      <td>0.964087</td>\n",
       "      <td>0.421921</td>\n",
       "      <td>0.963360</td>\n",
       "      <td>1.189470</td>\n",
       "      <td>1.375707</td>\n",
       "      <td>0.701173</td>\n",
       "      <td>-0.297564</td>\n",
       "      <td>0</td>\n",
       "    </tr>\n",
       "    <tr>\n",
       "      <th>2</th>\n",
       "      <td>0.166452</td>\n",
       "      <td>0.950573</td>\n",
       "      <td>1.420504</td>\n",
       "      <td>-0.530997</td>\n",
       "      <td>-0.623141</td>\n",
       "      <td>-2.255540</td>\n",
       "      <td>0.471416</td>\n",
       "      <td>-0.570746</td>\n",
       "      <td>0.492451</td>\n",
       "      <td>0.289169</td>\n",
       "      <td>...</td>\n",
       "      <td>-1.122722</td>\n",
       "      <td>-0.832356</td>\n",
       "      <td>2.455300</td>\n",
       "      <td>0.382410</td>\n",
       "      <td>-1.692005</td>\n",
       "      <td>-0.637740</td>\n",
       "      <td>1.189017</td>\n",
       "      <td>-0.555477</td>\n",
       "      <td>-0.637387</td>\n",
       "      <td>1</td>\n",
       "    </tr>\n",
       "    <tr>\n",
       "      <th>3</th>\n",
       "      <td>0.698223</td>\n",
       "      <td>-0.320670</td>\n",
       "      <td>1.735964</td>\n",
       "      <td>-0.535235</td>\n",
       "      <td>1.317394</td>\n",
       "      <td>-1.146581</td>\n",
       "      <td>-0.483886</td>\n",
       "      <td>0.197911</td>\n",
       "      <td>0.393485</td>\n",
       "      <td>0.895193</td>\n",
       "      <td>...</td>\n",
       "      <td>0.059630</td>\n",
       "      <td>-0.651418</td>\n",
       "      <td>0.635172</td>\n",
       "      <td>-0.646937</td>\n",
       "      <td>-1.106450</td>\n",
       "      <td>1.049553</td>\n",
       "      <td>-0.689188</td>\n",
       "      <td>0.197600</td>\n",
       "      <td>2.075261</td>\n",
       "      <td>1</td>\n",
       "    </tr>\n",
       "    <tr>\n",
       "      <th>4</th>\n",
       "      <td>0.179894</td>\n",
       "      <td>-0.222100</td>\n",
       "      <td>0.105376</td>\n",
       "      <td>0.940771</td>\n",
       "      <td>-0.982487</td>\n",
       "      <td>1.560103</td>\n",
       "      <td>0.319782</td>\n",
       "      <td>-1.334025</td>\n",
       "      <td>1.392002</td>\n",
       "      <td>0.918317</td>\n",
       "      <td>...</td>\n",
       "      <td>-0.988591</td>\n",
       "      <td>-0.601368</td>\n",
       "      <td>-1.570501</td>\n",
       "      <td>-1.103589</td>\n",
       "      <td>1.303736</td>\n",
       "      <td>-0.989628</td>\n",
       "      <td>-0.968344</td>\n",
       "      <td>-0.224633</td>\n",
       "      <td>0.550052</td>\n",
       "      <td>0</td>\n",
       "    </tr>\n",
       "    <tr>\n",
       "      <th>...</th>\n",
       "      <td>...</td>\n",
       "      <td>...</td>\n",
       "      <td>...</td>\n",
       "      <td>...</td>\n",
       "      <td>...</td>\n",
       "      <td>...</td>\n",
       "      <td>...</td>\n",
       "      <td>...</td>\n",
       "      <td>...</td>\n",
       "      <td>...</td>\n",
       "      <td>...</td>\n",
       "      <td>...</td>\n",
       "      <td>...</td>\n",
       "      <td>...</td>\n",
       "      <td>...</td>\n",
       "      <td>...</td>\n",
       "      <td>...</td>\n",
       "      <td>...</td>\n",
       "      <td>...</td>\n",
       "      <td>...</td>\n",
       "      <td>...</td>\n",
       "    </tr>\n",
       "    <tr>\n",
       "      <th>95</th>\n",
       "      <td>-1.534114</td>\n",
       "      <td>1.431401</td>\n",
       "      <td>-0.248964</td>\n",
       "      <td>0.115675</td>\n",
       "      <td>1.179297</td>\n",
       "      <td>-1.367164</td>\n",
       "      <td>1.368632</td>\n",
       "      <td>0.971571</td>\n",
       "      <td>1.277677</td>\n",
       "      <td>0.332314</td>\n",
       "      <td>...</td>\n",
       "      <td>0.711615</td>\n",
       "      <td>0.645376</td>\n",
       "      <td>-0.748487</td>\n",
       "      <td>-1.124642</td>\n",
       "      <td>-0.763516</td>\n",
       "      <td>1.551152</td>\n",
       "      <td>1.755341</td>\n",
       "      <td>0.067518</td>\n",
       "      <td>2.060748</td>\n",
       "      <td>0</td>\n",
       "    </tr>\n",
       "    <tr>\n",
       "      <th>96</th>\n",
       "      <td>-0.220964</td>\n",
       "      <td>-0.545612</td>\n",
       "      <td>-0.571179</td>\n",
       "      <td>-0.681984</td>\n",
       "      <td>-1.001620</td>\n",
       "      <td>-0.921694</td>\n",
       "      <td>0.924634</td>\n",
       "      <td>0.572583</td>\n",
       "      <td>0.026886</td>\n",
       "      <td>0.208383</td>\n",
       "      <td>...</td>\n",
       "      <td>1.503398</td>\n",
       "      <td>1.399355</td>\n",
       "      <td>-2.041735</td>\n",
       "      <td>0.877362</td>\n",
       "      <td>-0.977637</td>\n",
       "      <td>-0.247177</td>\n",
       "      <td>0.640843</td>\n",
       "      <td>-0.281100</td>\n",
       "      <td>1.797687</td>\n",
       "      <td>1</td>\n",
       "    </tr>\n",
       "    <tr>\n",
       "      <th>97</th>\n",
       "      <td>-0.039555</td>\n",
       "      <td>-1.604993</td>\n",
       "      <td>0.222134</td>\n",
       "      <td>-0.516045</td>\n",
       "      <td>0.096121</td>\n",
       "      <td>-0.021852</td>\n",
       "      <td>-0.894607</td>\n",
       "      <td>-0.478749</td>\n",
       "      <td>0.681501</td>\n",
       "      <td>0.028318</td>\n",
       "      <td>...</td>\n",
       "      <td>-1.081057</td>\n",
       "      <td>1.255756</td>\n",
       "      <td>0.029756</td>\n",
       "      <td>1.053153</td>\n",
       "      <td>-0.511036</td>\n",
       "      <td>0.938284</td>\n",
       "      <td>-0.309172</td>\n",
       "      <td>-0.462275</td>\n",
       "      <td>-0.434496</td>\n",
       "      <td>1</td>\n",
       "    </tr>\n",
       "    <tr>\n",
       "      <th>98</th>\n",
       "      <td>1.085896</td>\n",
       "      <td>1.203166</td>\n",
       "      <td>-0.609512</td>\n",
       "      <td>0.557810</td>\n",
       "      <td>0.010353</td>\n",
       "      <td>0.417673</td>\n",
       "      <td>0.529693</td>\n",
       "      <td>-0.186971</td>\n",
       "      <td>0.474698</td>\n",
       "      <td>-0.025027</td>\n",
       "      <td>...</td>\n",
       "      <td>0.028181</td>\n",
       "      <td>0.056650</td>\n",
       "      <td>0.817766</td>\n",
       "      <td>-0.009119</td>\n",
       "      <td>0.735948</td>\n",
       "      <td>1.390208</td>\n",
       "      <td>-0.305225</td>\n",
       "      <td>-1.311836</td>\n",
       "      <td>-1.065114</td>\n",
       "      <td>0</td>\n",
       "    </tr>\n",
       "    <tr>\n",
       "      <th>99</th>\n",
       "      <td>-0.006071</td>\n",
       "      <td>1.308576</td>\n",
       "      <td>-0.174960</td>\n",
       "      <td>-0.290275</td>\n",
       "      <td>0.267392</td>\n",
       "      <td>0.360170</td>\n",
       "      <td>-0.898468</td>\n",
       "      <td>-0.755745</td>\n",
       "      <td>0.838491</td>\n",
       "      <td>0.081829</td>\n",
       "      <td>...</td>\n",
       "      <td>0.388579</td>\n",
       "      <td>0.536510</td>\n",
       "      <td>-0.098890</td>\n",
       "      <td>2.493000</td>\n",
       "      <td>0.717686</td>\n",
       "      <td>0.919076</td>\n",
       "      <td>0.992042</td>\n",
       "      <td>0.321698</td>\n",
       "      <td>-0.668090</td>\n",
       "      <td>0</td>\n",
       "    </tr>\n",
       "  </tbody>\n",
       "</table>\n",
       "<p>100 rows × 21 columns</p>\n",
       "</div>"
      ],
      "text/plain": [
       "           0         1         2         3         4         5         6  \\\n",
       "0  -2.025143  0.029102 -0.474945 -0.114736  0.504987  0.088962  0.404982   \n",
       "1   1.613711  0.659924 -0.150056 -1.227608  0.597400  0.865620  0.015579   \n",
       "2   0.166452  0.950573  1.420504 -0.530997 -0.623141 -2.255540  0.471416   \n",
       "3   0.698223 -0.320670  1.735964 -0.535235  1.317394 -1.146581 -0.483886   \n",
       "4   0.179894 -0.222100  0.105376  0.940771 -0.982487  1.560103  0.319782   \n",
       "..       ...       ...       ...       ...       ...       ...       ...   \n",
       "95 -1.534114  1.431401 -0.248964  0.115675  1.179297 -1.367164  1.368632   \n",
       "96 -0.220964 -0.545612 -0.571179 -0.681984 -1.001620 -0.921694  0.924634   \n",
       "97 -0.039555 -1.604993  0.222134 -0.516045  0.096121 -0.021852 -0.894607   \n",
       "98  1.085896  1.203166 -0.609512  0.557810  0.010353  0.417673  0.529693   \n",
       "99 -0.006071  1.308576 -0.174960 -0.290275  0.267392  0.360170 -0.898468   \n",
       "\n",
       "           7         8         9  ...        11        12        13        14  \\\n",
       "0  -0.653329  0.186454 -0.661786  ...  2.143944  1.765454  0.852433  0.633919   \n",
       "1   0.125576  0.453534 -0.244157  ...  0.321357 -0.173072  0.964087  0.421921   \n",
       "2  -0.570746  0.492451  0.289169  ... -1.122722 -0.832356  2.455300  0.382410   \n",
       "3   0.197911  0.393485  0.895193  ...  0.059630 -0.651418  0.635172 -0.646937   \n",
       "4  -1.334025  1.392002  0.918317  ... -0.988591 -0.601368 -1.570501 -1.103589   \n",
       "..       ...       ...       ...  ...       ...       ...       ...       ...   \n",
       "95  0.971571  1.277677  0.332314  ...  0.711615  0.645376 -0.748487 -1.124642   \n",
       "96  0.572583  0.026886  0.208383  ...  1.503398  1.399355 -2.041735  0.877362   \n",
       "97 -0.478749  0.681501  0.028318  ... -1.081057  1.255756  0.029756  1.053153   \n",
       "98 -0.186971  0.474698 -0.025027  ...  0.028181  0.056650  0.817766 -0.009119   \n",
       "99 -0.755745  0.838491  0.081829  ...  0.388579  0.536510 -0.098890  2.493000   \n",
       "\n",
       "          15        16        17        18        19  target  \n",
       "0   0.087142 -0.792521 -0.334501  0.865755 -1.200296       0  \n",
       "1   0.963360  1.189470  1.375707  0.701173 -0.297564       0  \n",
       "2  -1.692005 -0.637740  1.189017 -0.555477 -0.637387       1  \n",
       "3  -1.106450  1.049553 -0.689188  0.197600  2.075261       1  \n",
       "4   1.303736 -0.989628 -0.968344 -0.224633  0.550052       0  \n",
       "..       ...       ...       ...       ...       ...     ...  \n",
       "95 -0.763516  1.551152  1.755341  0.067518  2.060748       0  \n",
       "96 -0.977637 -0.247177  0.640843 -0.281100  1.797687       1  \n",
       "97 -0.511036  0.938284 -0.309172 -0.462275 -0.434496       1  \n",
       "98  0.735948  1.390208 -0.305225 -1.311836 -1.065114       0  \n",
       "99  0.717686  0.919076  0.992042  0.321698 -0.668090       0  \n",
       "\n",
       "[100 rows x 21 columns]"
      ]
     },
     "execution_count": 4,
     "metadata": {},
     "output_type": "execute_result"
    }
   ],
   "source": [
    "df"
   ]
  },
  {
   "cell_type": "markdown",
   "metadata": {
    "id": "hzyLu5oZGTM-"
   },
   "source": [
    "2. Постройте модель логистической регрессии и оцените среднюю точность. Для этого используйте следующий код:  \n",
    "```cross_val_score(LogisticRegression(), x, y, scoring='accuracy').mean()```"
   ]
  },
  {
   "cell_type": "code",
   "execution_count": 5,
   "metadata": {
    "executionInfo": {
     "elapsed": 10,
     "status": "ok",
     "timestamp": 1700067772537,
     "user": {
      "displayName": "artificial flesh",
      "userId": "00780849165661762341"
     },
     "user_tz": -300
    },
    "id": "zjneMU1oNnnn"
   },
   "outputs": [],
   "source": [
    "def get_accuracy_frame(title, estimator_model, X_data, y_data):\n",
    "  mean_accuracy = cross_val_score(estimator_model, X_data, y_data, scoring='accuracy').mean()\n",
    "\n",
    "  return pd.DataFrame({\n",
    "      'estimator': [title],\n",
    "      'quantity of features': [X_data.shape[1]],\n",
    "      'mean accuracy': [mean_accuracy]\n",
    "  })"
   ]
  },
  {
   "cell_type": "code",
   "execution_count": 6,
   "metadata": {
    "executionInfo": {
     "elapsed": 9,
     "status": "ok",
     "timestamp": 1700067772537,
     "user": {
      "displayName": "artificial flesh",
      "userId": "00780849165661762341"
     },
     "user_tz": -300
    },
    "id": "YVBRIACEPn3G"
   },
   "outputs": [],
   "source": [
    "def concat_accuracy(main_dataframe, title, estimator_model, X_data, y_data):\n",
    "  new_frame = get_accuracy_frame(title, estimator_model, X_data, y_data)\n",
    "  result_frame = pd.concat([main_dataframe,\n",
    "                           new_frame]\n",
    "                           )\n",
    "  result_frame = result_frame.sort_values('mean accuracy', ascending=False)\n",
    "  result_frame = result_frame.reset_index(drop=True)\n",
    "\n",
    "  return result_frame"
   ]
  },
  {
   "cell_type": "code",
   "execution_count": 7,
   "metadata": {
    "colab": {
     "base_uri": "https://localhost:8080/",
     "height": 81
    },
    "executionInfo": {
     "elapsed": 9,
     "status": "ok",
     "timestamp": 1700067772537,
     "user": {
      "displayName": "artificial flesh",
      "userId": "00780849165661762341"
     },
     "user_tz": -300
    },
    "id": "rZZP9LfBTwkc",
    "outputId": "f486b5c5-e55c-4e7e-fe50-67b6f44ba980"
   },
   "outputs": [
    {
     "data": {
      "text/html": [
       "<div>\n",
       "<style scoped>\n",
       "    .dataframe tbody tr th:only-of-type {\n",
       "        vertical-align: middle;\n",
       "    }\n",
       "\n",
       "    .dataframe tbody tr th {\n",
       "        vertical-align: top;\n",
       "    }\n",
       "\n",
       "    .dataframe thead th {\n",
       "        text-align: right;\n",
       "    }\n",
       "</style>\n",
       "<table border=\"1\" class=\"dataframe\">\n",
       "  <thead>\n",
       "    <tr style=\"text-align: right;\">\n",
       "      <th></th>\n",
       "      <th>estimator</th>\n",
       "      <th>quantity of features</th>\n",
       "      <th>mean accuracy</th>\n",
       "    </tr>\n",
       "  </thead>\n",
       "  <tbody>\n",
       "    <tr>\n",
       "      <th>0</th>\n",
       "      <td>no selection</td>\n",
       "      <td>20</td>\n",
       "      <td>0.98</td>\n",
       "    </tr>\n",
       "  </tbody>\n",
       "</table>\n",
       "</div>"
      ],
      "text/plain": [
       "      estimator  quantity of features  mean accuracy\n",
       "0  no selection                    20           0.98"
      ]
     },
     "execution_count": 7,
     "metadata": {},
     "output_type": "execute_result"
    }
   ],
   "source": [
    "results = get_accuracy_frame('no selection', LogisticRegression(), X, y)\n",
    "results"
   ]
  },
  {
   "cell_type": "markdown",
   "metadata": {
    "id": "9S4ASwHiL0tx"
   },
   "source": [
    "3. Используйте статистические методы для отбора признаков:  \n",
    "\n",
    "    a) Выберите признаки на основе матрицы корреляции.  \n",
    "\n",
    "    b) Отсеките низковариативные признаки (VarianceThreshold).  \n",
    "    \n",
    "    c) Повторите п. 2 на отобранных признаках в п. 3a, п. 3b."
   ]
  },
  {
   "cell_type": "code",
   "execution_count": 8,
   "metadata": {
    "colab": {
     "base_uri": "https://localhost:8080/",
     "height": 757
    },
    "executionInfo": {
     "elapsed": 8,
     "status": "ok",
     "timestamp": 1700067772537,
     "user": {
      "displayName": "artificial flesh",
      "userId": "00780849165661762341"
     },
     "user_tz": -300
    },
    "id": "lyEIJf78Ux3k",
    "outputId": "a7c7b79a-5e0a-4393-eb94-1bbc1104d698"
   },
   "outputs": [
    {
     "data": {
      "text/html": [
       "<div>\n",
       "<style scoped>\n",
       "    .dataframe tbody tr th:only-of-type {\n",
       "        vertical-align: middle;\n",
       "    }\n",
       "\n",
       "    .dataframe tbody tr th {\n",
       "        vertical-align: top;\n",
       "    }\n",
       "\n",
       "    .dataframe thead th {\n",
       "        text-align: right;\n",
       "    }\n",
       "</style>\n",
       "<table border=\"1\" class=\"dataframe\">\n",
       "  <thead>\n",
       "    <tr style=\"text-align: right;\">\n",
       "      <th></th>\n",
       "      <th>0</th>\n",
       "      <th>1</th>\n",
       "      <th>2</th>\n",
       "      <th>3</th>\n",
       "      <th>4</th>\n",
       "      <th>5</th>\n",
       "      <th>6</th>\n",
       "      <th>7</th>\n",
       "      <th>8</th>\n",
       "      <th>9</th>\n",
       "      <th>...</th>\n",
       "      <th>11</th>\n",
       "      <th>12</th>\n",
       "      <th>13</th>\n",
       "      <th>14</th>\n",
       "      <th>15</th>\n",
       "      <th>16</th>\n",
       "      <th>17</th>\n",
       "      <th>18</th>\n",
       "      <th>19</th>\n",
       "      <th>target</th>\n",
       "    </tr>\n",
       "  </thead>\n",
       "  <tbody>\n",
       "    <tr>\n",
       "      <th>0</th>\n",
       "      <td>1.000000</td>\n",
       "      <td>0.071284</td>\n",
       "      <td>-0.036813</td>\n",
       "      <td>-0.004537</td>\n",
       "      <td>0.193129</td>\n",
       "      <td>0.044753</td>\n",
       "      <td>-0.079165</td>\n",
       "      <td>-0.009668</td>\n",
       "      <td>-0.071911</td>\n",
       "      <td>-0.110540</td>\n",
       "      <td>...</td>\n",
       "      <td>-0.057773</td>\n",
       "      <td>-0.118258</td>\n",
       "      <td>0.019486</td>\n",
       "      <td>-0.121935</td>\n",
       "      <td>0.085189</td>\n",
       "      <td>0.083840</td>\n",
       "      <td>-0.104628</td>\n",
       "      <td>-0.065805</td>\n",
       "      <td>0.005317</td>\n",
       "      <td>-0.088754</td>\n",
       "    </tr>\n",
       "    <tr>\n",
       "      <th>1</th>\n",
       "      <td>0.071284</td>\n",
       "      <td>1.000000</td>\n",
       "      <td>-0.101191</td>\n",
       "      <td>-0.140801</td>\n",
       "      <td>0.059319</td>\n",
       "      <td>-0.617260</td>\n",
       "      <td>0.078905</td>\n",
       "      <td>-0.083252</td>\n",
       "      <td>-0.201323</td>\n",
       "      <td>0.045150</td>\n",
       "      <td>...</td>\n",
       "      <td>0.025726</td>\n",
       "      <td>-0.039091</td>\n",
       "      <td>-0.017137</td>\n",
       "      <td>-0.027894</td>\n",
       "      <td>-0.309667</td>\n",
       "      <td>0.083481</td>\n",
       "      <td>-0.036901</td>\n",
       "      <td>-0.035538</td>\n",
       "      <td>0.095836</td>\n",
       "      <td>-0.763444</td>\n",
       "    </tr>\n",
       "    <tr>\n",
       "      <th>2</th>\n",
       "      <td>-0.036813</td>\n",
       "      <td>-0.101191</td>\n",
       "      <td>1.000000</td>\n",
       "      <td>0.027711</td>\n",
       "      <td>-0.049272</td>\n",
       "      <td>0.140555</td>\n",
       "      <td>0.252284</td>\n",
       "      <td>-0.000123</td>\n",
       "      <td>0.058174</td>\n",
       "      <td>0.077953</td>\n",
       "      <td>...</td>\n",
       "      <td>-0.024688</td>\n",
       "      <td>0.128741</td>\n",
       "      <td>0.002441</td>\n",
       "      <td>0.047610</td>\n",
       "      <td>0.125716</td>\n",
       "      <td>-0.031936</td>\n",
       "      <td>-0.036005</td>\n",
       "      <td>0.004602</td>\n",
       "      <td>-0.003610</td>\n",
       "      <td>0.088433</td>\n",
       "    </tr>\n",
       "    <tr>\n",
       "      <th>3</th>\n",
       "      <td>-0.004537</td>\n",
       "      <td>-0.140801</td>\n",
       "      <td>0.027711</td>\n",
       "      <td>1.000000</td>\n",
       "      <td>0.080622</td>\n",
       "      <td>0.095910</td>\n",
       "      <td>-0.035280</td>\n",
       "      <td>0.030517</td>\n",
       "      <td>0.198355</td>\n",
       "      <td>-0.069286</td>\n",
       "      <td>...</td>\n",
       "      <td>0.003402</td>\n",
       "      <td>-0.040230</td>\n",
       "      <td>-0.068040</td>\n",
       "      <td>0.005388</td>\n",
       "      <td>0.054477</td>\n",
       "      <td>-0.038142</td>\n",
       "      <td>-0.211415</td>\n",
       "      <td>0.040188</td>\n",
       "      <td>0.168545</td>\n",
       "      <td>0.118718</td>\n",
       "    </tr>\n",
       "    <tr>\n",
       "      <th>4</th>\n",
       "      <td>0.193129</td>\n",
       "      <td>0.059319</td>\n",
       "      <td>-0.049272</td>\n",
       "      <td>0.080622</td>\n",
       "      <td>1.000000</td>\n",
       "      <td>0.079251</td>\n",
       "      <td>-0.035188</td>\n",
       "      <td>-0.037175</td>\n",
       "      <td>-0.152131</td>\n",
       "      <td>-0.148384</td>\n",
       "      <td>...</td>\n",
       "      <td>0.002554</td>\n",
       "      <td>-0.075766</td>\n",
       "      <td>0.143518</td>\n",
       "      <td>0.037858</td>\n",
       "      <td>0.121663</td>\n",
       "      <td>-0.042373</td>\n",
       "      <td>-0.073803</td>\n",
       "      <td>-0.128797</td>\n",
       "      <td>0.111514</td>\n",
       "      <td>-0.172387</td>\n",
       "    </tr>\n",
       "    <tr>\n",
       "      <th>5</th>\n",
       "      <td>0.044753</td>\n",
       "      <td>-0.617260</td>\n",
       "      <td>0.140555</td>\n",
       "      <td>0.095910</td>\n",
       "      <td>0.079251</td>\n",
       "      <td>1.000000</td>\n",
       "      <td>-0.017531</td>\n",
       "      <td>-0.087657</td>\n",
       "      <td>0.168142</td>\n",
       "      <td>-0.087673</td>\n",
       "      <td>...</td>\n",
       "      <td>-0.124990</td>\n",
       "      <td>-0.012449</td>\n",
       "      <td>0.072853</td>\n",
       "      <td>0.040140</td>\n",
       "      <td>0.939231</td>\n",
       "      <td>-0.028756</td>\n",
       "      <td>-0.018214</td>\n",
       "      <td>0.000762</td>\n",
       "      <td>-0.128623</td>\n",
       "      <td>0.108329</td>\n",
       "    </tr>\n",
       "    <tr>\n",
       "      <th>6</th>\n",
       "      <td>-0.079165</td>\n",
       "      <td>0.078905</td>\n",
       "      <td>0.252284</td>\n",
       "      <td>-0.035280</td>\n",
       "      <td>-0.035188</td>\n",
       "      <td>-0.017531</td>\n",
       "      <td>1.000000</td>\n",
       "      <td>-0.184477</td>\n",
       "      <td>-0.035569</td>\n",
       "      <td>0.011276</td>\n",
       "      <td>...</td>\n",
       "      <td>0.067302</td>\n",
       "      <td>0.038931</td>\n",
       "      <td>0.016508</td>\n",
       "      <td>-0.269536</td>\n",
       "      <td>0.013241</td>\n",
       "      <td>0.076254</td>\n",
       "      <td>-0.027008</td>\n",
       "      <td>0.071684</td>\n",
       "      <td>-0.001482</td>\n",
       "      <td>-0.166805</td>\n",
       "    </tr>\n",
       "    <tr>\n",
       "      <th>7</th>\n",
       "      <td>-0.009668</td>\n",
       "      <td>-0.083252</td>\n",
       "      <td>-0.000123</td>\n",
       "      <td>0.030517</td>\n",
       "      <td>-0.037175</td>\n",
       "      <td>-0.087657</td>\n",
       "      <td>-0.184477</td>\n",
       "      <td>1.000000</td>\n",
       "      <td>0.113130</td>\n",
       "      <td>0.026654</td>\n",
       "      <td>...</td>\n",
       "      <td>0.130702</td>\n",
       "      <td>0.093107</td>\n",
       "      <td>-0.183456</td>\n",
       "      <td>0.115421</td>\n",
       "      <td>-0.142264</td>\n",
       "      <td>-0.104928</td>\n",
       "      <td>0.142065</td>\n",
       "      <td>0.064365</td>\n",
       "      <td>0.081591</td>\n",
       "      <td>0.146512</td>\n",
       "    </tr>\n",
       "    <tr>\n",
       "      <th>8</th>\n",
       "      <td>-0.071911</td>\n",
       "      <td>-0.201323</td>\n",
       "      <td>0.058174</td>\n",
       "      <td>0.198355</td>\n",
       "      <td>-0.152131</td>\n",
       "      <td>0.168142</td>\n",
       "      <td>-0.035569</td>\n",
       "      <td>0.113130</td>\n",
       "      <td>1.000000</td>\n",
       "      <td>-0.050063</td>\n",
       "      <td>...</td>\n",
       "      <td>-0.127416</td>\n",
       "      <td>0.065865</td>\n",
       "      <td>-0.096214</td>\n",
       "      <td>0.033775</td>\n",
       "      <td>0.115366</td>\n",
       "      <td>0.094542</td>\n",
       "      <td>-0.084320</td>\n",
       "      <td>-0.038142</td>\n",
       "      <td>-0.028969</td>\n",
       "      <td>0.195757</td>\n",
       "    </tr>\n",
       "    <tr>\n",
       "      <th>9</th>\n",
       "      <td>-0.110540</td>\n",
       "      <td>0.045150</td>\n",
       "      <td>0.077953</td>\n",
       "      <td>-0.069286</td>\n",
       "      <td>-0.148384</td>\n",
       "      <td>-0.087673</td>\n",
       "      <td>0.011276</td>\n",
       "      <td>0.026654</td>\n",
       "      <td>-0.050063</td>\n",
       "      <td>1.000000</td>\n",
       "      <td>...</td>\n",
       "      <td>0.124842</td>\n",
       "      <td>0.071224</td>\n",
       "      <td>0.147287</td>\n",
       "      <td>0.175982</td>\n",
       "      <td>-0.086258</td>\n",
       "      <td>0.110768</td>\n",
       "      <td>0.049218</td>\n",
       "      <td>-0.128464</td>\n",
       "      <td>-0.062361</td>\n",
       "      <td>-0.023958</td>\n",
       "    </tr>\n",
       "    <tr>\n",
       "      <th>10</th>\n",
       "      <td>-0.101088</td>\n",
       "      <td>-0.956517</td>\n",
       "      <td>0.067840</td>\n",
       "      <td>0.131343</td>\n",
       "      <td>-0.099695</td>\n",
       "      <td>0.360942</td>\n",
       "      <td>-0.087031</td>\n",
       "      <td>0.131180</td>\n",
       "      <td>0.176303</td>\n",
       "      <td>-0.021016</td>\n",
       "      <td>...</td>\n",
       "      <td>0.015843</td>\n",
       "      <td>0.050952</td>\n",
       "      <td>-0.006696</td>\n",
       "      <td>0.018184</td>\n",
       "      <td>0.018863</td>\n",
       "      <td>-0.088294</td>\n",
       "      <td>0.050494</td>\n",
       "      <td>0.041843</td>\n",
       "      <td>-0.065916</td>\n",
       "      <td>0.864791</td>\n",
       "    </tr>\n",
       "    <tr>\n",
       "      <th>11</th>\n",
       "      <td>-0.057773</td>\n",
       "      <td>0.025726</td>\n",
       "      <td>-0.024688</td>\n",
       "      <td>0.003402</td>\n",
       "      <td>0.002554</td>\n",
       "      <td>-0.124990</td>\n",
       "      <td>0.067302</td>\n",
       "      <td>0.130702</td>\n",
       "      <td>-0.127416</td>\n",
       "      <td>0.124842</td>\n",
       "      <td>...</td>\n",
       "      <td>1.000000</td>\n",
       "      <td>0.219773</td>\n",
       "      <td>-0.005838</td>\n",
       "      <td>0.082683</td>\n",
       "      <td>-0.139833</td>\n",
       "      <td>-0.090586</td>\n",
       "      <td>0.069164</td>\n",
       "      <td>0.155655</td>\n",
       "      <td>0.032245</td>\n",
       "      <td>0.056474</td>\n",
       "    </tr>\n",
       "    <tr>\n",
       "      <th>12</th>\n",
       "      <td>-0.118258</td>\n",
       "      <td>-0.039091</td>\n",
       "      <td>0.128741</td>\n",
       "      <td>-0.040230</td>\n",
       "      <td>-0.075766</td>\n",
       "      <td>-0.012449</td>\n",
       "      <td>0.038931</td>\n",
       "      <td>0.093107</td>\n",
       "      <td>0.065865</td>\n",
       "      <td>0.071224</td>\n",
       "      <td>...</td>\n",
       "      <td>0.219773</td>\n",
       "      <td>1.000000</td>\n",
       "      <td>0.062176</td>\n",
       "      <td>0.137972</td>\n",
       "      <td>-0.032102</td>\n",
       "      <td>0.054695</td>\n",
       "      <td>-0.078778</td>\n",
       "      <td>0.008914</td>\n",
       "      <td>-0.113727</td>\n",
       "      <td>0.037922</td>\n",
       "    </tr>\n",
       "    <tr>\n",
       "      <th>13</th>\n",
       "      <td>0.019486</td>\n",
       "      <td>-0.017137</td>\n",
       "      <td>0.002441</td>\n",
       "      <td>-0.068040</td>\n",
       "      <td>0.143518</td>\n",
       "      <td>0.072853</td>\n",
       "      <td>0.016508</td>\n",
       "      <td>-0.183456</td>\n",
       "      <td>-0.096214</td>\n",
       "      <td>0.147287</td>\n",
       "      <td>...</td>\n",
       "      <td>-0.005838</td>\n",
       "      <td>0.062176</td>\n",
       "      <td>1.000000</td>\n",
       "      <td>0.014227</td>\n",
       "      <td>0.080570</td>\n",
       "      <td>0.180632</td>\n",
       "      <td>-0.008081</td>\n",
       "      <td>-0.097956</td>\n",
       "      <td>0.015266</td>\n",
       "      <td>0.017637</td>\n",
       "    </tr>\n",
       "    <tr>\n",
       "      <th>14</th>\n",
       "      <td>-0.121935</td>\n",
       "      <td>-0.027894</td>\n",
       "      <td>0.047610</td>\n",
       "      <td>0.005388</td>\n",
       "      <td>0.037858</td>\n",
       "      <td>0.040140</td>\n",
       "      <td>-0.269536</td>\n",
       "      <td>0.115421</td>\n",
       "      <td>0.033775</td>\n",
       "      <td>0.175982</td>\n",
       "      <td>...</td>\n",
       "      <td>0.082683</td>\n",
       "      <td>0.137972</td>\n",
       "      <td>0.014227</td>\n",
       "      <td>1.000000</td>\n",
       "      <td>0.036340</td>\n",
       "      <td>0.075137</td>\n",
       "      <td>0.072577</td>\n",
       "      <td>-0.007965</td>\n",
       "      <td>-0.026125</td>\n",
       "      <td>0.082213</td>\n",
       "    </tr>\n",
       "    <tr>\n",
       "      <th>15</th>\n",
       "      <td>0.085189</td>\n",
       "      <td>-0.309667</td>\n",
       "      <td>0.125716</td>\n",
       "      <td>0.054477</td>\n",
       "      <td>0.121663</td>\n",
       "      <td>0.939231</td>\n",
       "      <td>0.013241</td>\n",
       "      <td>-0.142264</td>\n",
       "      <td>0.115366</td>\n",
       "      <td>-0.086258</td>\n",
       "      <td>...</td>\n",
       "      <td>-0.139833</td>\n",
       "      <td>-0.032102</td>\n",
       "      <td>0.080570</td>\n",
       "      <td>0.036340</td>\n",
       "      <td>1.000000</td>\n",
       "      <td>0.001672</td>\n",
       "      <td>-0.038114</td>\n",
       "      <td>-0.014586</td>\n",
       "      <td>-0.113632</td>\n",
       "      <td>-0.202191</td>\n",
       "    </tr>\n",
       "    <tr>\n",
       "      <th>16</th>\n",
       "      <td>0.083840</td>\n",
       "      <td>0.083481</td>\n",
       "      <td>-0.031936</td>\n",
       "      <td>-0.038142</td>\n",
       "      <td>-0.042373</td>\n",
       "      <td>-0.028756</td>\n",
       "      <td>0.076254</td>\n",
       "      <td>-0.104928</td>\n",
       "      <td>0.094542</td>\n",
       "      <td>0.110768</td>\n",
       "      <td>...</td>\n",
       "      <td>-0.090586</td>\n",
       "      <td>0.054695</td>\n",
       "      <td>0.180632</td>\n",
       "      <td>0.075137</td>\n",
       "      <td>0.001672</td>\n",
       "      <td>1.000000</td>\n",
       "      <td>-0.034424</td>\n",
       "      <td>-0.120350</td>\n",
       "      <td>-0.059765</td>\n",
       "      <td>-0.024239</td>\n",
       "    </tr>\n",
       "    <tr>\n",
       "      <th>17</th>\n",
       "      <td>-0.104628</td>\n",
       "      <td>-0.036901</td>\n",
       "      <td>-0.036005</td>\n",
       "      <td>-0.211415</td>\n",
       "      <td>-0.073803</td>\n",
       "      <td>-0.018214</td>\n",
       "      <td>-0.027008</td>\n",
       "      <td>0.142065</td>\n",
       "      <td>-0.084320</td>\n",
       "      <td>0.049218</td>\n",
       "      <td>...</td>\n",
       "      <td>0.069164</td>\n",
       "      <td>-0.078778</td>\n",
       "      <td>-0.008081</td>\n",
       "      <td>0.072577</td>\n",
       "      <td>-0.038114</td>\n",
       "      <td>-0.034424</td>\n",
       "      <td>1.000000</td>\n",
       "      <td>-0.019930</td>\n",
       "      <td>-0.049936</td>\n",
       "      <td>0.096357</td>\n",
       "    </tr>\n",
       "    <tr>\n",
       "      <th>18</th>\n",
       "      <td>-0.065805</td>\n",
       "      <td>-0.035538</td>\n",
       "      <td>0.004602</td>\n",
       "      <td>0.040188</td>\n",
       "      <td>-0.128797</td>\n",
       "      <td>0.000762</td>\n",
       "      <td>0.071684</td>\n",
       "      <td>0.064365</td>\n",
       "      <td>-0.038142</td>\n",
       "      <td>-0.128464</td>\n",
       "      <td>...</td>\n",
       "      <td>0.155655</td>\n",
       "      <td>0.008914</td>\n",
       "      <td>-0.097956</td>\n",
       "      <td>-0.007965</td>\n",
       "      <td>-0.014586</td>\n",
       "      <td>-0.120350</td>\n",
       "      <td>-0.019930</td>\n",
       "      <td>1.000000</td>\n",
       "      <td>-0.106865</td>\n",
       "      <td>-0.063914</td>\n",
       "    </tr>\n",
       "    <tr>\n",
       "      <th>19</th>\n",
       "      <td>0.005317</td>\n",
       "      <td>0.095836</td>\n",
       "      <td>-0.003610</td>\n",
       "      <td>0.168545</td>\n",
       "      <td>0.111514</td>\n",
       "      <td>-0.128623</td>\n",
       "      <td>-0.001482</td>\n",
       "      <td>0.081591</td>\n",
       "      <td>-0.028969</td>\n",
       "      <td>-0.062361</td>\n",
       "      <td>...</td>\n",
       "      <td>0.032245</td>\n",
       "      <td>-0.113727</td>\n",
       "      <td>0.015266</td>\n",
       "      <td>-0.026125</td>\n",
       "      <td>-0.113632</td>\n",
       "      <td>-0.059765</td>\n",
       "      <td>-0.049936</td>\n",
       "      <td>-0.106865</td>\n",
       "      <td>1.000000</td>\n",
       "      <td>0.003071</td>\n",
       "    </tr>\n",
       "    <tr>\n",
       "      <th>target</th>\n",
       "      <td>-0.088754</td>\n",
       "      <td>-0.763444</td>\n",
       "      <td>0.088433</td>\n",
       "      <td>0.118718</td>\n",
       "      <td>-0.172387</td>\n",
       "      <td>0.108329</td>\n",
       "      <td>-0.166805</td>\n",
       "      <td>0.146512</td>\n",
       "      <td>0.195757</td>\n",
       "      <td>-0.023958</td>\n",
       "      <td>...</td>\n",
       "      <td>0.056474</td>\n",
       "      <td>0.037922</td>\n",
       "      <td>0.017637</td>\n",
       "      <td>0.082213</td>\n",
       "      <td>-0.202191</td>\n",
       "      <td>-0.024239</td>\n",
       "      <td>0.096357</td>\n",
       "      <td>-0.063914</td>\n",
       "      <td>0.003071</td>\n",
       "      <td>1.000000</td>\n",
       "    </tr>\n",
       "  </tbody>\n",
       "</table>\n",
       "<p>21 rows × 21 columns</p>\n",
       "</div>"
      ],
      "text/plain": [
       "               0         1         2         3         4         5         6  \\\n",
       "0       1.000000  0.071284 -0.036813 -0.004537  0.193129  0.044753 -0.079165   \n",
       "1       0.071284  1.000000 -0.101191 -0.140801  0.059319 -0.617260  0.078905   \n",
       "2      -0.036813 -0.101191  1.000000  0.027711 -0.049272  0.140555  0.252284   \n",
       "3      -0.004537 -0.140801  0.027711  1.000000  0.080622  0.095910 -0.035280   \n",
       "4       0.193129  0.059319 -0.049272  0.080622  1.000000  0.079251 -0.035188   \n",
       "5       0.044753 -0.617260  0.140555  0.095910  0.079251  1.000000 -0.017531   \n",
       "6      -0.079165  0.078905  0.252284 -0.035280 -0.035188 -0.017531  1.000000   \n",
       "7      -0.009668 -0.083252 -0.000123  0.030517 -0.037175 -0.087657 -0.184477   \n",
       "8      -0.071911 -0.201323  0.058174  0.198355 -0.152131  0.168142 -0.035569   \n",
       "9      -0.110540  0.045150  0.077953 -0.069286 -0.148384 -0.087673  0.011276   \n",
       "10     -0.101088 -0.956517  0.067840  0.131343 -0.099695  0.360942 -0.087031   \n",
       "11     -0.057773  0.025726 -0.024688  0.003402  0.002554 -0.124990  0.067302   \n",
       "12     -0.118258 -0.039091  0.128741 -0.040230 -0.075766 -0.012449  0.038931   \n",
       "13      0.019486 -0.017137  0.002441 -0.068040  0.143518  0.072853  0.016508   \n",
       "14     -0.121935 -0.027894  0.047610  0.005388  0.037858  0.040140 -0.269536   \n",
       "15      0.085189 -0.309667  0.125716  0.054477  0.121663  0.939231  0.013241   \n",
       "16      0.083840  0.083481 -0.031936 -0.038142 -0.042373 -0.028756  0.076254   \n",
       "17     -0.104628 -0.036901 -0.036005 -0.211415 -0.073803 -0.018214 -0.027008   \n",
       "18     -0.065805 -0.035538  0.004602  0.040188 -0.128797  0.000762  0.071684   \n",
       "19      0.005317  0.095836 -0.003610  0.168545  0.111514 -0.128623 -0.001482   \n",
       "target -0.088754 -0.763444  0.088433  0.118718 -0.172387  0.108329 -0.166805   \n",
       "\n",
       "               7         8         9  ...        11        12        13  \\\n",
       "0      -0.009668 -0.071911 -0.110540  ... -0.057773 -0.118258  0.019486   \n",
       "1      -0.083252 -0.201323  0.045150  ...  0.025726 -0.039091 -0.017137   \n",
       "2      -0.000123  0.058174  0.077953  ... -0.024688  0.128741  0.002441   \n",
       "3       0.030517  0.198355 -0.069286  ...  0.003402 -0.040230 -0.068040   \n",
       "4      -0.037175 -0.152131 -0.148384  ...  0.002554 -0.075766  0.143518   \n",
       "5      -0.087657  0.168142 -0.087673  ... -0.124990 -0.012449  0.072853   \n",
       "6      -0.184477 -0.035569  0.011276  ...  0.067302  0.038931  0.016508   \n",
       "7       1.000000  0.113130  0.026654  ...  0.130702  0.093107 -0.183456   \n",
       "8       0.113130  1.000000 -0.050063  ... -0.127416  0.065865 -0.096214   \n",
       "9       0.026654 -0.050063  1.000000  ...  0.124842  0.071224  0.147287   \n",
       "10      0.131180  0.176303 -0.021016  ...  0.015843  0.050952 -0.006696   \n",
       "11      0.130702 -0.127416  0.124842  ...  1.000000  0.219773 -0.005838   \n",
       "12      0.093107  0.065865  0.071224  ...  0.219773  1.000000  0.062176   \n",
       "13     -0.183456 -0.096214  0.147287  ... -0.005838  0.062176  1.000000   \n",
       "14      0.115421  0.033775  0.175982  ...  0.082683  0.137972  0.014227   \n",
       "15     -0.142264  0.115366 -0.086258  ... -0.139833 -0.032102  0.080570   \n",
       "16     -0.104928  0.094542  0.110768  ... -0.090586  0.054695  0.180632   \n",
       "17      0.142065 -0.084320  0.049218  ...  0.069164 -0.078778 -0.008081   \n",
       "18      0.064365 -0.038142 -0.128464  ...  0.155655  0.008914 -0.097956   \n",
       "19      0.081591 -0.028969 -0.062361  ...  0.032245 -0.113727  0.015266   \n",
       "target  0.146512  0.195757 -0.023958  ...  0.056474  0.037922  0.017637   \n",
       "\n",
       "              14        15        16        17        18        19    target  \n",
       "0      -0.121935  0.085189  0.083840 -0.104628 -0.065805  0.005317 -0.088754  \n",
       "1      -0.027894 -0.309667  0.083481 -0.036901 -0.035538  0.095836 -0.763444  \n",
       "2       0.047610  0.125716 -0.031936 -0.036005  0.004602 -0.003610  0.088433  \n",
       "3       0.005388  0.054477 -0.038142 -0.211415  0.040188  0.168545  0.118718  \n",
       "4       0.037858  0.121663 -0.042373 -0.073803 -0.128797  0.111514 -0.172387  \n",
       "5       0.040140  0.939231 -0.028756 -0.018214  0.000762 -0.128623  0.108329  \n",
       "6      -0.269536  0.013241  0.076254 -0.027008  0.071684 -0.001482 -0.166805  \n",
       "7       0.115421 -0.142264 -0.104928  0.142065  0.064365  0.081591  0.146512  \n",
       "8       0.033775  0.115366  0.094542 -0.084320 -0.038142 -0.028969  0.195757  \n",
       "9       0.175982 -0.086258  0.110768  0.049218 -0.128464 -0.062361 -0.023958  \n",
       "10      0.018184  0.018863 -0.088294  0.050494  0.041843 -0.065916  0.864791  \n",
       "11      0.082683 -0.139833 -0.090586  0.069164  0.155655  0.032245  0.056474  \n",
       "12      0.137972 -0.032102  0.054695 -0.078778  0.008914 -0.113727  0.037922  \n",
       "13      0.014227  0.080570  0.180632 -0.008081 -0.097956  0.015266  0.017637  \n",
       "14      1.000000  0.036340  0.075137  0.072577 -0.007965 -0.026125  0.082213  \n",
       "15      0.036340  1.000000  0.001672 -0.038114 -0.014586 -0.113632 -0.202191  \n",
       "16      0.075137  0.001672  1.000000 -0.034424 -0.120350 -0.059765 -0.024239  \n",
       "17      0.072577 -0.038114 -0.034424  1.000000 -0.019930 -0.049936  0.096357  \n",
       "18     -0.007965 -0.014586 -0.120350 -0.019930  1.000000 -0.106865 -0.063914  \n",
       "19     -0.026125 -0.113632 -0.059765 -0.049936 -0.106865  1.000000  0.003071  \n",
       "target  0.082213 -0.202191 -0.024239  0.096357 -0.063914  0.003071  1.000000  \n",
       "\n",
       "[21 rows x 21 columns]"
      ]
     },
     "execution_count": 8,
     "metadata": {},
     "output_type": "execute_result"
    }
   ],
   "source": [
    "df.corr()"
   ]
  },
  {
   "cell_type": "code",
   "execution_count": 9,
   "metadata": {
    "executionInfo": {
     "elapsed": 8,
     "status": "ok",
     "timestamp": 1700067772537,
     "user": {
      "displayName": "artificial flesh",
      "userId": "00780849165661762341"
     },
     "user_tz": -300
    },
    "id": "6bDNbvJnMR2z"
   },
   "outputs": [],
   "source": [
    "sns.set_theme(rc={'figure.figsize':(12,8)})\n",
    "sns.set_context('poster', font_scale=0.3)"
   ]
  },
  {
   "cell_type": "code",
   "execution_count": 10,
   "metadata": {
    "colab": {
     "base_uri": "https://localhost:8080/",
     "height": 699
    },
    "executionInfo": {
     "elapsed": 2386,
     "status": "ok",
     "timestamp": 1700067774916,
     "user": {
      "displayName": "artificial flesh",
      "userId": "00780849165661762341"
     },
     "user_tz": -300
    },
    "id": "Smh3TL47U-pM",
    "outputId": "bc920302-8609-43d7-c5bc-e63095a443b2"
   },
   "outputs": [
    {
     "data": {
      "image/png": "[encoded data removed]",
      "text/plain": [
       "<Figure size 864x576 with 2 Axes>"
      ]
     },
     "metadata": {},
     "output_type": "display_data"
    }
   ],
   "source": [
    "sns.heatmap(df.corr(), annot=True)\n",
    "plt.title('Корреляционная матрица')\n",
    "plt.show()"
   ]
  },
  {
   "cell_type": "markdown",
   "metadata": {
    "id": "e7jBc9wgUaHp"
   },
   "source": [
    "Оставим 5 признаков с наиболее высокой корреляцией."
   ]
  },
  {
   "cell_type": "code",
   "execution_count": 11,
   "metadata": {
    "executionInfo": {
     "elapsed": 11,
     "status": "ok",
     "timestamp": 1700067774917,
     "user": {
      "displayName": "artificial flesh",
      "userId": "00780849165661762341"
     },
     "user_tz": -300
    },
    "id": "ZOxKQAk4Rg_d"
   },
   "outputs": [],
   "source": [
    "correlations = df.corr()['target'].drop('target')\n",
    "top_five = correlations.abs().nlargest(5)\n",
    "features = top_five.index.tolist()"
   ]
  },
  {
   "cell_type": "code",
   "execution_count": 12,
   "metadata": {
    "executionInfo": {
     "elapsed": 11,
     "status": "ok",
     "timestamp": 1700067774917,
     "user": {
      "displayName": "artificial flesh",
      "userId": "00780849165661762341"
     },
     "user_tz": -300
    },
    "id": "EqfKr4UjTgXU"
   },
   "outputs": [],
   "source": [
    "X_corr = df.iloc[:, features]"
   ]
  },
  {
   "cell_type": "code",
   "execution_count": 13,
   "metadata": {
    "colab": {
     "base_uri": "https://localhost:8080/",
     "height": 112
    },
    "executionInfo": {
     "elapsed": 11,
     "status": "ok",
     "timestamp": 1700067774917,
     "user": {
      "displayName": "artificial flesh",
      "userId": "00780849165661762341"
     },
     "user_tz": -300
    },
    "id": "VMYW0uWDTz05",
    "outputId": "9dc3b056-8ebe-4533-8d41-116b7a142f0c"
   },
   "outputs": [
    {
     "data": {
      "text/html": [
       "<div>\n",
       "<style scoped>\n",
       "    .dataframe tbody tr th:only-of-type {\n",
       "        vertical-align: middle;\n",
       "    }\n",
       "\n",
       "    .dataframe tbody tr th {\n",
       "        vertical-align: top;\n",
       "    }\n",
       "\n",
       "    .dataframe thead th {\n",
       "        text-align: right;\n",
       "    }\n",
       "</style>\n",
       "<table border=\"1\" class=\"dataframe\">\n",
       "  <thead>\n",
       "    <tr style=\"text-align: right;\">\n",
       "      <th></th>\n",
       "      <th>estimator</th>\n",
       "      <th>quantity of features</th>\n",
       "      <th>mean accuracy</th>\n",
       "    </tr>\n",
       "  </thead>\n",
       "  <tbody>\n",
       "    <tr>\n",
       "      <th>0</th>\n",
       "      <td>no selection</td>\n",
       "      <td>20</td>\n",
       "      <td>0.98</td>\n",
       "    </tr>\n",
       "    <tr>\n",
       "      <th>1</th>\n",
       "      <td>correlation selection</td>\n",
       "      <td>5</td>\n",
       "      <td>0.98</td>\n",
       "    </tr>\n",
       "  </tbody>\n",
       "</table>\n",
       "</div>"
      ],
      "text/plain": [
       "               estimator  quantity of features  mean accuracy\n",
       "0           no selection                    20           0.98\n",
       "1  correlation selection                     5           0.98"
      ]
     },
     "execution_count": 13,
     "metadata": {},
     "output_type": "execute_result"
    }
   ],
   "source": [
    "results = concat_accuracy(results, 'correlation selection', LogisticRegression(), X_corr, y)\n",
    "results"
   ]
  },
  {
   "cell_type": "markdown",
   "metadata": {
    "id": "RBezaZK3VO9p"
   },
   "source": [
    "Показатель точности остался неизменным."
   ]
  },
  {
   "cell_type": "markdown",
   "metadata": {
    "id": "qbehNj_JWcWL"
   },
   "source": [
    "Перейдем к VarianceThreshold."
   ]
  },
  {
   "cell_type": "code",
   "execution_count": 14,
   "metadata": {
    "executionInfo": {
     "elapsed": 10,
     "status": "ok",
     "timestamp": 1700067774917,
     "user": {
      "displayName": "artificial flesh",
      "userId": "00780849165661762341"
     },
     "user_tz": -300
    },
    "id": "kvZCaSFVUjkJ"
   },
   "outputs": [],
   "source": [
    "selector = VarianceThreshold(threshold=1)\n",
    "selector.fit_transform(X)\n",
    "features = selector.get_support(indices=True)"
   ]
  },
  {
   "cell_type": "code",
   "execution_count": 15,
   "metadata": {
    "executionInfo": {
     "elapsed": 10,
     "status": "ok",
     "timestamp": 1700067774917,
     "user": {
      "displayName": "artificial flesh",
      "userId": "00780849165661762341"
     },
     "user_tz": -300
    },
    "id": "t4-vjPIMYifU"
   },
   "outputs": [],
   "source": [
    "X_threshold = df.iloc[:, features]"
   ]
  },
  {
   "cell_type": "code",
   "execution_count": 16,
   "metadata": {
    "colab": {
     "base_uri": "https://localhost:8080/",
     "height": 143
    },
    "executionInfo": {
     "elapsed": 10,
     "status": "ok",
     "timestamp": 1700067774917,
     "user": {
      "displayName": "artificial flesh",
      "userId": "00780849165661762341"
     },
     "user_tz": -300
    },
    "id": "WzSH5uMiYrwR",
    "outputId": "b28931fb-ec90-458d-d4d3-c6f14bc3c7ff"
   },
   "outputs": [
    {
     "data": {
      "text/html": [
       "<div>\n",
       "<style scoped>\n",
       "    .dataframe tbody tr th:only-of-type {\n",
       "        vertical-align: middle;\n",
       "    }\n",
       "\n",
       "    .dataframe tbody tr th {\n",
       "        vertical-align: top;\n",
       "    }\n",
       "\n",
       "    .dataframe thead th {\n",
       "        text-align: right;\n",
       "    }\n",
       "</style>\n",
       "<table border=\"1\" class=\"dataframe\">\n",
       "  <thead>\n",
       "    <tr style=\"text-align: right;\">\n",
       "      <th></th>\n",
       "      <th>estimator</th>\n",
       "      <th>quantity of features</th>\n",
       "      <th>mean accuracy</th>\n",
       "    </tr>\n",
       "  </thead>\n",
       "  <tbody>\n",
       "    <tr>\n",
       "      <th>0</th>\n",
       "      <td>no selection</td>\n",
       "      <td>20</td>\n",
       "      <td>0.98</td>\n",
       "    </tr>\n",
       "    <tr>\n",
       "      <th>1</th>\n",
       "      <td>correlation selection</td>\n",
       "      <td>5</td>\n",
       "      <td>0.98</td>\n",
       "    </tr>\n",
       "    <tr>\n",
       "      <th>2</th>\n",
       "      <td>threshold selection</td>\n",
       "      <td>9</td>\n",
       "      <td>0.97</td>\n",
       "    </tr>\n",
       "  </tbody>\n",
       "</table>\n",
       "</div>"
      ],
      "text/plain": [
       "               estimator  quantity of features  mean accuracy\n",
       "0           no selection                    20           0.98\n",
       "1  correlation selection                     5           0.98\n",
       "2    threshold selection                     9           0.97"
      ]
     },
     "execution_count": 16,
     "metadata": {},
     "output_type": "execute_result"
    }
   ],
   "source": [
    "results = concat_accuracy(results, 'threshold selection', LogisticRegression(), X_threshold, y)\n",
    "results"
   ]
  },
  {
   "cell_type": "markdown",
   "metadata": {
    "id": "KGQkzt2aavJ6"
   },
   "source": [
    "4. Осуществите отбор признаков на основе дисперсионного анализа:  \n",
    "\n",
    "    a) Выберите 5 лучших признаков с помощью скоринговой функции для классификации f_classif [(SelectKBest](https://scikit-learn.org/stable/modules/generated/sklearn.feature_selection.SelectKBest.html)(f_classif, k=5)).  \n",
    "    \n",
    "    b) Повторите п. 2 на отобранных признаках."
   ]
  },
  {
   "cell_type": "code",
   "execution_count": 17,
   "metadata": {
    "executionInfo": {
     "elapsed": 9,
     "status": "ok",
     "timestamp": 1700067774917,
     "user": {
      "displayName": "artificial flesh",
      "userId": "00780849165661762341"
     },
     "user_tz": -300
    },
    "id": "xIYSBuq3a-CA"
   },
   "outputs": [],
   "source": [
    "selector = SelectKBest(k=5) # Parameters: score_func : callable, default=f_classif\n",
    "selector.fit_transform(X, y)\n",
    "features = selector.get_support(indices=True)"
   ]
  },
  {
   "cell_type": "code",
   "execution_count": 18,
   "metadata": {
    "executionInfo": {
     "elapsed": 9,
     "status": "ok",
     "timestamp": 1700067774917,
     "user": {
      "displayName": "artificial flesh",
      "userId": "00780849165661762341"
     },
     "user_tz": -300
    },
    "id": "e2JpWxg5cA_F"
   },
   "outputs": [],
   "source": [
    "X_kbest = df.iloc[:, features]"
   ]
  },
  {
   "cell_type": "code",
   "execution_count": 19,
   "metadata": {
    "colab": {
     "base_uri": "https://localhost:8080/",
     "height": 175
    },
    "executionInfo": {
     "elapsed": 457,
     "status": "ok",
     "timestamp": 1700067775366,
     "user": {
      "displayName": "artificial flesh",
      "userId": "00780849165661762341"
     },
     "user_tz": -300
    },
    "id": "YzhOQY54cC-R",
    "outputId": "51fe1ba5-9687-4f01-84bc-d0375f9ac6e7"
   },
   "outputs": [
    {
     "data": {
      "text/html": [
       "<div>\n",
       "<style scoped>\n",
       "    .dataframe tbody tr th:only-of-type {\n",
       "        vertical-align: middle;\n",
       "    }\n",
       "\n",
       "    .dataframe tbody tr th {\n",
       "        vertical-align: top;\n",
       "    }\n",
       "\n",
       "    .dataframe thead th {\n",
       "        text-align: right;\n",
       "    }\n",
       "</style>\n",
       "<table border=\"1\" class=\"dataframe\">\n",
       "  <thead>\n",
       "    <tr style=\"text-align: right;\">\n",
       "      <th></th>\n",
       "      <th>estimator</th>\n",
       "      <th>quantity of features</th>\n",
       "      <th>mean accuracy</th>\n",
       "    </tr>\n",
       "  </thead>\n",
       "  <tbody>\n",
       "    <tr>\n",
       "      <th>0</th>\n",
       "      <td>no selection</td>\n",
       "      <td>20</td>\n",
       "      <td>0.98</td>\n",
       "    </tr>\n",
       "    <tr>\n",
       "      <th>1</th>\n",
       "      <td>correlation selection</td>\n",
       "      <td>5</td>\n",
       "      <td>0.98</td>\n",
       "    </tr>\n",
       "    <tr>\n",
       "      <th>2</th>\n",
       "      <td>kbest selection</td>\n",
       "      <td>5</td>\n",
       "      <td>0.98</td>\n",
       "    </tr>\n",
       "    <tr>\n",
       "      <th>3</th>\n",
       "      <td>threshold selection</td>\n",
       "      <td>9</td>\n",
       "      <td>0.97</td>\n",
       "    </tr>\n",
       "  </tbody>\n",
       "</table>\n",
       "</div>"
      ],
      "text/plain": [
       "               estimator  quantity of features  mean accuracy\n",
       "0           no selection                    20           0.98\n",
       "1  correlation selection                     5           0.98\n",
       "2        kbest selection                     5           0.98\n",
       "3    threshold selection                     9           0.97"
      ]
     },
     "execution_count": 19,
     "metadata": {},
     "output_type": "execute_result"
    }
   ],
   "source": [
    "results = concat_accuracy(results, 'kbest selection', LogisticRegression(), X_kbest, y)\n",
    "results"
   ]
  },
  {
   "cell_type": "markdown",
   "metadata": {
    "id": "rd8dh8Dtci_2"
   },
   "source": [
    "5. Отбор с использованием моделей:  \n",
    "\n",
    "    a) Реализуйте отбор признаков с помощью логистической регрессии. Отобранные признаки подайте далее на вход в саму логистическую регрессию ([SelectFromModel](https://scikit-learn.org/stable/modules/generated/sklearn.feature_selection.SelectFromModel.html)). Используйте L1 регуляризацию.  \n",
    "\n",
    "    b) Реализуйте отбор признаков с помощью модели [RandomForest](https://scikit-learn.org/stable/modules/generated/sklearn.ensemble.RandomForestClassifier.html) и встроенного атрибута feature_impotance.\n",
    "      \n",
    "    c) Повторите п. 2 на отобранных признаках в п. 5a, п. 5b."
   ]
  },
  {
   "cell_type": "code",
   "execution_count": 20,
   "metadata": {
    "executionInfo": {
     "elapsed": 9,
     "status": "ok",
     "timestamp": 1700067775366,
     "user": {
      "displayName": "artificial flesh",
      "userId": "00780849165661762341"
     },
     "user_tz": -300
    },
    "id": "gTXlCok7ct_k"
   },
   "outputs": [],
   "source": [
    "lr_selector = LogisticRegression(penalty='l1', solver='liblinear')\n",
    "lr_selector.fit(X, y)\n",
    "\n",
    "selector = SelectFromModel(estimator=lr_selector, max_features=5)\n",
    "selector.fit_transform(X, y)\n",
    "features = selector.get_support(indices=True)"
   ]
  },
  {
   "cell_type": "code",
   "execution_count": 21,
   "metadata": {
    "executionInfo": {
     "elapsed": 9,
     "status": "ok",
     "timestamp": 1700067775366,
     "user": {
      "displayName": "artificial flesh",
      "userId": "00780849165661762341"
     },
     "user_tz": -300
    },
    "id": "tV5QOLvwy0Jk"
   },
   "outputs": [],
   "source": [
    "X_l1 = df.iloc[:, features]"
   ]
  },
  {
   "cell_type": "code",
   "execution_count": 22,
   "metadata": {
    "colab": {
     "base_uri": "https://localhost:8080/",
     "height": 206
    },
    "executionInfo": {
     "elapsed": 10,
     "status": "ok",
     "timestamp": 1700067775367,
     "user": {
      "displayName": "artificial flesh",
      "userId": "00780849165661762341"
     },
     "user_tz": -300
    },
    "id": "QQ0UZcJFy2o4",
    "outputId": "ea52d2ab-b437-4de6-8abb-f2f6593645f1"
   },
   "outputs": [
    {
     "data": {
      "text/html": [
       "<div>\n",
       "<style scoped>\n",
       "    .dataframe tbody tr th:only-of-type {\n",
       "        vertical-align: middle;\n",
       "    }\n",
       "\n",
       "    .dataframe tbody tr th {\n",
       "        vertical-align: top;\n",
       "    }\n",
       "\n",
       "    .dataframe thead th {\n",
       "        text-align: right;\n",
       "    }\n",
       "</style>\n",
       "<table border=\"1\" class=\"dataframe\">\n",
       "  <thead>\n",
       "    <tr style=\"text-align: right;\">\n",
       "      <th></th>\n",
       "      <th>estimator</th>\n",
       "      <th>quantity of features</th>\n",
       "      <th>mean accuracy</th>\n",
       "    </tr>\n",
       "  </thead>\n",
       "  <tbody>\n",
       "    <tr>\n",
       "      <th>0</th>\n",
       "      <td>l1 selection</td>\n",
       "      <td>5</td>\n",
       "      <td>0.99</td>\n",
       "    </tr>\n",
       "    <tr>\n",
       "      <th>1</th>\n",
       "      <td>no selection</td>\n",
       "      <td>20</td>\n",
       "      <td>0.98</td>\n",
       "    </tr>\n",
       "    <tr>\n",
       "      <th>2</th>\n",
       "      <td>correlation selection</td>\n",
       "      <td>5</td>\n",
       "      <td>0.98</td>\n",
       "    </tr>\n",
       "    <tr>\n",
       "      <th>3</th>\n",
       "      <td>kbest selection</td>\n",
       "      <td>5</td>\n",
       "      <td>0.98</td>\n",
       "    </tr>\n",
       "    <tr>\n",
       "      <th>4</th>\n",
       "      <td>threshold selection</td>\n",
       "      <td>9</td>\n",
       "      <td>0.97</td>\n",
       "    </tr>\n",
       "  </tbody>\n",
       "</table>\n",
       "</div>"
      ],
      "text/plain": [
       "               estimator  quantity of features  mean accuracy\n",
       "0           l1 selection                     5           0.99\n",
       "1           no selection                    20           0.98\n",
       "2  correlation selection                     5           0.98\n",
       "3        kbest selection                     5           0.98\n",
       "4    threshold selection                     9           0.97"
      ]
     },
     "execution_count": 22,
     "metadata": {},
     "output_type": "execute_result"
    }
   ],
   "source": [
    "results = concat_accuracy(results, 'l1 selection', LogisticRegression(), X_l1, y)\n",
    "results"
   ]
  },
  {
   "cell_type": "code",
   "execution_count": 23,
   "metadata": {
    "executionInfo": {
     "elapsed": 8,
     "status": "ok",
     "timestamp": 1700067775367,
     "user": {
      "displayName": "artificial flesh",
      "userId": "00780849165661762341"
     },
     "user_tz": -300
    },
    "id": "TCnQDE1T1nOV"
   },
   "outputs": [],
   "source": [
    "selector = RandomForestClassifier(random_state=42)\n",
    "selector.fit(X, y)\n",
    "feature_importances = selector.feature_importances_\n",
    "features = feature_importances.argsort()[-5:]"
   ]
  },
  {
   "cell_type": "code",
   "execution_count": 24,
   "metadata": {
    "executionInfo": {
     "elapsed": 8,
     "status": "ok",
     "timestamp": 1700067775367,
     "user": {
      "displayName": "artificial flesh",
      "userId": "00780849165661762341"
     },
     "user_tz": -300
    },
    "id": "vKojtdlA0y6z"
   },
   "outputs": [],
   "source": [
    "X_rf = df.iloc[:, features]"
   ]
  },
  {
   "cell_type": "code",
   "execution_count": 25,
   "metadata": {
    "colab": {
     "base_uri": "https://localhost:8080/",
     "height": 237
    },
    "executionInfo": {
     "elapsed": 1240,
     "status": "ok",
     "timestamp": 1700067776599,
     "user": {
      "displayName": "artificial flesh",
      "userId": "00780849165661762341"
     },
     "user_tz": -300
    },
    "id": "0j_9z9Ga0yvl",
    "outputId": "d2565154-c346-4ac3-c574-6ff68ff338a2"
   },
   "outputs": [
    {
     "data": {
      "text/html": [
       "<div>\n",
       "<style scoped>\n",
       "    .dataframe tbody tr th:only-of-type {\n",
       "        vertical-align: middle;\n",
       "    }\n",
       "\n",
       "    .dataframe tbody tr th {\n",
       "        vertical-align: top;\n",
       "    }\n",
       "\n",
       "    .dataframe thead th {\n",
       "        text-align: right;\n",
       "    }\n",
       "</style>\n",
       "<table border=\"1\" class=\"dataframe\">\n",
       "  <thead>\n",
       "    <tr style=\"text-align: right;\">\n",
       "      <th></th>\n",
       "      <th>estimator</th>\n",
       "      <th>quantity of features</th>\n",
       "      <th>mean accuracy</th>\n",
       "    </tr>\n",
       "  </thead>\n",
       "  <tbody>\n",
       "    <tr>\n",
       "      <th>0</th>\n",
       "      <td>l1 selection</td>\n",
       "      <td>5</td>\n",
       "      <td>0.99</td>\n",
       "    </tr>\n",
       "    <tr>\n",
       "      <th>1</th>\n",
       "      <td>no selection</td>\n",
       "      <td>20</td>\n",
       "      <td>0.98</td>\n",
       "    </tr>\n",
       "    <tr>\n",
       "      <th>2</th>\n",
       "      <td>correlation selection</td>\n",
       "      <td>5</td>\n",
       "      <td>0.98</td>\n",
       "    </tr>\n",
       "    <tr>\n",
       "      <th>3</th>\n",
       "      <td>kbest selection</td>\n",
       "      <td>5</td>\n",
       "      <td>0.98</td>\n",
       "    </tr>\n",
       "    <tr>\n",
       "      <th>4</th>\n",
       "      <td>threshold selection</td>\n",
       "      <td>9</td>\n",
       "      <td>0.97</td>\n",
       "    </tr>\n",
       "    <tr>\n",
       "      <th>5</th>\n",
       "      <td>random forest selection</td>\n",
       "      <td>5</td>\n",
       "      <td>0.94</td>\n",
       "    </tr>\n",
       "  </tbody>\n",
       "</table>\n",
       "</div>"
      ],
      "text/plain": [
       "                 estimator  quantity of features  mean accuracy\n",
       "0             l1 selection                     5           0.99\n",
       "1             no selection                    20           0.98\n",
       "2    correlation selection                     5           0.98\n",
       "3          kbest selection                     5           0.98\n",
       "4      threshold selection                     9           0.97\n",
       "5  random forest selection                     5           0.94"
      ]
     },
     "execution_count": 25,
     "metadata": {},
     "output_type": "execute_result"
    }
   ],
   "source": [
    "results = concat_accuracy(results, 'random forest selection', RandomForestClassifier(random_state=42), X_rf, y)\n",
    "results"
   ]
  },
  {
   "cell_type": "markdown",
   "metadata": {
    "id": "gpsgNfjE4wU2"
   },
   "source": [
    "6. Перебор признаков:  \n",
    "\n",
    "    a) [SequentialFeatureSelector](https://scikit-learn.org/stable/modules/generated/sklearn.feature_selection.SequentialFeatureSelector.html).  \n",
    "    \n",
    "    b) Повторите п. 2 на отобранных признаках."
   ]
  },
  {
   "cell_type": "code",
   "execution_count": 26,
   "metadata": {
    "executionInfo": {
     "elapsed": 3064,
     "status": "ok",
     "timestamp": 1700067779660,
     "user": {
      "displayName": "artificial flesh",
      "userId": "00780849165661762341"
     },
     "user_tz": -300
    },
    "id": "wjh9oWPH4_rE"
   },
   "outputs": [],
   "source": [
    "selector = SequentialFeatureSelector(SVC(kernel='poly'), n_features_to_select=5)\n",
    "selector.fit(X, y)\n",
    "features = selector.get_support(indices=True)"
   ]
  },
  {
   "cell_type": "code",
   "execution_count": 27,
   "metadata": {
    "executionInfo": {
     "elapsed": 4,
     "status": "ok",
     "timestamp": 1700067779660,
     "user": {
      "displayName": "artificial flesh",
      "userId": "00780849165661762341"
     },
     "user_tz": -300
    },
    "id": "rY78CUOU7vMB"
   },
   "outputs": [],
   "source": [
    "X_sfs = df.iloc[:, features]"
   ]
  },
  {
   "cell_type": "code",
   "execution_count": 28,
   "metadata": {
    "colab": {
     "base_uri": "https://localhost:8080/",
     "height": 269
    },
    "executionInfo": {
     "elapsed": 426,
     "status": "ok",
     "timestamp": 1700067780083,
     "user": {
      "displayName": "artificial flesh",
      "userId": "00780849165661762341"
     },
     "user_tz": -300
    },
    "id": "R-LYzWI87vuI",
    "outputId": "e469b10f-f06e-4c5f-d8ba-073fbdcd5787"
   },
   "outputs": [],
   "source": [
    "results = concat_accuracy(results, 'sequential feature selection', LogisticRegression(), X_sfs, y)"
   ]
  },
  {
   "cell_type": "markdown",
   "metadata": {
    "id": "Tqy_FEWW78dn"
   },
   "source": [
    "7. Сформулируйте выводы по проделанной работе:  \n",
    "\n",
    "    a) Сделайте таблицу вида |способ выбора признаков|количество признаков|средняя точность модели|."
   ]
  },
  {
   "cell_type": "code",
   "execution_count": 29,
   "metadata": {
    "colab": {
     "base_uri": "https://localhost:8080/",
     "height": 269
    },
    "executionInfo": {
     "elapsed": 293,
     "status": "ok",
     "timestamp": 1700067800334,
     "user": {
      "displayName": "artificial flesh",
      "userId": "00780849165661762341"
     },
     "user_tz": -300
    },
    "id": "Re8KTWZ27-hu",
    "outputId": "4908e0e1-403d-4e2f-f853-e6443baa1366"
   },
   "outputs": [
    {
     "data": {
      "text/html": [
       "<div>\n",
       "<style scoped>\n",
       "    .dataframe tbody tr th:only-of-type {\n",
       "        vertical-align: middle;\n",
       "    }\n",
       "\n",
       "    .dataframe tbody tr th {\n",
       "        vertical-align: top;\n",
       "    }\n",
       "\n",
       "    .dataframe thead th {\n",
       "        text-align: right;\n",
       "    }\n",
       "</style>\n",
       "<table border=\"1\" class=\"dataframe\">\n",
       "  <thead>\n",
       "    <tr style=\"text-align: right;\">\n",
       "      <th></th>\n",
       "      <th>estimator</th>\n",
       "      <th>quantity of features</th>\n",
       "      <th>mean accuracy</th>\n",
       "    </tr>\n",
       "  </thead>\n",
       "  <tbody>\n",
       "    <tr>\n",
       "      <th>0</th>\n",
       "      <td>l1 selection</td>\n",
       "      <td>5</td>\n",
       "      <td>0.99</td>\n",
       "    </tr>\n",
       "    <tr>\n",
       "      <th>1</th>\n",
       "      <td>sequential feature selection</td>\n",
       "      <td>5</td>\n",
       "      <td>0.99</td>\n",
       "    </tr>\n",
       "    <tr>\n",
       "      <th>2</th>\n",
       "      <td>no selection</td>\n",
       "      <td>20</td>\n",
       "      <td>0.98</td>\n",
       "    </tr>\n",
       "    <tr>\n",
       "      <th>3</th>\n",
       "      <td>correlation selection</td>\n",
       "      <td>5</td>\n",
       "      <td>0.98</td>\n",
       "    </tr>\n",
       "    <tr>\n",
       "      <th>4</th>\n",
       "      <td>kbest selection</td>\n",
       "      <td>5</td>\n",
       "      <td>0.98</td>\n",
       "    </tr>\n",
       "    <tr>\n",
       "      <th>5</th>\n",
       "      <td>threshold selection</td>\n",
       "      <td>9</td>\n",
       "      <td>0.97</td>\n",
       "    </tr>\n",
       "    <tr>\n",
       "      <th>6</th>\n",
       "      <td>random forest selection</td>\n",
       "      <td>5</td>\n",
       "      <td>0.94</td>\n",
       "    </tr>\n",
       "  </tbody>\n",
       "</table>\n",
       "</div>"
      ],
      "text/plain": [
       "                      estimator  quantity of features  mean accuracy\n",
       "0                  l1 selection                     5           0.99\n",
       "1  sequential feature selection                     5           0.99\n",
       "2                  no selection                    20           0.98\n",
       "3         correlation selection                     5           0.98\n",
       "4               kbest selection                     5           0.98\n",
       "5           threshold selection                     9           0.97\n",
       "6       random forest selection                     5           0.94"
      ]
     },
     "execution_count": 29,
     "metadata": {},
     "output_type": "execute_result"
    }
   ],
   "source": [
    "results"
   ]
  }
 ],
 "metadata": {
  "colab": {
   "authorship_tag": "ABX9TyN6N1/wEKO/4KqZzi6fZrAh",
   "provenance": []
  },
  "kernelspec": {
   "display_name": "Python 3 (ipykernel)",
   "language": "python",
   "name": "python3"
  },
  "language_info": {
   "codemirror_mode": {
    "name": "ipython",
    "version": 3
   },
   "file_extension": ".py",
   "mimetype": "text/x-python",
   "name": "python",
   "nbconvert_exporter": "python",
   "pygments_lexer": "ipython3",
   "version": "3.9.12"
  }
 },
 "nbformat": 4,
 "nbformat_minor": 1
}
