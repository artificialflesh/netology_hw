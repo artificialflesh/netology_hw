{
 "cells": [
  {
   "cell_type": "code",
   "execution_count": 1,
   "id": "df021d19",
   "metadata": {},
   "outputs": [],
   "source": [
    "import pandas as pd\n",
    "import numpy as np\n",
    "from sklearn.preprocessing import LabelEncoder\n",
    "from sklearn.model_selection import train_test_split\n",
    "from sklearn.linear_model import LogisticRegression\n",
    "from sklearn.metrics import roc_curve\n",
    "from sklearn.metrics import roc_auc_score\n",
    "from sklearn.metrics import precision_recall_curve\n",
    "import matplotlib.pyplot as plt\n",
    "%matplotlib inline"
   ]
  },
  {
   "cell_type": "code",
   "execution_count": 2,
   "id": "37199cc6",
   "metadata": {},
   "outputs": [],
   "source": [
    "initial_df = pd.read_csv('https://raw.githubusercontent.com/artificialflesh/training_projects/master/05_features_n_models/04_athletes.csv')"
   ]
  },
  {
   "cell_type": "code",
   "execution_count": 3,
   "id": "d641c3d8",
   "metadata": {},
   "outputs": [
    {
     "data": {
      "text/html": [
       "<div>\n",
       "<style scoped>\n",
       "    .dataframe tbody tr th:only-of-type {\n",
       "        vertical-align: middle;\n",
       "    }\n",
       "\n",
       "    .dataframe tbody tr th {\n",
       "        vertical-align: top;\n",
       "    }\n",
       "\n",
       "    .dataframe thead th {\n",
       "        text-align: right;\n",
       "    }\n",
       "</style>\n",
       "<table border=\"1\" class=\"dataframe\">\n",
       "  <thead>\n",
       "    <tr style=\"text-align: right;\">\n",
       "      <th></th>\n",
       "      <th>id</th>\n",
       "      <th>name</th>\n",
       "      <th>nationality</th>\n",
       "      <th>sex</th>\n",
       "      <th>dob</th>\n",
       "      <th>height</th>\n",
       "      <th>weight</th>\n",
       "      <th>sport</th>\n",
       "      <th>gold</th>\n",
       "      <th>silver</th>\n",
       "      <th>bronze</th>\n",
       "    </tr>\n",
       "  </thead>\n",
       "  <tbody>\n",
       "    <tr>\n",
       "      <th>0</th>\n",
       "      <td>736041664</td>\n",
       "      <td>A Jesus Garcia</td>\n",
       "      <td>ESP</td>\n",
       "      <td>male</td>\n",
       "      <td>10/17/69</td>\n",
       "      <td>1.72</td>\n",
       "      <td>64.0</td>\n",
       "      <td>athletics</td>\n",
       "      <td>0</td>\n",
       "      <td>0</td>\n",
       "      <td>0</td>\n",
       "    </tr>\n",
       "    <tr>\n",
       "      <th>1</th>\n",
       "      <td>532037425</td>\n",
       "      <td>A Lam Shin</td>\n",
       "      <td>KOR</td>\n",
       "      <td>female</td>\n",
       "      <td>9/23/86</td>\n",
       "      <td>1.68</td>\n",
       "      <td>56.0</td>\n",
       "      <td>fencing</td>\n",
       "      <td>0</td>\n",
       "      <td>0</td>\n",
       "      <td>0</td>\n",
       "    </tr>\n",
       "    <tr>\n",
       "      <th>2</th>\n",
       "      <td>435962603</td>\n",
       "      <td>Aaron Brown</td>\n",
       "      <td>CAN</td>\n",
       "      <td>male</td>\n",
       "      <td>5/27/92</td>\n",
       "      <td>1.98</td>\n",
       "      <td>79.0</td>\n",
       "      <td>athletics</td>\n",
       "      <td>0</td>\n",
       "      <td>0</td>\n",
       "      <td>1</td>\n",
       "    </tr>\n",
       "    <tr>\n",
       "      <th>3</th>\n",
       "      <td>521041435</td>\n",
       "      <td>Aaron Cook</td>\n",
       "      <td>MDA</td>\n",
       "      <td>male</td>\n",
       "      <td>1/2/91</td>\n",
       "      <td>1.83</td>\n",
       "      <td>80.0</td>\n",
       "      <td>taekwondo</td>\n",
       "      <td>0</td>\n",
       "      <td>0</td>\n",
       "      <td>0</td>\n",
       "    </tr>\n",
       "    <tr>\n",
       "      <th>4</th>\n",
       "      <td>33922579</td>\n",
       "      <td>Aaron Gate</td>\n",
       "      <td>NZL</td>\n",
       "      <td>male</td>\n",
       "      <td>11/26/90</td>\n",
       "      <td>1.81</td>\n",
       "      <td>71.0</td>\n",
       "      <td>cycling</td>\n",
       "      <td>0</td>\n",
       "      <td>0</td>\n",
       "      <td>0</td>\n",
       "    </tr>\n",
       "  </tbody>\n",
       "</table>\n",
       "</div>"
      ],
      "text/plain": [
       "          id            name nationality     sex       dob  height  weight  \\\n",
       "0  736041664  A Jesus Garcia         ESP    male  10/17/69    1.72    64.0   \n",
       "1  532037425      A Lam Shin         KOR  female   9/23/86    1.68    56.0   \n",
       "2  435962603     Aaron Brown         CAN    male   5/27/92    1.98    79.0   \n",
       "3  521041435      Aaron Cook         MDA    male    1/2/91    1.83    80.0   \n",
       "4   33922579      Aaron Gate         NZL    male  11/26/90    1.81    71.0   \n",
       "\n",
       "       sport  gold  silver  bronze  \n",
       "0  athletics     0       0       0  \n",
       "1    fencing     0       0       0  \n",
       "2  athletics     0       0       1  \n",
       "3  taekwondo     0       0       0  \n",
       "4    cycling     0       0       0  "
      ]
     },
     "execution_count": 3,
     "metadata": {},
     "output_type": "execute_result"
    }
   ],
   "source": [
    "initial_df.head()"
   ]
  },
  {
   "cell_type": "markdown",
   "id": "98686570",
   "metadata": {},
   "source": [
    "Поскольку предсказывать будем признак пола, оставим только те данные, которые в этом могут помочь"
   ]
  },
  {
   "cell_type": "code",
   "execution_count": 4,
   "id": "7bf062c9",
   "metadata": {},
   "outputs": [],
   "source": [
    "columns = ['nationality', 'sex', 'height', 'weight', 'sport']"
   ]
  },
  {
   "cell_type": "code",
   "execution_count": 5,
   "id": "ab939815",
   "metadata": {},
   "outputs": [
    {
     "data": {
      "text/html": [
       "<div>\n",
       "<style scoped>\n",
       "    .dataframe tbody tr th:only-of-type {\n",
       "        vertical-align: middle;\n",
       "    }\n",
       "\n",
       "    .dataframe tbody tr th {\n",
       "        vertical-align: top;\n",
       "    }\n",
       "\n",
       "    .dataframe thead th {\n",
       "        text-align: right;\n",
       "    }\n",
       "</style>\n",
       "<table border=\"1\" class=\"dataframe\">\n",
       "  <thead>\n",
       "    <tr style=\"text-align: right;\">\n",
       "      <th></th>\n",
       "      <th>nationality</th>\n",
       "      <th>sex</th>\n",
       "      <th>height</th>\n",
       "      <th>weight</th>\n",
       "      <th>sport</th>\n",
       "    </tr>\n",
       "  </thead>\n",
       "  <tbody>\n",
       "    <tr>\n",
       "      <th>0</th>\n",
       "      <td>ESP</td>\n",
       "      <td>male</td>\n",
       "      <td>1.72</td>\n",
       "      <td>64.0</td>\n",
       "      <td>athletics</td>\n",
       "    </tr>\n",
       "    <tr>\n",
       "      <th>1</th>\n",
       "      <td>KOR</td>\n",
       "      <td>female</td>\n",
       "      <td>1.68</td>\n",
       "      <td>56.0</td>\n",
       "      <td>fencing</td>\n",
       "    </tr>\n",
       "    <tr>\n",
       "      <th>2</th>\n",
       "      <td>CAN</td>\n",
       "      <td>male</td>\n",
       "      <td>1.98</td>\n",
       "      <td>79.0</td>\n",
       "      <td>athletics</td>\n",
       "    </tr>\n",
       "    <tr>\n",
       "      <th>3</th>\n",
       "      <td>MDA</td>\n",
       "      <td>male</td>\n",
       "      <td>1.83</td>\n",
       "      <td>80.0</td>\n",
       "      <td>taekwondo</td>\n",
       "    </tr>\n",
       "    <tr>\n",
       "      <th>4</th>\n",
       "      <td>NZL</td>\n",
       "      <td>male</td>\n",
       "      <td>1.81</td>\n",
       "      <td>71.0</td>\n",
       "      <td>cycling</td>\n",
       "    </tr>\n",
       "  </tbody>\n",
       "</table>\n",
       "</div>"
      ],
      "text/plain": [
       "  nationality     sex  height  weight      sport\n",
       "0         ESP    male    1.72    64.0  athletics\n",
       "1         KOR  female    1.68    56.0    fencing\n",
       "2         CAN    male    1.98    79.0  athletics\n",
       "3         MDA    male    1.83    80.0  taekwondo\n",
       "4         NZL    male    1.81    71.0    cycling"
      ]
     },
     "execution_count": 5,
     "metadata": {},
     "output_type": "execute_result"
    }
   ],
   "source": [
    "df = initial_df[columns]\n",
    "df.head()"
   ]
  },
  {
   "cell_type": "markdown",
   "id": "de229bda",
   "metadata": {},
   "source": [
    "Посмотрим, нет ли странных значений в данных и узнаем, есть ли выбросы"
   ]
  },
  {
   "cell_type": "code",
   "execution_count": 6,
   "id": "f33cd46b",
   "metadata": {},
   "outputs": [
    {
     "name": "stdout",
     "output_type": "stream",
     "text": [
      "nationality: ['AFG', 'ALB', 'ALG', 'AND', 'ANG', 'ANT', 'ARG', 'ARM', 'ARU', 'ASA', 'AUS', 'AUT', 'AZE', 'BAH', 'BAN', 'BAR', 'BDI', 'BEL', 'BEN', 'BER', 'BHU', 'BIH', 'BIZ', 'BLR', 'BOL', 'BOT', 'BRA', 'BRN', 'BRU', 'BUL', 'BUR', 'CAF', 'CAM', 'CAN', 'CAY', 'CGO', 'CHA', 'CHI', 'CHN', 'CIV', 'CMR', 'COD', 'COK', 'COL', 'COM', 'CPV', 'CRC', 'CRO', 'CUB', 'CYP', 'CZE', 'DEN', 'DJI', 'DMA', 'DOM', 'ECU', 'EGY', 'ERI', 'ESA', 'ESP', 'EST', 'ETH', 'FIJ', 'FIN', 'FRA', 'FSM', 'GAB', 'GAM', 'GBR', 'GBS', 'GEO', 'GEQ', 'GER', 'GHA', 'GRE', 'GRN', 'GUA', 'GUI', 'GUM', 'GUY', 'HAI', 'HKG', 'HON', 'HUN', 'INA', 'IND', 'IOA', 'IRI', 'IRL', 'IRQ', 'ISL', 'ISR', 'ISV', 'ITA', 'IVB', 'JAM', 'JOR', 'JPN', 'KAZ', 'KEN', 'KGZ', 'KIR', 'KOR', 'KOS', 'KSA', 'LAO', 'LAT', 'LBA', 'LBR', 'LCA', 'LES', 'LIB', 'LIE', 'LTU', 'LUX', 'MAD', 'MAR', 'MAS', 'MAW', 'MDA', 'MDV', 'MEX', 'MGL', 'MHL', 'MKD', 'MLI', 'MLT', 'MNE', 'MON', 'MOZ', 'MRI', 'MTN', 'MYA', 'NAM', 'NCA', 'NED', 'NEP', 'NGR', 'NIG', 'NOR', 'NRU', 'NZL', 'OMA', 'PAK', 'PAN', 'PAR', 'PER', 'PHI', 'PLE', 'PLW', 'PNG', 'POL', 'POR', 'PRK', 'PUR', 'QAT', 'ROT', 'ROU', 'RSA', 'RUS', 'RWA', 'SAM', 'SEN', 'SEY', 'SIN', 'SKN', 'SLE', 'SLO', 'SMR', 'SOL', 'SOM', 'SRB', 'SRI', 'SSD', 'STP', 'SUD', 'SUI', 'SUR', 'SVK', 'SWE', 'SWZ', 'SYR', 'TAN', 'TGA', 'THA', 'TJK', 'TKM', 'TLS', 'TOG', 'TPE', 'TTO', 'TUN', 'TUR', 'TUV', 'UAE', 'UGA', 'UKR', 'URU', 'USA', 'UZB', 'VAN', 'VEN', 'VIE', 'VIN', 'YEM', 'ZAM', 'ZIM']\n",
      "sex: ['female', 'male']\n",
      "height: [1.58, 1.6, 1.61, 1.62, 1.63, 1.65, 1.66, 1.67, 1.68, 1.69, 1.7, 1.71, 1.72, 1.73, 1.74, 1.75, 1.76, 1.77, 1.78, 1.79, 1.8, 1.81, 1.82, 1.83, 1.84, 1.85, 1.86, 1.87, 1.88, 1.89, 1.9, 1.91, 1.93, 1.98, 2.05, nan, 1.21, 1.33, 1.34, 1.37, 1.38, 1.4, 1.42, 1.43, 1.44, 1.45, 1.46, 1.47, 1.48, 1.49, 1.5, 1.51, 1.52, 1.53, 1.54, 1.55, 1.56, 1.57, 1.59, 1.64, 1.92, 1.94, 1.95, 1.96, 1.97, 1.99, 2.0, 2.01, 2.02, 2.03, 2.04, 2.06, 2.07, 2.08, 2.09, 2.1, 2.11, 2.13, 2.14, 2.15, 2.17, 2.18, 2.21]\n",
      "weight: [35.0, 44.0, 46.0, 47.0, 48.0, 49.0, 50.0, 51.0, 52.0, 53.0, 54.0, 55.0, 56.0, 57.0, 58.0, 59.0, 60.0, 61.0, 62.0, 63.0, 64.0, 65.0, 66.0, 67.0, 68.0, 69.0, 70.0, 71.0, 72.0, 73.0, 74.0, 75.0, 76.0, 77.0, 78.0, 79.0, 80.0, 81.0, 82.0, 83.0, 84.0, 85.0, 86.0, 87.0, 88.0, 89.0, 90.0, 92.0, 94.0, 95.0, 98.0, 100.0, nan, 31.0, 33.0, 34.0, 36.0, 37.0, 39.0, 40.0, 41.0, 42.0, 43.0, 45.0, 91.0, 93.0, 96.0, 97.0, 99.0, 101.0, 102.0, 103.0, 104.0, 105.0, 106.0, 107.0, 108.0, 109.0, 110.0, 111.0, 112.0, 113.0, 114.0, 115.0, 116.0, 117.0, 118.0, 119.0, 120.0, 121.0, 122.0, 123.0, 124.0, 125.0, 126.0, 127.0, 128.0, 130.0, 132.0, 133.0, 134.0, 135.0, 136.0, 137.0, 138.0, 139.0, 140.0, 142.0, 143.0, 144.0, 145.0, 146.0, 148.0, 149.0, 150.0, 152.0, 154.0, 155.0, 157.0, 159.0, 160.0, 163.0, 165.0, 170.0]\n",
      "sport: ['aquatics', 'archery', 'athletics', 'badminton', 'basketball', 'boxing', 'canoe', 'cycling', 'equestrian', 'fencing', 'football', 'golf', 'gymnastics', 'handball', 'hockey', 'judo', 'modern pentathlon', 'rowing', 'rugby sevens', 'sailing', 'shooting', 'table tennis', 'taekwondo', 'tennis', 'triathlon', 'volleyball', 'weightlifting', 'wrestling']\n"
     ]
    }
   ],
   "source": [
    "for column in columns:\n",
    "    print(f'{column}: {sorted(list(df[column].unique()))}')"
   ]
  },
  {
   "cell_type": "code",
   "execution_count": 7,
   "id": "f13e47ab",
   "metadata": {},
   "outputs": [],
   "source": [
    "def outliers(column):\n",
    "    q1 = df[column].quantile(0.25)\n",
    "    q3 = df[column].quantile(0.75)\n",
    "    iqr = q3 - q1\n",
    "    lower_bound = q1 - (1.5 * iqr) \n",
    "    upper_bound = q3 + (1.5 * iqr)\n",
    "    check = df[~df[column].between(lower_bound, upper_bound, inclusive='both')]\n",
    "    count = check[column].count()\n",
    "    min_ = check[column].min()\n",
    "    max_ = check[column].max()\n",
    "    return f'{column} outliers - {count}, min - {min_}, max - {max_}, ' \\\n",
    "            f'lower bound - {lower_bound:.2f}, upper bound - {upper_bound:.2f}'"
   ]
  },
  {
   "cell_type": "code",
   "execution_count": 8,
   "id": "770dfa0d",
   "metadata": {},
   "outputs": [],
   "source": [
    "columns_for_outliers = ['height', 'weight']"
   ]
  },
  {
   "cell_type": "code",
   "execution_count": 9,
   "id": "ed772d62",
   "metadata": {},
   "outputs": [
    {
     "data": {
      "text/plain": [
       "['height outliers - 92, min - 1.21, max - 2.21, lower bound - 1.46, upper bound - 2.07',\n",
       " 'weight outliers - 224, min - 113.0, max - 170.0, lower bound - 28.50, upper bound - 112.50']"
      ]
     },
     "execution_count": 9,
     "metadata": {},
     "output_type": "execute_result"
    }
   ],
   "source": [
    "list(map(outliers, columns_for_outliers))"
   ]
  },
  {
   "cell_type": "code",
   "execution_count": 10,
   "id": "21a17c5d",
   "metadata": {},
   "outputs": [
    {
     "name": "stderr",
     "output_type": "stream",
     "text": [
      "C:\\Users\\m3thk\\AppData\\Local\\Temp\\ipykernel_11816\\1622008012.py:1: SettingWithCopyWarning: \n",
      "A value is trying to be set on a copy of a slice from a DataFrame.\n",
      "Try using .loc[row_indexer,col_indexer] = value instead\n",
      "\n",
      "See the caveats in the documentation: https://pandas.pydata.org/pandas-docs/stable/user_guide/indexing.html#returning-a-view-versus-a-copy\n",
      "  df['dob'] = initial_df['dob']\n"
     ]
    }
   ],
   "source": [
    "df['dob'] = initial_df['dob']"
   ]
  },
  {
   "cell_type": "code",
   "execution_count": 11,
   "id": "0d05ff25",
   "metadata": {},
   "outputs": [
    {
     "data": {
      "text/html": [
       "<div>\n",
       "<style scoped>\n",
       "    .dataframe tbody tr th:only-of-type {\n",
       "        vertical-align: middle;\n",
       "    }\n",
       "\n",
       "    .dataframe tbody tr th {\n",
       "        vertical-align: top;\n",
       "    }\n",
       "\n",
       "    .dataframe thead th {\n",
       "        text-align: right;\n",
       "    }\n",
       "</style>\n",
       "<table border=\"1\" class=\"dataframe\">\n",
       "  <thead>\n",
       "    <tr style=\"text-align: right;\">\n",
       "      <th></th>\n",
       "      <th>nationality</th>\n",
       "      <th>sex</th>\n",
       "      <th>height</th>\n",
       "      <th>weight</th>\n",
       "      <th>sport</th>\n",
       "      <th>dob</th>\n",
       "    </tr>\n",
       "  </thead>\n",
       "  <tbody>\n",
       "    <tr>\n",
       "      <th>210</th>\n",
       "      <td>JPN</td>\n",
       "      <td>female</td>\n",
       "      <td>1.46</td>\n",
       "      <td>35.0</td>\n",
       "      <td>gymnastics</td>\n",
       "      <td>9/19/99</td>\n",
       "    </tr>\n",
       "    <tr>\n",
       "      <th>1080</th>\n",
       "      <td>FIJ</td>\n",
       "      <td>female</td>\n",
       "      <td>1.37</td>\n",
       "      <td>69.0</td>\n",
       "      <td>weightlifting</td>\n",
       "      <td>2/5/91</td>\n",
       "    </tr>\n",
       "    <tr>\n",
       "      <th>1221</th>\n",
       "      <td>JPN</td>\n",
       "      <td>female</td>\n",
       "      <td>1.45</td>\n",
       "      <td>37.0</td>\n",
       "      <td>gymnastics</td>\n",
       "      <td>11/19/95</td>\n",
       "    </tr>\n",
       "    <tr>\n",
       "      <th>1907</th>\n",
       "      <td>IND</td>\n",
       "      <td>female</td>\n",
       "      <td>1.45</td>\n",
       "      <td>48.0</td>\n",
       "      <td>weightlifting</td>\n",
       "      <td>8/8/94</td>\n",
       "    </tr>\n",
       "    <tr>\n",
       "      <th>2106</th>\n",
       "      <td>CHN</td>\n",
       "      <td>female</td>\n",
       "      <td>1.43</td>\n",
       "      <td>34.0</td>\n",
       "      <td>gymnastics</td>\n",
       "      <td>3/18/96</td>\n",
       "    </tr>\n",
       "    <tr>\n",
       "      <th>2139</th>\n",
       "      <td>GBR</td>\n",
       "      <td>female</td>\n",
       "      <td>1.37</td>\n",
       "      <td>43.0</td>\n",
       "      <td>gymnastics</td>\n",
       "      <td>10/24/97</td>\n",
       "    </tr>\n",
       "    <tr>\n",
       "      <th>2933</th>\n",
       "      <td>CAF</td>\n",
       "      <td>female</td>\n",
       "      <td>1.33</td>\n",
       "      <td>53.0</td>\n",
       "      <td>athletics</td>\n",
       "      <td>6/7/89</td>\n",
       "    </tr>\n",
       "    <tr>\n",
       "      <th>3429</th>\n",
       "      <td>BRA</td>\n",
       "      <td>female</td>\n",
       "      <td>1.33</td>\n",
       "      <td>31.0</td>\n",
       "      <td>gymnastics</td>\n",
       "      <td>9/30/99</td>\n",
       "    </tr>\n",
       "    <tr>\n",
       "      <th>3570</th>\n",
       "      <td>BEL</td>\n",
       "      <td>female</td>\n",
       "      <td>1.44</td>\n",
       "      <td>57.0</td>\n",
       "      <td>gymnastics</td>\n",
       "      <td>11/16/91</td>\n",
       "    </tr>\n",
       "    <tr>\n",
       "      <th>4121</th>\n",
       "      <td>JPN</td>\n",
       "      <td>female</td>\n",
       "      <td>1.45</td>\n",
       "      <td>48.0</td>\n",
       "      <td>weightlifting</td>\n",
       "      <td>11/18/85</td>\n",
       "    </tr>\n",
       "    <tr>\n",
       "      <th>4599</th>\n",
       "      <td>GUY</td>\n",
       "      <td>female</td>\n",
       "      <td>1.43</td>\n",
       "      <td>58.0</td>\n",
       "      <td>aquatics</td>\n",
       "      <td>3/20/97</td>\n",
       "    </tr>\n",
       "    <tr>\n",
       "      <th>5227</th>\n",
       "      <td>GUA</td>\n",
       "      <td>male</td>\n",
       "      <td>1.45</td>\n",
       "      <td>58.0</td>\n",
       "      <td>athletics</td>\n",
       "      <td>7/17/85</td>\n",
       "    </tr>\n",
       "    <tr>\n",
       "      <th>6576</th>\n",
       "      <td>JPN</td>\n",
       "      <td>female</td>\n",
       "      <td>1.46</td>\n",
       "      <td>48.0</td>\n",
       "      <td>gymnastics</td>\n",
       "      <td>8/5/96</td>\n",
       "    </tr>\n",
       "    <tr>\n",
       "      <th>6715</th>\n",
       "      <td>CUB</td>\n",
       "      <td>female</td>\n",
       "      <td>1.43</td>\n",
       "      <td>41.0</td>\n",
       "      <td>gymnastics</td>\n",
       "      <td>7/21/99</td>\n",
       "    </tr>\n",
       "    <tr>\n",
       "      <th>7846</th>\n",
       "      <td>KEN</td>\n",
       "      <td>female</td>\n",
       "      <td>1.21</td>\n",
       "      <td>47.0</td>\n",
       "      <td>athletics</td>\n",
       "      <td>10/8/93</td>\n",
       "    </tr>\n",
       "    <tr>\n",
       "      <th>8312</th>\n",
       "      <td>NGR</td>\n",
       "      <td>female</td>\n",
       "      <td>1.38</td>\n",
       "      <td>55.0</td>\n",
       "      <td>athletics</td>\n",
       "      <td>4/23/97</td>\n",
       "    </tr>\n",
       "    <tr>\n",
       "      <th>8339</th>\n",
       "      <td>FRA</td>\n",
       "      <td>female</td>\n",
       "      <td>1.34</td>\n",
       "      <td>37.0</td>\n",
       "      <td>gymnastics</td>\n",
       "      <td>8/31/00</td>\n",
       "    </tr>\n",
       "    <tr>\n",
       "      <th>8435</th>\n",
       "      <td>ECU</td>\n",
       "      <td>female</td>\n",
       "      <td>1.45</td>\n",
       "      <td>43.0</td>\n",
       "      <td>athletics</td>\n",
       "      <td>12/21/89</td>\n",
       "    </tr>\n",
       "    <tr>\n",
       "      <th>8914</th>\n",
       "      <td>BRA</td>\n",
       "      <td>female</td>\n",
       "      <td>1.45</td>\n",
       "      <td>45.0</td>\n",
       "      <td>gymnastics</td>\n",
       "      <td>5/8/99</td>\n",
       "    </tr>\n",
       "    <tr>\n",
       "      <th>9213</th>\n",
       "      <td>CAN</td>\n",
       "      <td>female</td>\n",
       "      <td>1.45</td>\n",
       "      <td>46.0</td>\n",
       "      <td>gymnastics</td>\n",
       "      <td>1/12/00</td>\n",
       "    </tr>\n",
       "    <tr>\n",
       "      <th>9346</th>\n",
       "      <td>JPN</td>\n",
       "      <td>female</td>\n",
       "      <td>1.45</td>\n",
       "      <td>34.0</td>\n",
       "      <td>gymnastics</td>\n",
       "      <td>9/10/99</td>\n",
       "    </tr>\n",
       "    <tr>\n",
       "      <th>9630</th>\n",
       "      <td>RUS</td>\n",
       "      <td>female</td>\n",
       "      <td>1.42</td>\n",
       "      <td>35.0</td>\n",
       "      <td>gymnastics</td>\n",
       "      <td>7/15/99</td>\n",
       "    </tr>\n",
       "    <tr>\n",
       "      <th>9895</th>\n",
       "      <td>USA</td>\n",
       "      <td>female</td>\n",
       "      <td>1.45</td>\n",
       "      <td>47.0</td>\n",
       "      <td>gymnastics</td>\n",
       "      <td>3/14/97</td>\n",
       "    </tr>\n",
       "    <tr>\n",
       "      <th>10751</th>\n",
       "      <td>ITA</td>\n",
       "      <td>female</td>\n",
       "      <td>1.45</td>\n",
       "      <td>45.0</td>\n",
       "      <td>gymnastics</td>\n",
       "      <td>11/10/90</td>\n",
       "    </tr>\n",
       "    <tr>\n",
       "      <th>11124</th>\n",
       "      <td>CHN</td>\n",
       "      <td>female</td>\n",
       "      <td>1.40</td>\n",
       "      <td>33.0</td>\n",
       "      <td>gymnastics</td>\n",
       "      <td>10/30/99</td>\n",
       "    </tr>\n",
       "  </tbody>\n",
       "</table>\n",
       "</div>"
      ],
      "text/plain": [
       "      nationality     sex  height  weight          sport       dob\n",
       "210           JPN  female    1.46    35.0     gymnastics   9/19/99\n",
       "1080          FIJ  female    1.37    69.0  weightlifting    2/5/91\n",
       "1221          JPN  female    1.45    37.0     gymnastics  11/19/95\n",
       "1907          IND  female    1.45    48.0  weightlifting    8/8/94\n",
       "2106          CHN  female    1.43    34.0     gymnastics   3/18/96\n",
       "2139          GBR  female    1.37    43.0     gymnastics  10/24/97\n",
       "2933          CAF  female    1.33    53.0      athletics    6/7/89\n",
       "3429          BRA  female    1.33    31.0     gymnastics   9/30/99\n",
       "3570          BEL  female    1.44    57.0     gymnastics  11/16/91\n",
       "4121          JPN  female    1.45    48.0  weightlifting  11/18/85\n",
       "4599          GUY  female    1.43    58.0       aquatics   3/20/97\n",
       "5227          GUA    male    1.45    58.0      athletics   7/17/85\n",
       "6576          JPN  female    1.46    48.0     gymnastics    8/5/96\n",
       "6715          CUB  female    1.43    41.0     gymnastics   7/21/99\n",
       "7846          KEN  female    1.21    47.0      athletics   10/8/93\n",
       "8312          NGR  female    1.38    55.0      athletics   4/23/97\n",
       "8339          FRA  female    1.34    37.0     gymnastics   8/31/00\n",
       "8435          ECU  female    1.45    43.0      athletics  12/21/89\n",
       "8914          BRA  female    1.45    45.0     gymnastics    5/8/99\n",
       "9213          CAN  female    1.45    46.0     gymnastics   1/12/00\n",
       "9346          JPN  female    1.45    34.0     gymnastics   9/10/99\n",
       "9630          RUS  female    1.42    35.0     gymnastics   7/15/99\n",
       "9895          USA  female    1.45    47.0     gymnastics   3/14/97\n",
       "10751         ITA  female    1.45    45.0     gymnastics  11/10/90\n",
       "11124         CHN  female    1.40    33.0     gymnastics  10/30/99"
      ]
     },
     "execution_count": 11,
     "metadata": {},
     "output_type": "execute_result"
    }
   ],
   "source": [
    "df[df['height'].between(1.21, 1.46, inclusive='both')]"
   ]
  },
  {
   "cell_type": "code",
   "execution_count": 12,
   "id": "b9c40951",
   "metadata": {
    "scrolled": false
   },
   "outputs": [
    {
     "data": {
      "text/html": [
       "<div>\n",
       "<style scoped>\n",
       "    .dataframe tbody tr th:only-of-type {\n",
       "        vertical-align: middle;\n",
       "    }\n",
       "\n",
       "    .dataframe tbody tr th {\n",
       "        vertical-align: top;\n",
       "    }\n",
       "\n",
       "    .dataframe thead th {\n",
       "        text-align: right;\n",
       "    }\n",
       "</style>\n",
       "<table border=\"1\" class=\"dataframe\">\n",
       "  <thead>\n",
       "    <tr style=\"text-align: right;\">\n",
       "      <th></th>\n",
       "      <th>nationality</th>\n",
       "      <th>sex</th>\n",
       "      <th>height</th>\n",
       "      <th>weight</th>\n",
       "      <th>sport</th>\n",
       "      <th>dob</th>\n",
       "    </tr>\n",
       "  </thead>\n",
       "  <tbody>\n",
       "    <tr>\n",
       "      <th>19</th>\n",
       "      <td>EGY</td>\n",
       "      <td>male</td>\n",
       "      <td>2.10</td>\n",
       "      <td>88.0</td>\n",
       "      <td>volleyball</td>\n",
       "      <td>6/3/89</td>\n",
       "    </tr>\n",
       "    <tr>\n",
       "      <th>48</th>\n",
       "      <td>NIG</td>\n",
       "      <td>male</td>\n",
       "      <td>2.07</td>\n",
       "      <td>98.0</td>\n",
       "      <td>taekwondo</td>\n",
       "      <td>12/26/94</td>\n",
       "    </tr>\n",
       "    <tr>\n",
       "      <th>250</th>\n",
       "      <td>NGR</td>\n",
       "      <td>male</td>\n",
       "      <td>2.10</td>\n",
       "      <td>102.0</td>\n",
       "      <td>basketball</td>\n",
       "      <td>9/14/87</td>\n",
       "    </tr>\n",
       "    <tr>\n",
       "      <th>402</th>\n",
       "      <td>RUS</td>\n",
       "      <td>male</td>\n",
       "      <td>2.10</td>\n",
       "      <td>90.0</td>\n",
       "      <td>volleyball</td>\n",
       "      <td>2/14/85</td>\n",
       "    </tr>\n",
       "    <tr>\n",
       "      <th>823</th>\n",
       "      <td>AUS</td>\n",
       "      <td>male</td>\n",
       "      <td>2.07</td>\n",
       "      <td>122.0</td>\n",
       "      <td>basketball</td>\n",
       "      <td>11/28/84</td>\n",
       "    </tr>\n",
       "    <tr>\n",
       "      <th>...</th>\n",
       "      <td>...</td>\n",
       "      <td>...</td>\n",
       "      <td>...</td>\n",
       "      <td>...</td>\n",
       "      <td>...</td>\n",
       "      <td>...</td>\n",
       "    </tr>\n",
       "    <tr>\n",
       "      <th>9251</th>\n",
       "      <td>FRA</td>\n",
       "      <td>male</td>\n",
       "      <td>2.15</td>\n",
       "      <td>113.0</td>\n",
       "      <td>basketball</td>\n",
       "      <td>6/26/92</td>\n",
       "    </tr>\n",
       "    <tr>\n",
       "      <th>10042</th>\n",
       "      <td>SRB</td>\n",
       "      <td>male</td>\n",
       "      <td>2.10</td>\n",
       "      <td>104.0</td>\n",
       "      <td>basketball</td>\n",
       "      <td>12/13/89</td>\n",
       "    </tr>\n",
       "    <tr>\n",
       "      <th>10922</th>\n",
       "      <td>SRB</td>\n",
       "      <td>male</td>\n",
       "      <td>2.11</td>\n",
       "      <td>112.0</td>\n",
       "      <td>basketball</td>\n",
       "      <td>8/25/87</td>\n",
       "    </tr>\n",
       "    <tr>\n",
       "      <th>11023</th>\n",
       "      <td>ESP</td>\n",
       "      <td>male</td>\n",
       "      <td>2.10</td>\n",
       "      <td>115.0</td>\n",
       "      <td>basketball</td>\n",
       "      <td>5/27/94</td>\n",
       "    </tr>\n",
       "    <tr>\n",
       "      <th>11475</th>\n",
       "      <td>CHN</td>\n",
       "      <td>male</td>\n",
       "      <td>2.14</td>\n",
       "      <td>100.0</td>\n",
       "      <td>basketball</td>\n",
       "      <td>1/20/94</td>\n",
       "    </tr>\n",
       "  </tbody>\n",
       "</table>\n",
       "<p>67 rows × 6 columns</p>\n",
       "</div>"
      ],
      "text/plain": [
       "      nationality   sex  height  weight       sport       dob\n",
       "19            EGY  male    2.10    88.0  volleyball    6/3/89\n",
       "48            NIG  male    2.07    98.0   taekwondo  12/26/94\n",
       "250           NGR  male    2.10   102.0  basketball   9/14/87\n",
       "402           RUS  male    2.10    90.0  volleyball   2/14/85\n",
       "823           AUS  male    2.07   122.0  basketball  11/28/84\n",
       "...           ...   ...     ...     ...         ...       ...\n",
       "9251          FRA  male    2.15   113.0  basketball   6/26/92\n",
       "10042         SRB  male    2.10   104.0  basketball  12/13/89\n",
       "10922         SRB  male    2.11   112.0  basketball   8/25/87\n",
       "11023         ESP  male    2.10   115.0  basketball   5/27/94\n",
       "11475         CHN  male    2.14   100.0  basketball   1/20/94\n",
       "\n",
       "[67 rows x 6 columns]"
      ]
     },
     "execution_count": 12,
     "metadata": {},
     "output_type": "execute_result"
    }
   ],
   "source": [
    "df[df['height'].between(2.07, 2.21, inclusive='both')]"
   ]
  },
  {
   "cell_type": "code",
   "execution_count": 13,
   "id": "7135c2bd",
   "metadata": {
    "scrolled": false
   },
   "outputs": [
    {
     "data": {
      "text/html": [
       "<div>\n",
       "<style scoped>\n",
       "    .dataframe tbody tr th:only-of-type {\n",
       "        vertical-align: middle;\n",
       "    }\n",
       "\n",
       "    .dataframe tbody tr th {\n",
       "        vertical-align: top;\n",
       "    }\n",
       "\n",
       "    .dataframe thead th {\n",
       "        text-align: right;\n",
       "    }\n",
       "</style>\n",
       "<table border=\"1\" class=\"dataframe\">\n",
       "  <thead>\n",
       "    <tr style=\"text-align: right;\">\n",
       "      <th></th>\n",
       "      <th>nationality</th>\n",
       "      <th>sex</th>\n",
       "      <th>height</th>\n",
       "      <th>weight</th>\n",
       "      <th>sport</th>\n",
       "      <th>dob</th>\n",
       "    </tr>\n",
       "  </thead>\n",
       "  <tbody>\n",
       "    <tr>\n",
       "      <th>34</th>\n",
       "      <td>EGY</td>\n",
       "      <td>male</td>\n",
       "      <td>1.76</td>\n",
       "      <td>120.0</td>\n",
       "      <td>wrestling</td>\n",
       "      <td>12/8/95</td>\n",
       "    </tr>\n",
       "    <tr>\n",
       "      <th>58</th>\n",
       "      <td>UZB</td>\n",
       "      <td>male</td>\n",
       "      <td>1.90</td>\n",
       "      <td>132.0</td>\n",
       "      <td>judo</td>\n",
       "      <td>3/28/81</td>\n",
       "    </tr>\n",
       "    <tr>\n",
       "      <th>75</th>\n",
       "      <td>HUN</td>\n",
       "      <td>male</td>\n",
       "      <td>2.03</td>\n",
       "      <td>115.0</td>\n",
       "      <td>aquatics</td>\n",
       "      <td>2/29/84</td>\n",
       "    </tr>\n",
       "    <tr>\n",
       "      <th>83</th>\n",
       "      <td>GEO</td>\n",
       "      <td>male</td>\n",
       "      <td>1.89</td>\n",
       "      <td>130.0</td>\n",
       "      <td>judo</td>\n",
       "      <td>1/1/89</td>\n",
       "    </tr>\n",
       "    <tr>\n",
       "      <th>186</th>\n",
       "      <td>EGY</td>\n",
       "      <td>male</td>\n",
       "      <td>1.85</td>\n",
       "      <td>144.0</td>\n",
       "      <td>weightlifting</td>\n",
       "      <td>4/27/88</td>\n",
       "    </tr>\n",
       "    <tr>\n",
       "      <th>...</th>\n",
       "      <td>...</td>\n",
       "      <td>...</td>\n",
       "      <td>...</td>\n",
       "      <td>...</td>\n",
       "      <td>...</td>\n",
       "      <td>...</td>\n",
       "    </tr>\n",
       "    <tr>\n",
       "      <th>11225</th>\n",
       "      <td>KAZ</td>\n",
       "      <td>male</td>\n",
       "      <td>1.94</td>\n",
       "      <td>120.0</td>\n",
       "      <td>athletics</td>\n",
       "      <td>11/17/84</td>\n",
       "    </tr>\n",
       "    <tr>\n",
       "      <th>11298</th>\n",
       "      <td>TUN</td>\n",
       "      <td>female</td>\n",
       "      <td>1.78</td>\n",
       "      <td>120.0</td>\n",
       "      <td>weightlifting</td>\n",
       "      <td>8/31/95</td>\n",
       "    </tr>\n",
       "    <tr>\n",
       "      <th>11428</th>\n",
       "      <td>PAN</td>\n",
       "      <td>female</td>\n",
       "      <td>1.75</td>\n",
       "      <td>150.0</td>\n",
       "      <td>athletics</td>\n",
       "      <td>3/16/85</td>\n",
       "    </tr>\n",
       "    <tr>\n",
       "      <th>11484</th>\n",
       "      <td>CHN</td>\n",
       "      <td>male</td>\n",
       "      <td>1.88</td>\n",
       "      <td>120.0</td>\n",
       "      <td>wrestling</td>\n",
       "      <td>2/1/88</td>\n",
       "    </tr>\n",
       "    <tr>\n",
       "      <th>11518</th>\n",
       "      <td>HUN</td>\n",
       "      <td>male</td>\n",
       "      <td>2.04</td>\n",
       "      <td>132.0</td>\n",
       "      <td>athletics</td>\n",
       "      <td>4/10/79</td>\n",
       "    </tr>\n",
       "  </tbody>\n",
       "</table>\n",
       "<p>224 rows × 6 columns</p>\n",
       "</div>"
      ],
      "text/plain": [
       "      nationality     sex  height  weight          sport       dob\n",
       "34            EGY    male    1.76   120.0      wrestling   12/8/95\n",
       "58            UZB    male    1.90   132.0           judo   3/28/81\n",
       "75            HUN    male    2.03   115.0       aquatics   2/29/84\n",
       "83            GEO    male    1.89   130.0           judo    1/1/89\n",
       "186           EGY    male    1.85   144.0  weightlifting   4/27/88\n",
       "...           ...     ...     ...     ...            ...       ...\n",
       "11225         KAZ    male    1.94   120.0      athletics  11/17/84\n",
       "11298         TUN  female    1.78   120.0  weightlifting   8/31/95\n",
       "11428         PAN  female    1.75   150.0      athletics   3/16/85\n",
       "11484         CHN    male    1.88   120.0      wrestling    2/1/88\n",
       "11518         HUN    male    2.04   132.0      athletics   4/10/79\n",
       "\n",
       "[224 rows x 6 columns]"
      ]
     },
     "execution_count": 13,
     "metadata": {},
     "output_type": "execute_result"
    }
   ],
   "source": [
    "df[df['weight'].between(112.50, 170.0, inclusive='both')]"
   ]
  },
  {
   "cell_type": "markdown",
   "id": "f421f451",
   "metadata": {},
   "source": [
    "В целом значения допустимые с учетом видов спорта. Есть определенно выделяющиеся значения, но не невозможные. Люди с низким ростом могут быть еще и не взрослыми, но у нас есть только дата рождения, а она не особо помогает разобраться с возрастом людей, поскольку неизвестно в каком году собраны данные."
   ]
  },
  {
   "cell_type": "markdown",
   "id": "e6246ea5",
   "metadata": {},
   "source": [
    "Теперь вернем только нужные столбцы и проверим данные на пропуски"
   ]
  },
  {
   "cell_type": "code",
   "execution_count": 14,
   "id": "57a58c4e",
   "metadata": {},
   "outputs": [],
   "source": [
    "df = df[columns]"
   ]
  },
  {
   "cell_type": "code",
   "execution_count": 15,
   "id": "8847bcd0",
   "metadata": {},
   "outputs": [
    {
     "name": "stdout",
     "output_type": "stream",
     "text": [
      "<class 'pandas.core.frame.DataFrame'>\n",
      "RangeIndex: 11538 entries, 0 to 11537\n",
      "Data columns (total 5 columns):\n",
      " #   Column       Non-Null Count  Dtype  \n",
      "---  ------       --------------  -----  \n",
      " 0   nationality  11538 non-null  object \n",
      " 1   sex          11538 non-null  object \n",
      " 2   height       11208 non-null  float64\n",
      " 3   weight       10879 non-null  float64\n",
      " 4   sport        11538 non-null  object \n",
      "dtypes: float64(2), object(3)\n",
      "memory usage: 450.8+ KB\n"
     ]
    }
   ],
   "source": [
    "df.info()"
   ]
  },
  {
   "cell_type": "code",
   "execution_count": 16,
   "id": "e35db3da",
   "metadata": {},
   "outputs": [
    {
     "data": {
      "text/plain": [
       "nationality      0\n",
       "sex              0\n",
       "height         330\n",
       "weight         659\n",
       "sport            0\n",
       "dtype: int64"
      ]
     },
     "execution_count": 16,
     "metadata": {},
     "output_type": "execute_result"
    }
   ],
   "source": [
    "df.isna().sum()"
   ]
  },
  {
   "cell_type": "markdown",
   "id": "af3d7db3",
   "metadata": {},
   "source": [
    "Принято решение от пропусков просто избавиться"
   ]
  },
  {
   "cell_type": "code",
   "execution_count": 17,
   "id": "1a419171",
   "metadata": {},
   "outputs": [],
   "source": [
    "df = df[~(df['height'].isna())]\n",
    "df = df[~(df['weight'].isna())]"
   ]
  },
  {
   "cell_type": "code",
   "execution_count": 18,
   "id": "123014cb",
   "metadata": {},
   "outputs": [
    {
     "data": {
      "text/html": [
       "<div>\n",
       "<style scoped>\n",
       "    .dataframe tbody tr th:only-of-type {\n",
       "        vertical-align: middle;\n",
       "    }\n",
       "\n",
       "    .dataframe tbody tr th {\n",
       "        vertical-align: top;\n",
       "    }\n",
       "\n",
       "    .dataframe thead th {\n",
       "        text-align: right;\n",
       "    }\n",
       "</style>\n",
       "<table border=\"1\" class=\"dataframe\">\n",
       "  <thead>\n",
       "    <tr style=\"text-align: right;\">\n",
       "      <th></th>\n",
       "      <th>nationality</th>\n",
       "      <th>sex</th>\n",
       "      <th>height</th>\n",
       "      <th>weight</th>\n",
       "      <th>sport</th>\n",
       "    </tr>\n",
       "  </thead>\n",
       "  <tbody>\n",
       "    <tr>\n",
       "      <th>0</th>\n",
       "      <td>ESP</td>\n",
       "      <td>male</td>\n",
       "      <td>1.72</td>\n",
       "      <td>64.0</td>\n",
       "      <td>athletics</td>\n",
       "    </tr>\n",
       "    <tr>\n",
       "      <th>1</th>\n",
       "      <td>KOR</td>\n",
       "      <td>female</td>\n",
       "      <td>1.68</td>\n",
       "      <td>56.0</td>\n",
       "      <td>fencing</td>\n",
       "    </tr>\n",
       "    <tr>\n",
       "      <th>2</th>\n",
       "      <td>CAN</td>\n",
       "      <td>male</td>\n",
       "      <td>1.98</td>\n",
       "      <td>79.0</td>\n",
       "      <td>athletics</td>\n",
       "    </tr>\n",
       "    <tr>\n",
       "      <th>3</th>\n",
       "      <td>MDA</td>\n",
       "      <td>male</td>\n",
       "      <td>1.83</td>\n",
       "      <td>80.0</td>\n",
       "      <td>taekwondo</td>\n",
       "    </tr>\n",
       "    <tr>\n",
       "      <th>4</th>\n",
       "      <td>NZL</td>\n",
       "      <td>male</td>\n",
       "      <td>1.81</td>\n",
       "      <td>71.0</td>\n",
       "      <td>cycling</td>\n",
       "    </tr>\n",
       "    <tr>\n",
       "      <th>...</th>\n",
       "      <td>...</td>\n",
       "      <td>...</td>\n",
       "      <td>...</td>\n",
       "      <td>...</td>\n",
       "      <td>...</td>\n",
       "    </tr>\n",
       "    <tr>\n",
       "      <th>11533</th>\n",
       "      <td>CUB</td>\n",
       "      <td>female</td>\n",
       "      <td>1.64</td>\n",
       "      <td>58.0</td>\n",
       "      <td>athletics</td>\n",
       "    </tr>\n",
       "    <tr>\n",
       "      <th>11534</th>\n",
       "      <td>CZE</td>\n",
       "      <td>female</td>\n",
       "      <td>1.73</td>\n",
       "      <td>63.0</td>\n",
       "      <td>athletics</td>\n",
       "    </tr>\n",
       "    <tr>\n",
       "      <th>11535</th>\n",
       "      <td>CHN</td>\n",
       "      <td>male</td>\n",
       "      <td>1.85</td>\n",
       "      <td>100.0</td>\n",
       "      <td>wrestling</td>\n",
       "    </tr>\n",
       "    <tr>\n",
       "      <th>11536</th>\n",
       "      <td>VIE</td>\n",
       "      <td>male</td>\n",
       "      <td>1.60</td>\n",
       "      <td>56.0</td>\n",
       "      <td>weightlifting</td>\n",
       "    </tr>\n",
       "    <tr>\n",
       "      <th>11537</th>\n",
       "      <td>RSA</td>\n",
       "      <td>male</td>\n",
       "      <td>1.85</td>\n",
       "      <td>70.0</td>\n",
       "      <td>athletics</td>\n",
       "    </tr>\n",
       "  </tbody>\n",
       "</table>\n",
       "<p>10858 rows × 5 columns</p>\n",
       "</div>"
      ],
      "text/plain": [
       "      nationality     sex  height  weight          sport\n",
       "0             ESP    male    1.72    64.0      athletics\n",
       "1             KOR  female    1.68    56.0        fencing\n",
       "2             CAN    male    1.98    79.0      athletics\n",
       "3             MDA    male    1.83    80.0      taekwondo\n",
       "4             NZL    male    1.81    71.0        cycling\n",
       "...           ...     ...     ...     ...            ...\n",
       "11533         CUB  female    1.64    58.0      athletics\n",
       "11534         CZE  female    1.73    63.0      athletics\n",
       "11535         CHN    male    1.85   100.0      wrestling\n",
       "11536         VIE    male    1.60    56.0  weightlifting\n",
       "11537         RSA    male    1.85    70.0      athletics\n",
       "\n",
       "[10858 rows x 5 columns]"
      ]
     },
     "execution_count": 18,
     "metadata": {},
     "output_type": "execute_result"
    }
   ],
   "source": [
    "df"
   ]
  },
  {
   "cell_type": "markdown",
   "id": "c484deae",
   "metadata": {},
   "source": [
    "Преобразуем категориальные признаки"
   ]
  },
  {
   "cell_type": "code",
   "execution_count": 19,
   "id": "a47c4ca9",
   "metadata": {},
   "outputs": [],
   "source": [
    "categorical_features = ['nationality', 'sport']"
   ]
  },
  {
   "cell_type": "code",
   "execution_count": 20,
   "id": "b43a7fb2",
   "metadata": {},
   "outputs": [],
   "source": [
    "df = pd.get_dummies(df, columns=categorical_features, drop_first=True)"
   ]
  },
  {
   "cell_type": "code",
   "execution_count": 21,
   "id": "14a6aa68",
   "metadata": {},
   "outputs": [
    {
     "data": {
      "text/html": [
       "<div>\n",
       "<style scoped>\n",
       "    .dataframe tbody tr th:only-of-type {\n",
       "        vertical-align: middle;\n",
       "    }\n",
       "\n",
       "    .dataframe tbody tr th {\n",
       "        vertical-align: top;\n",
       "    }\n",
       "\n",
       "    .dataframe thead th {\n",
       "        text-align: right;\n",
       "    }\n",
       "</style>\n",
       "<table border=\"1\" class=\"dataframe\">\n",
       "  <thead>\n",
       "    <tr style=\"text-align: right;\">\n",
       "      <th></th>\n",
       "      <th>sex</th>\n",
       "      <th>height</th>\n",
       "      <th>weight</th>\n",
       "      <th>nationality_ALB</th>\n",
       "      <th>nationality_ALG</th>\n",
       "      <th>nationality_AND</th>\n",
       "      <th>nationality_ANG</th>\n",
       "      <th>nationality_ANT</th>\n",
       "      <th>nationality_ARG</th>\n",
       "      <th>nationality_ARM</th>\n",
       "      <th>...</th>\n",
       "      <th>sport_rugby sevens</th>\n",
       "      <th>sport_sailing</th>\n",
       "      <th>sport_shooting</th>\n",
       "      <th>sport_table tennis</th>\n",
       "      <th>sport_taekwondo</th>\n",
       "      <th>sport_tennis</th>\n",
       "      <th>sport_triathlon</th>\n",
       "      <th>sport_volleyball</th>\n",
       "      <th>sport_weightlifting</th>\n",
       "      <th>sport_wrestling</th>\n",
       "    </tr>\n",
       "  </thead>\n",
       "  <tbody>\n",
       "    <tr>\n",
       "      <th>0</th>\n",
       "      <td>male</td>\n",
       "      <td>1.72</td>\n",
       "      <td>64.0</td>\n",
       "      <td>0</td>\n",
       "      <td>0</td>\n",
       "      <td>0</td>\n",
       "      <td>0</td>\n",
       "      <td>0</td>\n",
       "      <td>0</td>\n",
       "      <td>0</td>\n",
       "      <td>...</td>\n",
       "      <td>0</td>\n",
       "      <td>0</td>\n",
       "      <td>0</td>\n",
       "      <td>0</td>\n",
       "      <td>0</td>\n",
       "      <td>0</td>\n",
       "      <td>0</td>\n",
       "      <td>0</td>\n",
       "      <td>0</td>\n",
       "      <td>0</td>\n",
       "    </tr>\n",
       "    <tr>\n",
       "      <th>1</th>\n",
       "      <td>female</td>\n",
       "      <td>1.68</td>\n",
       "      <td>56.0</td>\n",
       "      <td>0</td>\n",
       "      <td>0</td>\n",
       "      <td>0</td>\n",
       "      <td>0</td>\n",
       "      <td>0</td>\n",
       "      <td>0</td>\n",
       "      <td>0</td>\n",
       "      <td>...</td>\n",
       "      <td>0</td>\n",
       "      <td>0</td>\n",
       "      <td>0</td>\n",
       "      <td>0</td>\n",
       "      <td>0</td>\n",
       "      <td>0</td>\n",
       "      <td>0</td>\n",
       "      <td>0</td>\n",
       "      <td>0</td>\n",
       "      <td>0</td>\n",
       "    </tr>\n",
       "    <tr>\n",
       "      <th>2</th>\n",
       "      <td>male</td>\n",
       "      <td>1.98</td>\n",
       "      <td>79.0</td>\n",
       "      <td>0</td>\n",
       "      <td>0</td>\n",
       "      <td>0</td>\n",
       "      <td>0</td>\n",
       "      <td>0</td>\n",
       "      <td>0</td>\n",
       "      <td>0</td>\n",
       "      <td>...</td>\n",
       "      <td>0</td>\n",
       "      <td>0</td>\n",
       "      <td>0</td>\n",
       "      <td>0</td>\n",
       "      <td>0</td>\n",
       "      <td>0</td>\n",
       "      <td>0</td>\n",
       "      <td>0</td>\n",
       "      <td>0</td>\n",
       "      <td>0</td>\n",
       "    </tr>\n",
       "    <tr>\n",
       "      <th>3</th>\n",
       "      <td>male</td>\n",
       "      <td>1.83</td>\n",
       "      <td>80.0</td>\n",
       "      <td>0</td>\n",
       "      <td>0</td>\n",
       "      <td>0</td>\n",
       "      <td>0</td>\n",
       "      <td>0</td>\n",
       "      <td>0</td>\n",
       "      <td>0</td>\n",
       "      <td>...</td>\n",
       "      <td>0</td>\n",
       "      <td>0</td>\n",
       "      <td>0</td>\n",
       "      <td>0</td>\n",
       "      <td>1</td>\n",
       "      <td>0</td>\n",
       "      <td>0</td>\n",
       "      <td>0</td>\n",
       "      <td>0</td>\n",
       "      <td>0</td>\n",
       "    </tr>\n",
       "    <tr>\n",
       "      <th>4</th>\n",
       "      <td>male</td>\n",
       "      <td>1.81</td>\n",
       "      <td>71.0</td>\n",
       "      <td>0</td>\n",
       "      <td>0</td>\n",
       "      <td>0</td>\n",
       "      <td>0</td>\n",
       "      <td>0</td>\n",
       "      <td>0</td>\n",
       "      <td>0</td>\n",
       "      <td>...</td>\n",
       "      <td>0</td>\n",
       "      <td>0</td>\n",
       "      <td>0</td>\n",
       "      <td>0</td>\n",
       "      <td>0</td>\n",
       "      <td>0</td>\n",
       "      <td>0</td>\n",
       "      <td>0</td>\n",
       "      <td>0</td>\n",
       "      <td>0</td>\n",
       "    </tr>\n",
       "  </tbody>\n",
       "</table>\n",
       "<p>5 rows × 228 columns</p>\n",
       "</div>"
      ],
      "text/plain": [
       "      sex  height  weight  nationality_ALB  nationality_ALG  nationality_AND  \\\n",
       "0    male    1.72    64.0                0                0                0   \n",
       "1  female    1.68    56.0                0                0                0   \n",
       "2    male    1.98    79.0                0                0                0   \n",
       "3    male    1.83    80.0                0                0                0   \n",
       "4    male    1.81    71.0                0                0                0   \n",
       "\n",
       "   nationality_ANG  nationality_ANT  nationality_ARG  nationality_ARM  ...  \\\n",
       "0                0                0                0                0  ...   \n",
       "1                0                0                0                0  ...   \n",
       "2                0                0                0                0  ...   \n",
       "3                0                0                0                0  ...   \n",
       "4                0                0                0                0  ...   \n",
       "\n",
       "   sport_rugby sevens  sport_sailing  sport_shooting  sport_table tennis  \\\n",
       "0                   0              0               0                   0   \n",
       "1                   0              0               0                   0   \n",
       "2                   0              0               0                   0   \n",
       "3                   0              0               0                   0   \n",
       "4                   0              0               0                   0   \n",
       "\n",
       "   sport_taekwondo  sport_tennis  sport_triathlon  sport_volleyball  \\\n",
       "0                0             0                0                 0   \n",
       "1                0             0                0                 0   \n",
       "2                0             0                0                 0   \n",
       "3                1             0                0                 0   \n",
       "4                0             0                0                 0   \n",
       "\n",
       "   sport_weightlifting  sport_wrestling  \n",
       "0                    0                0  \n",
       "1                    0                0  \n",
       "2                    0                0  \n",
       "3                    0                0  \n",
       "4                    0                0  \n",
       "\n",
       "[5 rows x 228 columns]"
      ]
     },
     "execution_count": 21,
     "metadata": {},
     "output_type": "execute_result"
    }
   ],
   "source": [
    "df.head()"
   ]
  },
  {
   "cell_type": "code",
   "execution_count": 22,
   "id": "79de6c9b",
   "metadata": {},
   "outputs": [],
   "source": [
    "X = df.drop('sex', axis=1)"
   ]
  },
  {
   "cell_type": "code",
   "execution_count": 23,
   "id": "74edae92",
   "metadata": {},
   "outputs": [],
   "source": [
    "le = LabelEncoder()\n",
    "le.fit(df['sex'])\n",
    "y = pd.Series(data=le.transform(df['sex']))"
   ]
  },
  {
   "cell_type": "code",
   "execution_count": 24,
   "id": "a2e93ebf",
   "metadata": {},
   "outputs": [
    {
     "data": {
      "text/plain": [
       "1    5862\n",
       "0    4996\n",
       "dtype: int64"
      ]
     },
     "execution_count": 24,
     "metadata": {},
     "output_type": "execute_result"
    }
   ],
   "source": [
    "y.value_counts()"
   ]
  },
  {
   "cell_type": "code",
   "execution_count": 25,
   "id": "8379881e",
   "metadata": {},
   "outputs": [],
   "source": [
    "X_train, X_test, y_train, y_test = train_test_split(X, y, test_size=0.2, random_state=42)"
   ]
  },
  {
   "cell_type": "code",
   "execution_count": 26,
   "id": "ca68d4c9",
   "metadata": {},
   "outputs": [],
   "source": [
    "model = LogisticRegression(max_iter=10000)"
   ]
  },
  {
   "cell_type": "code",
   "execution_count": 27,
   "id": "37b9d87b",
   "metadata": {},
   "outputs": [
    {
     "data": {
      "text/plain": [
       "LogisticRegression(max_iter=10000)"
      ]
     },
     "execution_count": 27,
     "metadata": {},
     "output_type": "execute_result"
    }
   ],
   "source": [
    "model.fit(X_train, y_train)"
   ]
  },
  {
   "cell_type": "code",
   "execution_count": 28,
   "id": "ed692a06",
   "metadata": {},
   "outputs": [
    {
     "data": {
      "text/plain": [
       "0.845383375546857"
      ]
     },
     "execution_count": 28,
     "metadata": {},
     "output_type": "execute_result"
    }
   ],
   "source": [
    "model.score(X_train, y_train)"
   ]
  },
  {
   "cell_type": "code",
   "execution_count": 29,
   "id": "b0f6f83c",
   "metadata": {},
   "outputs": [
    {
     "data": {
      "text/plain": [
       "0.83195211786372"
      ]
     },
     "execution_count": 29,
     "metadata": {},
     "output_type": "execute_result"
    }
   ],
   "source": [
    "model.score(X_test, y_test)"
   ]
  },
  {
   "cell_type": "markdown",
   "id": "ba71027d",
   "metadata": {},
   "source": [
    "Построим ROC-кривую (Receiver Operating Characteristic) с помощью функции sklearn.metrics.roc_curve"
   ]
  },
  {
   "cell_type": "code",
   "execution_count": 30,
   "id": "e50e59bb",
   "metadata": {},
   "outputs": [],
   "source": [
    "predictions_prob = model.predict_proba(X_test)"
   ]
  },
  {
   "cell_type": "code",
   "execution_count": 31,
   "id": "6ccfe29b",
   "metadata": {},
   "outputs": [],
   "source": [
    "fpr, tpr, thres = roc_curve(y_test, predictions_prob[:, 1])"
   ]
  },
  {
   "cell_type": "code",
   "execution_count": 32,
   "id": "5c0e61d4",
   "metadata": {},
   "outputs": [
    {
     "data": {
      "image/png": "[encoded data removed]",
      "text/plain": [
       "<Figure size 720x432 with 1 Axes>"
      ]
     },
     "metadata": {
      "needs_background": "light"
     },
     "output_type": "display_data"
    }
   ],
   "source": [
    "plt.figure(figsize=(10, 6))\n",
    "plt.plot(fpr, tpr)\n",
    "plt.plot([0, 1], [0, 1], linestyle='--', color='green')\n",
    "plt.grid()"
   ]
  },
  {
   "cell_type": "markdown",
   "id": "585f0f93",
   "metadata": {},
   "source": [
    "Вычислим значение ROC-AUC метрики с помощью функции sklearn.metrics.roc_auc_score"
   ]
  },
  {
   "cell_type": "code",
   "execution_count": 33,
   "id": "b7d534c5",
   "metadata": {},
   "outputs": [
    {
     "data": {
      "text/plain": [
       "0.9050656463004024"
      ]
     },
     "execution_count": 33,
     "metadata": {},
     "output_type": "execute_result"
    }
   ],
   "source": [
    "roc_auc_score(y_test, predictions_prob[:, 1])"
   ]
  },
  {
   "cell_type": "markdown",
   "id": "8fbc25b2",
   "metadata": {},
   "source": [
    "Реализуем подсчет метрик TPR, FPR «вручную», без использования готовых функций из библиотеки sklearn"
   ]
  },
  {
   "cell_type": "code",
   "execution_count": 34,
   "id": "a9686816",
   "metadata": {},
   "outputs": [],
   "source": [
    "def confusion_matrix(predictions, actual_data, threshold=0.5):\n",
    "    tp = 0\n",
    "    fp = 0\n",
    "    fn = 0\n",
    "    tn = 0\n",
    "\n",
    "    for predicted_prob, actual in zip(predictions[:, 1], actual_data):\n",
    "        if predicted_prob >= threshold:\n",
    "            predicted = 1\n",
    "        else:\n",
    "            predicted = 0\n",
    "\n",
    "        if predicted == 1:\n",
    "            if actual == 1:\n",
    "                tp += 1\n",
    "            else:\n",
    "                fp += 1\n",
    "\n",
    "        else:\n",
    "            if actual == 1:\n",
    "                fn += 1\n",
    "            else:\n",
    "                tn += 1\n",
    "                \n",
    "    return tp, fp, fn, tn"
   ]
  },
  {
   "cell_type": "code",
   "execution_count": 35,
   "id": "d5ced0a4",
   "metadata": {},
   "outputs": [],
   "source": [
    "tp, fp, fn, tn = confusion_matrix(predictions_prob, y_test)"
   ]
  },
  {
   "cell_type": "code",
   "execution_count": 36,
   "id": "d839b82c",
   "metadata": {},
   "outputs": [
    {
     "data": {
      "text/plain": [
       "0.8484848484848485"
      ]
     },
     "execution_count": 36,
     "metadata": {},
     "output_type": "execute_result"
    }
   ],
   "source": [
    "tp / (tp + fn) # tpr"
   ]
  },
  {
   "cell_type": "code",
   "execution_count": 37,
   "id": "20c9d7cf",
   "metadata": {},
   "outputs": [
    {
     "data": {
      "text/plain": [
       "0.18800813008130082"
      ]
     },
     "execution_count": 37,
     "metadata": {},
     "output_type": "execute_result"
    }
   ],
   "source": [
    "fp / (fp + tn) # fpr"
   ]
  },
  {
   "cell_type": "code",
   "execution_count": 38,
   "id": "7e77f448",
   "metadata": {},
   "outputs": [],
   "source": [
    "def true_false_rate(predictions, actual_data):\n",
    "    append_first_el = np.append(predictions[:, 1], 1)\n",
    "    unique = np.unique(append_first_el)\n",
    "    thresholds = np.sort(unique, kind='quicksort')[::-1]\n",
    "    \n",
    "    tpr = []\n",
    "    fpr = []\n",
    "    precision = []\n",
    "\n",
    "    for thr in thresholds:\n",
    "        tp, fp, fn, tn = confusion_matrix(predictions, actual_data, thr)\n",
    "        tpr.append(tp / (tp + fn))\n",
    "        fpr.append(fp / (fp + tn))\n",
    "        precision.append(tp / (tp + fp) if (tp + fp) != 0 else 0)\n",
    "        \n",
    "    return tpr, fpr, precision, thresholds"
   ]
  },
  {
   "cell_type": "code",
   "execution_count": 39,
   "id": "2ef102b8",
   "metadata": {},
   "outputs": [],
   "source": [
    "tpr_manual, fpr_manual, precision, thresholds = true_false_rate(predictions_prob, y_test)"
   ]
  },
  {
   "cell_type": "markdown",
   "id": "13c0e499",
   "metadata": {},
   "source": [
    "Построим ROC-кривую с помощью вычисленных метрик и сравним с предыдущим таким графиком"
   ]
  },
  {
   "cell_type": "code",
   "execution_count": 40,
   "id": "729d3927",
   "metadata": {},
   "outputs": [
    {
     "data": {
      "image/png": "[encoded data removed]",
      "text/plain": [
       "<Figure size 720x432 with 1 Axes>"
      ]
     },
     "metadata": {
      "needs_background": "light"
     },
     "output_type": "display_data"
    }
   ],
   "source": [
    "plt.figure(figsize=(10, 6))\n",
    "plt.plot(fpr, tpr, linewidth=5, label='calculated by sklearn' )\n",
    "plt.plot(fpr_manual, tpr_manual, color='red', label='calculated manually')\n",
    "plt.plot([0, 1], [0, 1], linestyle='--', color='green')\n",
    "plt.xlabel('False Positive Rate')\n",
    "plt.ylabel('True Positive Rate')\n",
    "plt.legend(loc=0)\n",
    "plt.grid()\n",
    "plt.show()"
   ]
  },
  {
   "cell_type": "markdown",
   "id": "4c3b9f91",
   "metadata": {},
   "source": [
    "Графики совпадают"
   ]
  },
  {
   "cell_type": "markdown",
   "id": "daac5e6b",
   "metadata": {},
   "source": [
    "Построим график Precision-Recall, используя посчитанные метрики"
   ]
  },
  {
   "cell_type": "code",
   "execution_count": 41,
   "id": "ffd8d977",
   "metadata": {},
   "outputs": [],
   "source": [
    "pr, re, thres = precision_recall_curve(y_test, predictions_prob[:, 1])"
   ]
  },
  {
   "cell_type": "code",
   "execution_count": 42,
   "id": "5fe0fe25",
   "metadata": {
    "scrolled": true
   },
   "outputs": [
    {
     "data": {
      "image/png": "[encoded data removed]",
      "text/plain": [
       "<Figure size 720x432 with 1 Axes>"
      ]
     },
     "metadata": {
      "needs_background": "light"
     },
     "output_type": "display_data"
    }
   ],
   "source": [
    "plt.figure(figsize=(10, 6))\n",
    "plt.plot(re, pr, linewidth=5, label='calculated by sklearn' )\n",
    "plt.plot(tpr_manual, precision, color='red', label='calculated manually')\n",
    "\n",
    "plt.xlabel('Recall')\n",
    "plt.ylabel('Precision')\n",
    "\n",
    "plt.legend(loc=0)\n",
    "plt.grid()\n",
    "plt.show()"
   ]
  },
  {
   "cell_type": "markdown",
   "id": "5ccf9e44",
   "metadata": {},
   "source": [
    "Графики отличаются начальными и конечными точками, в остальных совпадают"
   ]
  },
  {
   "cell_type": "markdown",
   "id": "cc665baa",
   "metadata": {},
   "source": [
    "Вычислите значение ROC-AUC, используя посчитанные метрики"
   ]
  },
  {
   "cell_type": "code",
   "execution_count": 43,
   "id": "cf76ceb2",
   "metadata": {},
   "outputs": [],
   "source": [
    "def roc_auc(tpr, fpr, thresholds):\n",
    "    auc = int()\n",
    "    for i in range(len(thresholds) - 1):\n",
    "        auc += (tpr[i+1] + tpr[i]) * (fpr[i+1] - fpr[i]) / 2\n",
    "    return auc"
   ]
  },
  {
   "cell_type": "code",
   "execution_count": 44,
   "id": "7d88e710",
   "metadata": {},
   "outputs": [
    {
     "data": {
      "text/plain": [
       "0.905065646300407"
      ]
     },
     "execution_count": 44,
     "metadata": {},
     "output_type": "execute_result"
    }
   ],
   "source": [
    "roc_auc(tpr_manual, fpr_manual, thresholds)"
   ]
  },
  {
   "cell_type": "markdown",
   "id": "052e8056",
   "metadata": {},
   "source": [
    "Сравним со значением ROC-AUC, посчитанным через sklearn"
   ]
  },
  {
   "cell_type": "code",
   "execution_count": 45,
   "id": "e67c172d",
   "metadata": {},
   "outputs": [
    {
     "data": {
      "text/plain": [
       "0.9050656463004024"
      ]
     },
     "execution_count": 45,
     "metadata": {},
     "output_type": "execute_result"
    }
   ],
   "source": [
    "roc_auc_score(y_test, predictions_prob[:, 1])"
   ]
  },
  {
   "cell_type": "markdown",
   "id": "2065361b",
   "metadata": {},
   "source": [
    "Результат очень близок к посчитанному вручную"
   ]
  },
  {
   "cell_type": "markdown",
   "id": "fa77f65a",
   "metadata": {},
   "source": [
    "Выводы:\n",
    "\n",
    "Чем ближе ROC-кривая к левому верхнему углу, тем лучше качество модели. Обученная модель, конечно, не идеальная, но график показывает высокий уровень качества по этой метрике.\n",
    "\n",
    "В случае с графиком Precision-Recall нас интересует противоположная точка — (1, 1), через которую будет проходить кривая в случае 100% точности и полноты в идеальном случае. Результаты обученной модели имеют высокую полноту и относительно высокую точность."
   ]
  },
  {
   "cell_type": "markdown",
   "id": "e9cc9ec5",
   "metadata": {},
   "source": [
    "Я не смог подобрать данные так, чтобы кривая ушла под диагональ и не представляю, что ее может туда загнать, поэтому вопрос остался открытым"
   ]
  },
  {
   "cell_type": "markdown",
   "id": "7e92d33b",
   "metadata": {},
   "source": [
    "Есть и еще один вопрос, касающихся пороговых значений, отсечек"
   ]
  },
  {
   "cell_type": "code",
   "execution_count": 46,
   "id": "dcf85970",
   "metadata": {},
   "outputs": [
    {
     "data": {
      "text/plain": [
       "2172"
      ]
     },
     "execution_count": 46,
     "metadata": {},
     "output_type": "execute_result"
    }
   ],
   "source": [
    "# в массиве предсказанных вероятностей содержится 2172 значения\n",
    "len(predictions_prob[:, 1])"
   ]
  },
  {
   "cell_type": "code",
   "execution_count": 47,
   "id": "740d2ebc",
   "metadata": {},
   "outputs": [
    {
     "data": {
      "text/plain": [
       "2159"
      ]
     },
     "execution_count": 47,
     "metadata": {},
     "output_type": "execute_result"
    }
   ],
   "source": [
    "# из них уникальных 2159\n",
    "len(np.unique(predictions_prob[:, 1]))"
   ]
  },
  {
   "cell_type": "code",
   "execution_count": 48,
   "id": "6c3240fa",
   "metadata": {},
   "outputs": [
    {
     "data": {
      "text/plain": [
       "2160"
      ]
     },
     "execution_count": 48,
     "metadata": {},
     "output_type": "execute_result"
    }
   ],
   "source": [
    "# при указании drop_intermediate=False пороговых значений остается столько же и +1\n",
    "fpr, tpr, thres = roc_curve(y_test, predictions_prob[:, 1], drop_intermediate=False)\n",
    "len(thres)"
   ]
  },
  {
   "cell_type": "code",
   "execution_count": 49,
   "id": "22479956",
   "metadata": {},
   "outputs": [
    {
     "data": {
      "text/plain": [
       "547"
      ]
     },
     "execution_count": 49,
     "metadata": {},
     "output_type": "execute_result"
    }
   ],
   "source": [
    "# но при значении параметра drop_intermediate=True пороговых значений уже 547\n",
    "fpr, tpr, thres = roc_curve(y_test, predictions_prob[:, 1])\n",
    "len(thres)"
   ]
  },
  {
   "cell_type": "markdown",
   "id": "b1c48287",
   "metadata": {},
   "source": [
    "Как именно roc_curve в sklearn определяет, какие пороговые значения являются неоптимальными? По какому принципу?"
   ]
  }
 ],
 "metadata": {
  "kernelspec": {
   "display_name": "Python 3 (ipykernel)",
   "language": "python",
   "name": "python3"
  },
  "language_info": {
   "codemirror_mode": {
    "name": "ipython",
    "version": 3
   },
   "file_extension": ".py",
   "mimetype": "text/x-python",
   "name": "python",
   "nbconvert_exporter": "python",
   "pygments_lexer": "ipython3",
   "version": "3.9.12"
  }
 },
 "nbformat": 4,
 "nbformat_minor": 5
}
