{
 "cells": [
  {
   "cell_type": "code",
   "execution_count": 1,
   "metadata": {
    "executionInfo": {
     "elapsed": 5962,
     "status": "ok",
     "timestamp": 1696435304856,
     "user": {
      "displayName": "artificial flesh",
      "userId": "00780849165661762341"
     },
     "user_tz": -300
    },
    "id": "iQ7uLUqRTcfD"
   },
   "outputs": [],
   "source": [
    "import pandas as pd\n",
    "import numpy as np\n",
    "import seaborn as sns\n",
    "import matplotlib.pyplot as plt\n",
    "from sklearn.datasets import fetch_california_housing\n",
    "from sklearn.model_selection import train_test_split\n",
    "from sklearn.linear_model import LinearRegression\n",
    "from sklearn.tree import DecisionTreeRegressor, plot_tree"
   ]
  },
  {
   "cell_type": "markdown",
   "metadata": {
    "id": "AtFhOMBQTQxs"
   },
   "source": [
    "В домашнем задании нужно решить задачу регрессии. В качестве датасета необходимо взять данные о недвижимости Калифорнии из библиотеки [sklearn.datasets](https://scikit-learn.org/stable/modules/generated/sklearn.datasets.fetch_california_housing.html). Целевая переменная – MedHouseVal. Прочитать информацию о признаках датасета можно, выполнив следующий код – print(fetch_california_housing().DESCR). На полученных данных построить модель регрессии и дерево решений."
   ]
  },
  {
   "cell_type": "code",
   "execution_count": 2,
   "metadata": {
    "colab": {
     "base_uri": "https://localhost:8080/"
    },
    "executionInfo": {
     "elapsed": 612,
     "status": "ok",
     "timestamp": 1696435305465,
     "user": {
      "displayName": "artificial flesh",
      "userId": "00780849165661762341"
     },
     "user_tz": -300
    },
    "id": "tTXo9gCnoQYl",
    "outputId": "b9954ad0-b3e3-4585-b2a8-1726d5e7ec9b"
   },
   "outputs": [
    {
     "name": "stdout",
     "output_type": "stream",
     "text": [
      ".. _california_housing_dataset:\n",
      "\n",
      "California Housing dataset\n",
      "--------------------------\n",
      "\n",
      "**Data Set Characteristics:**\n",
      "\n",
      "    :Number of Instances: 20640\n",
      "\n",
      "    :Number of Attributes: 8 numeric, predictive attributes and the target\n",
      "\n",
      "    :Attribute Information:\n",
      "        - MedInc        median income in block group\n",
      "        - HouseAge      median house age in block group\n",
      "        - AveRooms      average number of rooms per household\n",
      "        - AveBedrms     average number of bedrooms per household\n",
      "        - Population    block group population\n",
      "        - AveOccup      average number of household members\n",
      "        - Latitude      block group latitude\n",
      "        - Longitude     block group longitude\n",
      "\n",
      "    :Missing Attribute Values: None\n",
      "\n",
      "This dataset was obtained from the StatLib repository.\n",
      "https://www.dcc.fc.up.pt/~ltorgo/Regression/cal_housing.html\n",
      "\n",
      "The target variable is the median house value for California districts,\n",
      "expressed in hundreds of thousands of dollars ($100,000).\n",
      "\n",
      "This dataset was derived from the 1990 U.S. census, using one row per census\n",
      "block group. A block group is the smallest geographical unit for which the U.S.\n",
      "Census Bureau publishes sample data (a block group typically has a population\n",
      "of 600 to 3,000 people).\n",
      "\n",
      "An household is a group of people residing within a home. Since the average\n",
      "number of rooms and bedrooms in this dataset are provided per household, these\n",
      "columns may take surpinsingly large values for block groups with few households\n",
      "and many empty houses, such as vacation resorts.\n",
      "\n",
      "It can be downloaded/loaded using the\n",
      ":func:`sklearn.datasets.fetch_california_housing` function.\n",
      "\n",
      ".. topic:: References\n",
      "\n",
      "    - Pace, R. Kelley and Ronald Barry, Sparse Spatial Autoregressions,\n",
      "      Statistics and Probability Letters, 33 (1997) 291-297\n",
      "\n"
     ]
    }
   ],
   "source": [
    "print(fetch_california_housing().DESCR)"
   ]
  },
  {
   "cell_type": "markdown",
   "metadata": {
    "id": "cMTEMPnJ7jew"
   },
   "source": [
    "Получите данные и загрузите их в рабочую среду"
   ]
  },
  {
   "cell_type": "code",
   "execution_count": 3,
   "metadata": {
    "colab": {
     "base_uri": "https://localhost:8080/",
     "height": 206
    },
    "executionInfo": {
     "elapsed": 8,
     "status": "ok",
     "timestamp": 1696435305465,
     "user": {
      "displayName": "artificial flesh",
      "userId": "00780849165661762341"
     },
     "user_tz": -300
    },
    "id": "8ZJboTHhtTUN",
    "outputId": "40901c73-aba1-4996-dd66-006115577ab4"
   },
   "outputs": [
    {
     "data": {
      "text/html": [
       "<div>\n",
       "<style scoped>\n",
       "    .dataframe tbody tr th:only-of-type {\n",
       "        vertical-align: middle;\n",
       "    }\n",
       "\n",
       "    .dataframe tbody tr th {\n",
       "        vertical-align: top;\n",
       "    }\n",
       "\n",
       "    .dataframe thead th {\n",
       "        text-align: right;\n",
       "    }\n",
       "</style>\n",
       "<table border=\"1\" class=\"dataframe\">\n",
       "  <thead>\n",
       "    <tr style=\"text-align: right;\">\n",
       "      <th></th>\n",
       "      <th>MedInc</th>\n",
       "      <th>HouseAge</th>\n",
       "      <th>AveRooms</th>\n",
       "      <th>AveBedrms</th>\n",
       "      <th>Population</th>\n",
       "      <th>AveOccup</th>\n",
       "      <th>Latitude</th>\n",
       "      <th>Longitude</th>\n",
       "      <th>MedHouseVal</th>\n",
       "    </tr>\n",
       "  </thead>\n",
       "  <tbody>\n",
       "    <tr>\n",
       "      <th>0</th>\n",
       "      <td>8.3252</td>\n",
       "      <td>41.0</td>\n",
       "      <td>6.984127</td>\n",
       "      <td>1.023810</td>\n",
       "      <td>322.0</td>\n",
       "      <td>2.555556</td>\n",
       "      <td>37.88</td>\n",
       "      <td>-122.23</td>\n",
       "      <td>4.526</td>\n",
       "    </tr>\n",
       "    <tr>\n",
       "      <th>1</th>\n",
       "      <td>8.3014</td>\n",
       "      <td>21.0</td>\n",
       "      <td>6.238137</td>\n",
       "      <td>0.971880</td>\n",
       "      <td>2401.0</td>\n",
       "      <td>2.109842</td>\n",
       "      <td>37.86</td>\n",
       "      <td>-122.22</td>\n",
       "      <td>3.585</td>\n",
       "    </tr>\n",
       "    <tr>\n",
       "      <th>2</th>\n",
       "      <td>7.2574</td>\n",
       "      <td>52.0</td>\n",
       "      <td>8.288136</td>\n",
       "      <td>1.073446</td>\n",
       "      <td>496.0</td>\n",
       "      <td>2.802260</td>\n",
       "      <td>37.85</td>\n",
       "      <td>-122.24</td>\n",
       "      <td>3.521</td>\n",
       "    </tr>\n",
       "    <tr>\n",
       "      <th>3</th>\n",
       "      <td>5.6431</td>\n",
       "      <td>52.0</td>\n",
       "      <td>5.817352</td>\n",
       "      <td>1.073059</td>\n",
       "      <td>558.0</td>\n",
       "      <td>2.547945</td>\n",
       "      <td>37.85</td>\n",
       "      <td>-122.25</td>\n",
       "      <td>3.413</td>\n",
       "    </tr>\n",
       "    <tr>\n",
       "      <th>4</th>\n",
       "      <td>3.8462</td>\n",
       "      <td>52.0</td>\n",
       "      <td>6.281853</td>\n",
       "      <td>1.081081</td>\n",
       "      <td>565.0</td>\n",
       "      <td>2.181467</td>\n",
       "      <td>37.85</td>\n",
       "      <td>-122.25</td>\n",
       "      <td>3.422</td>\n",
       "    </tr>\n",
       "  </tbody>\n",
       "</table>\n",
       "</div>"
      ],
      "text/plain": [
       "   MedInc  HouseAge  AveRooms  AveBedrms  Population  AveOccup  Latitude  \\\n",
       "0  8.3252      41.0  6.984127   1.023810       322.0  2.555556     37.88   \n",
       "1  8.3014      21.0  6.238137   0.971880      2401.0  2.109842     37.86   \n",
       "2  7.2574      52.0  8.288136   1.073446       496.0  2.802260     37.85   \n",
       "3  5.6431      52.0  5.817352   1.073059       558.0  2.547945     37.85   \n",
       "4  3.8462      52.0  6.281853   1.081081       565.0  2.181467     37.85   \n",
       "\n",
       "   Longitude  MedHouseVal  \n",
       "0    -122.23        4.526  \n",
       "1    -122.22        3.585  \n",
       "2    -122.24        3.521  \n",
       "3    -122.25        3.413  \n",
       "4    -122.25        3.422  "
      ]
     },
     "execution_count": 3,
     "metadata": {},
     "output_type": "execute_result"
    }
   ],
   "source": [
    "data = fetch_california_housing()\n",
    "df = pd.DataFrame(data.data, columns=data.feature_names)\n",
    "df['MedHouseVal'] = data.target\n",
    "\n",
    "df.head()"
   ]
  },
  {
   "cell_type": "markdown",
   "metadata": {
    "id": "2SZl2fB5G6s8"
   },
   "source": [
    "2. Проведите первичный анализ.  \n",
    "    a.Проверьте данные на пропуски. Удалите в случае обнаружения."
   ]
  },
  {
   "cell_type": "code",
   "execution_count": 4,
   "metadata": {
    "colab": {
     "base_uri": "https://localhost:8080/"
    },
    "executionInfo": {
     "elapsed": 8,
     "status": "ok",
     "timestamp": 1696435305466,
     "user": {
      "displayName": "artificial flesh",
      "userId": "00780849165661762341"
     },
     "user_tz": -300
    },
    "id": "AKNubzY9LqEj",
    "outputId": "9eef30e0-1a3d-42e3-8783-e2da1860c7f9"
   },
   "outputs": [
    {
     "data": {
      "text/plain": [
       "MedInc         0\n",
       "HouseAge       0\n",
       "AveRooms       0\n",
       "AveBedrms      0\n",
       "Population     0\n",
       "AveOccup       0\n",
       "Latitude       0\n",
       "Longitude      0\n",
       "MedHouseVal    0\n",
       "dtype: int64"
      ]
     },
     "execution_count": 4,
     "metadata": {},
     "output_type": "execute_result"
    }
   ],
   "source": [
    "df.isna().sum()"
   ]
  },
  {
   "cell_type": "markdown",
   "metadata": {
    "id": "RzN5xn6bLuPj"
   },
   "source": [
    "b.*Нормализуйте один из признаков."
   ]
  },
  {
   "cell_type": "code",
   "execution_count": 5,
   "metadata": {
    "executionInfo": {
     "elapsed": 6,
     "status": "ok",
     "timestamp": 1696435305466,
     "user": {
      "displayName": "artificial flesh",
      "userId": "00780849165661762341"
     },
     "user_tz": -300
    },
    "id": "qlnjWk3xLyxq"
   },
   "outputs": [],
   "source": [
    "sns.set_theme(rc={'figure.figsize':(12,8)})"
   ]
  },
  {
   "cell_type": "code",
   "execution_count": 6,
   "metadata": {
    "colab": {
     "base_uri": "https://localhost:8080/",
     "height": 704
    },
    "executionInfo": {
     "elapsed": 10170,
     "status": "ok",
     "timestamp": 1696435315630,
     "user": {
      "displayName": "artificial flesh",
      "userId": "00780849165661762341"
     },
     "user_tz": -300
    },
    "id": "5NxYDF1wM46T",
    "outputId": "144950e8-a44d-4ff7-b9f7-855a61c7fa3f"
   },
   "outputs": [
    {
     "data": {
      "image/png": "[encoded data removed]",
      "text/plain": [
       "<Figure size 864x576 with 1 Axes>"
      ]
     },
     "metadata": {},
     "output_type": "display_data"
    }
   ],
   "source": [
    "sns.histplot(data=df, x='AveRooms')\n",
    "plt.show()"
   ]
  },
  {
   "cell_type": "code",
   "execution_count": 7,
   "metadata": {
    "executionInfo": {
     "elapsed": 4,
     "status": "ok",
     "timestamp": 1696435315630,
     "user": {
      "displayName": "artificial flesh",
      "userId": "00780849165661762341"
     },
     "user_tz": -300
    },
    "id": "rd3zviRowepQ"
   },
   "outputs": [],
   "source": [
    "log_ave_rooms = np.log(df['AveRooms'])"
   ]
  },
  {
   "cell_type": "code",
   "execution_count": 8,
   "metadata": {
    "colab": {
     "base_uri": "https://localhost:8080/",
     "height": 704
    },
    "executionInfo": {
     "elapsed": 1250,
     "status": "ok",
     "timestamp": 1696435316876,
     "user": {
      "displayName": "artificial flesh",
      "userId": "00780849165661762341"
     },
     "user_tz": -300
    },
    "id": "lUZ_uWOtwqcf",
    "outputId": "bbc56a49-48a4-485f-f68e-cc1451d366ba"
   },
   "outputs": [
    {
     "data": {
      "image/png": "[encoded data removed]",
      "text/plain": [
       "<Figure size 864x576 with 1 Axes>"
      ]
     },
     "metadata": {},
     "output_type": "display_data"
    }
   ],
   "source": [
    "sns.histplot(data=log_ave_rooms)\n",
    "plt.show()"
   ]
  },
  {
   "cell_type": "markdown",
   "metadata": {
    "id": "aRvvLMRNxkim"
   },
   "source": [
    "Признак нормализовался не совсем успешно, хоть и стал ближе к нормальному распределению. С MinMax-скейлингом результат получился хуже, из ноутбука исключен."
   ]
  },
  {
   "cell_type": "code",
   "execution_count": 9,
   "metadata": {
    "executionInfo": {
     "elapsed": 11,
     "status": "ok",
     "timestamp": 1696435316876,
     "user": {
      "displayName": "artificial flesh",
      "userId": "00780849165661762341"
     },
     "user_tz": -300
    },
    "id": "Rb9XPK-CONOa"
   },
   "outputs": [],
   "source": [
    "df['AveRooms'] = log_ave_rooms"
   ]
  },
  {
   "cell_type": "markdown",
   "metadata": {
    "id": "k1BNe-ycyX9e"
   },
   "source": [
    "3. Разделите выборку на обучающее и тестовое подмножества. 80% данных оставить на обучающее множество, 20% - на тестовое."
   ]
  },
  {
   "cell_type": "code",
   "execution_count": 10,
   "metadata": {
    "executionInfo": {
     "elapsed": 10,
     "status": "ok",
     "timestamp": 1696435316876,
     "user": {
      "displayName": "artificial flesh",
      "userId": "00780849165661762341"
     },
     "user_tz": -300
    },
    "id": "OnY-Pv8AOG1M"
   },
   "outputs": [],
   "source": [
    "X = df.drop('MedHouseVal', axis=1)\n",
    "y = df['MedHouseVal']"
   ]
  },
  {
   "cell_type": "code",
   "execution_count": 11,
   "metadata": {
    "executionInfo": {
     "elapsed": 10,
     "status": "ok",
     "timestamp": 1696435316876,
     "user": {
      "displayName": "artificial flesh",
      "userId": "00780849165661762341"
     },
     "user_tz": -300
    },
    "id": "_NrYACDHyXJJ"
   },
   "outputs": [],
   "source": [
    "X_train, X_test, y_train, y_test = train_test_split(X, y, test_size=0.2, random_state=42)"
   ]
  },
  {
   "cell_type": "markdown",
   "metadata": {
    "id": "3NughnefOpCe"
   },
   "source": [
    "4. Обучите [модель регрессии](https://scikit-learn.org/stable/modules/generated/sklearn.linear_model.LinearRegression.html) на обучающем множестве."
   ]
  },
  {
   "cell_type": "code",
   "execution_count": 12,
   "metadata": {
    "colab": {
     "base_uri": "https://localhost:8080/",
     "height": 74
    },
    "executionInfo": {
     "elapsed": 10,
     "status": "ok",
     "timestamp": 1696435316877,
     "user": {
      "displayName": "artificial flesh",
      "userId": "00780849165661762341"
     },
     "user_tz": -300
    },
    "id": "uFQow6fAQ4n-",
    "outputId": "6bf3cf04-61f8-4aa8-88ed-8bfae565e0ed"
   },
   "outputs": [
    {
     "data": {
      "text/plain": [
       "LinearRegression()"
      ]
     },
     "execution_count": 12,
     "metadata": {},
     "output_type": "execute_result"
    }
   ],
   "source": [
    "model = LinearRegression()\n",
    "model.fit(X_train, y_train)"
   ]
  },
  {
   "cell_type": "code",
   "execution_count": 13,
   "metadata": {
    "colab": {
     "base_uri": "https://localhost:8080/"
    },
    "executionInfo": {
     "elapsed": 9,
     "status": "ok",
     "timestamp": 1696435316877,
     "user": {
      "displayName": "artificial flesh",
      "userId": "00780849165661762341"
     },
     "user_tz": -300
    },
    "id": "DfXp9FP3ZKPI",
    "outputId": "dc94a0e2-70d1-4f67-e36f-741e7135c0dc"
   },
   "outputs": [
    {
     "data": {
      "text/plain": [
       "0.6110199251565378"
      ]
     },
     "execution_count": 13,
     "metadata": {},
     "output_type": "execute_result"
    }
   ],
   "source": [
    "model.score(X_train, y_train)"
   ]
  },
  {
   "cell_type": "markdown",
   "metadata": {
    "id": "PHdeUezoVHRP"
   },
   "source": [
    "5. Для тестового множества предскажите целевую переменную и сравните с истинным значением, посчитав точность предсказания модели. Для этого используйте встроенную функцию score."
   ]
  },
  {
   "cell_type": "code",
   "execution_count": 14,
   "metadata": {
    "colab": {
     "base_uri": "https://localhost:8080/"
    },
    "executionInfo": {
     "elapsed": 8,
     "status": "ok",
     "timestamp": 1696435316877,
     "user": {
      "displayName": "artificial flesh",
      "userId": "00780849165661762341"
     },
     "user_tz": -300
    },
    "id": "FkRlW0MHVGRy",
    "outputId": "f1af93d7-1658-4bae-9447-4546c907990d"
   },
   "outputs": [
    {
     "data": {
      "text/plain": [
       "0.5747512204883864"
      ]
     },
     "execution_count": 14,
     "metadata": {},
     "output_type": "execute_result"
    }
   ],
   "source": [
    "model.score(X_test, y_test)"
   ]
  },
  {
   "cell_type": "markdown",
   "metadata": {
    "id": "BRiapMluVNSc"
   },
   "source": [
    "6. Обучите [дерево решений](https://scikit-learn.org/stable/modules/generated/sklearn.tree.DecisionTreeRegressor.html) на обучающем множестве."
   ]
  },
  {
   "cell_type": "code",
   "execution_count": 15,
   "metadata": {
    "colab": {
     "base_uri": "https://localhost:8080/",
     "height": 74
    },
    "executionInfo": {
     "elapsed": 589,
     "status": "ok",
     "timestamp": 1696435317459,
     "user": {
      "displayName": "artificial flesh",
      "userId": "00780849165661762341"
     },
     "user_tz": -300
    },
    "id": "gu-0HA5XVP8u",
    "outputId": "8ec3396e-2383-4835-b93d-7bad990ec6d7"
   },
   "outputs": [
    {
     "data": {
      "text/plain": [
       "DecisionTreeRegressor(random_state=42)"
      ]
     },
     "execution_count": 15,
     "metadata": {},
     "output_type": "execute_result"
    }
   ],
   "source": [
    "model = DecisionTreeRegressor(random_state=42)\n",
    "model.fit(X_train, y_train)"
   ]
  },
  {
   "cell_type": "code",
   "execution_count": 16,
   "metadata": {
    "colab": {
     "base_uri": "https://localhost:8080/"
    },
    "executionInfo": {
     "elapsed": 7,
     "status": "ok",
     "timestamp": 1696435317459,
     "user": {
      "displayName": "artificial flesh",
      "userId": "00780849165661762341"
     },
     "user_tz": -300
    },
    "id": "R4MJakW8ZRf7",
    "outputId": "79a043d3-97dc-4885-cbc8-0e699e17acf5"
   },
   "outputs": [
    {
     "data": {
      "text/plain": [
       "1.0"
      ]
     },
     "execution_count": 16,
     "metadata": {},
     "output_type": "execute_result"
    }
   ],
   "source": [
    "model.score(X_train, y_train)"
   ]
  },
  {
   "cell_type": "markdown",
   "metadata": {
    "id": "3feBHrGLWOai"
   },
   "source": [
    "a. Для тестового множества предскажите целевую переменную и сравните с истинным значением, посчитав точность предсказания модели. Для этого используйте встроенную функцию score."
   ]
  },
  {
   "cell_type": "code",
   "execution_count": 17,
   "metadata": {
    "colab": {
     "base_uri": "https://localhost:8080/"
    },
    "executionInfo": {
     "elapsed": 5,
     "status": "ok",
     "timestamp": 1696435317459,
     "user": {
      "displayName": "artificial flesh",
      "userId": "00780849165661762341"
     },
     "user_tz": -300
    },
    "id": "00HCr0OfWMPW",
    "outputId": "fc8f9256-46f8-4548-87cd-b069df803b12"
   },
   "outputs": [
    {
     "data": {
      "text/plain": [
       "0.6222544018450675"
      ]
     },
     "execution_count": 17,
     "metadata": {},
     "output_type": "execute_result"
    }
   ],
   "source": [
    "model.score(X_test, y_test)"
   ]
  },
  {
   "cell_type": "markdown",
   "metadata": {
    "id": "hVpjsqdyWY2u"
   },
   "source": [
    "b. Визуализируйте часть дерева решений. Убедитесь, что график получился читабельным. Посмотрите примеры визуализации по [ссылке](https://mljar.com/blog/visualize-decision-tree/)."
   ]
  },
  {
   "cell_type": "code",
   "execution_count": 18,
   "metadata": {
    "colab": {
     "base_uri": "https://localhost:8080/",
     "height": 773
    },
    "executionInfo": {
     "elapsed": 4380,
     "status": "ok",
     "timestamp": 1696435321835,
     "user": {
      "displayName": "artificial flesh",
      "userId": "00780849165661762341"
     },
     "user_tz": -300
    },
    "id": "6LsIo90OWj55",
    "outputId": "e067c517-50cd-4a9f-f501-425ff744e528"
   },
   "outputs": [
    {
     "data": {
      "image/png": "[encoded data removed]",
      "text/plain": [
       "<Figure size 1296x720 with 1 Axes>"
      ]
     },
     "metadata": {},
     "output_type": "display_data"
    }
   ],
   "source": [
    "fig, ax = plt.subplots(figsize=(18, 10))\n",
    "plot_tree(model, max_depth=3, feature_names=X_train.columns, filled=True, fontsize=9, ax=ax)\n",
    "plt.show()"
   ]
  },
  {
   "cell_type": "markdown",
   "metadata": {
    "id": "ywGwYjY6YP0D"
   },
   "source": [
    "7. Оптимизируйте глубину дерева (max_depth). *Оптимизируйте ещё один параметр модели на выбор."
   ]
  },
  {
   "cell_type": "code",
   "execution_count": 19,
   "metadata": {
    "colab": {
     "base_uri": "https://localhost:8080/",
     "height": 74
    },
    "executionInfo": {
     "elapsed": 11,
     "status": "ok",
     "timestamp": 1696435321836,
     "user": {
      "displayName": "artificial flesh",
      "userId": "00780849165661762341"
     },
     "user_tz": -300
    },
    "id": "gmOXhIr8YPiE",
    "outputId": "56485787-a7bd-4586-c7e6-d9b57aab4ad5"
   },
   "outputs": [
    {
     "data": {
      "text/plain": [
       "DecisionTreeRegressor(max_depth=8, min_samples_leaf=3, random_state=42)"
      ]
     },
     "execution_count": 19,
     "metadata": {},
     "output_type": "execute_result"
    }
   ],
   "source": [
    "model = DecisionTreeRegressor(max_depth=8, min_samples_leaf=3, random_state=42)\n",
    "model.fit(X_train, y_train)"
   ]
  },
  {
   "cell_type": "code",
   "execution_count": 20,
   "metadata": {
    "colab": {
     "base_uri": "https://localhost:8080/"
    },
    "executionInfo": {
     "elapsed": 10,
     "status": "ok",
     "timestamp": 1696435321836,
     "user": {
      "displayName": "artificial flesh",
      "userId": "00780849165661762341"
     },
     "user_tz": -300
    },
    "id": "CR1TxfZAZGET",
    "outputId": "c241119d-9de6-4246-fa92-d035aeff9e52"
   },
   "outputs": [
    {
     "data": {
      "text/plain": [
       "0.7579580863586469"
      ]
     },
     "execution_count": 20,
     "metadata": {},
     "output_type": "execute_result"
    }
   ],
   "source": [
    "model.score(X_train, y_train)"
   ]
  },
  {
   "cell_type": "markdown",
   "metadata": {
    "id": "gVy6ZhoKZvkQ"
   },
   "source": [
    "a. Для тестового множества предскажите целевую переменную и сравните с истинным значением, посчитав точность предсказания модели. Для этого используйте встроенную функцию score."
   ]
  },
  {
   "cell_type": "code",
   "execution_count": 21,
   "metadata": {
    "colab": {
     "base_uri": "https://localhost:8080/"
    },
    "executionInfo": {
     "elapsed": 8,
     "status": "ok",
     "timestamp": 1696435321836,
     "user": {
      "displayName": "artificial flesh",
      "userId": "00780849165661762341"
     },
     "user_tz": -300
    },
    "id": "e9YlxMh8Y0u5",
    "outputId": "d5a66480-19d8-4de5-948f-fc8c1f80602c"
   },
   "outputs": [
    {
     "data": {
      "text/plain": [
       "0.6808991963313982"
      ]
     },
     "execution_count": 21,
     "metadata": {},
     "output_type": "execute_result"
    }
   ],
   "source": [
    "model.score(X_test, y_test)"
   ]
  },
  {
   "cell_type": "markdown",
   "metadata": {
    "id": "XHFG0R21Z99h"
   },
   "source": [
    "Деревья решений имеют более высокую точность по сравнению с моделью линейной регрессии, но склонно к переобучению, большой разрыв метрики точности на обучении и на тесте. Разрыв можно значительно уменьшить и при этом увеличить точность на тесте при работе с параметрами дерева решений, что намного проще по сравнению с моделью линейной регрессии, где нужна более тщательная работа с признаками. Помимо этого дерево решений работает и с категориальными, и с числовыми признаки, в отличие от линейной модели."
   ]
  }
 ],
 "metadata": {
  "colab": {
   "provenance": []
  },
  "kernelspec": {
   "display_name": "Python 3 (ipykernel)",
   "language": "python",
   "name": "python3"
  },
  "language_info": {
   "codemirror_mode": {
    "name": "ipython",
    "version": 3
   },
   "file_extension": ".py",
   "mimetype": "text/x-python",
   "name": "python",
   "nbconvert_exporter": "python",
   "pygments_lexer": "ipython3",
   "version": "3.9.12"
  }
 },
 "nbformat": 4,
 "nbformat_minor": 1
}
