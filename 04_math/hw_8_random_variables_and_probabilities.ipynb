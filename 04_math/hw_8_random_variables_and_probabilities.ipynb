{
 "cells": [
  {
   "cell_type": "markdown",
   "metadata": {
    "id": "_kX74ytuOfgy"
   },
   "source": [
    "# Домашнее задание \"Случайные величины и вероятности\"."
   ]
  },
  {
   "cell_type": "markdown",
   "metadata": {
    "id": "t69IZulqTZMz"
   },
   "source": [
    "## Уровень 0:\n"
   ]
  },
  {
   "cell_type": "markdown",
   "metadata": {
    "id": "9JUikPzroAL8"
   },
   "source": [
    "### Задание 1"
   ]
  },
  {
   "cell_type": "markdown",
   "metadata": {
    "id": "-iPjA-eBHwGP"
   },
   "source": [
    "В магазин привезли устройства с 3-х разных предприятий. \n",
    "\n",
    "Соотношение устройств следующее: 20% - продукция первого предприятия, 30% - продукция второго предприятия, 50% - продукция третьего предприятия; далее, 10% продукции первого предприятия высшего сорта, на втором предприятии - 5% и на третьем - 20% продукции высшего сорта. \n",
    "\n",
    "Найти вероятность того, что случайно купленная новая продукция окажется высшего сорта."
   ]
  },
  {
   "cell_type": "code",
   "execution_count": 7,
   "metadata": {},
   "outputs": [
    {
     "data": {
      "text/plain": [
       "0.135"
      ]
     },
     "execution_count": 7,
     "metadata": {},
     "output_type": "execute_result"
    }
   ],
   "source": [
    "total_probability = 0.2 * 0.1 + 0.3 * 0.05 + 0.5 * 0.2\n",
    "total_probability"
   ]
  },
  {
   "cell_type": "markdown",
   "metadata": {},
   "source": [
    "Вероятность того, что случайно купленная новая продукция окажется высшего сорта равна 13,5%"
   ]
  },
  {
   "cell_type": "markdown",
   "metadata": {
    "id": "6Ff11QC3H8mR"
   },
   "source": [
    "### Задание 2\n"
   ]
  },
  {
   "cell_type": "markdown",
   "metadata": {
    "id": "ya8BlSO5nQ9a"
   },
   "source": [
    "Пусть брошены 3 уравновешенные монеты.\n",
    "\n",
    "Рассмотрим 3 события:\n",
    "\n",
    "A1 - монеты 1 и 2 упали одной и той же стороной;\n",
    "\n",
    "A2 - монеты 2 и 3 упали одной и той же стороной;\n",
    "\n",
    "A3 - монеты 1 и 3 упали одной и той же стороной.\n",
    "\n",
    "Покажите, почему эти 3 события (A1, A2, A3) являются попарно независимыми, но не являются независимыми в совокупности."
   ]
  },
  {
   "cell_type": "markdown",
   "metadata": {
    "id": "p2gC3FEFnY08"
   },
   "source": [
    "Общее количество возможных исходов $N = 2^3$<br>\n",
    "Вероятности каждого из событий равны:<br>\n",
    "$P(A_1) = \\frac{1}{2}$<br>\n",
    "$P(A_2) = \\frac{1}{2}$<br>\n",
    "$P(A_3) = \\frac{1}{2}$<br>\n",
    "\n",
    "При этом вероятность наступления каждого события в зависимости от другого так же равна вероятности этих событий, наступление одного из них не изменяет вероятность наступления другого, события попарно независимы.<br>\n",
    "$P(A_1|A_2) = \\frac{1}{2}$<br>\n",
    "$P(A_2|A_3) = \\frac{1}{2}$<br>\n",
    "$P(A_3|A_1) = \\frac{1}{2}$<br>\n",
    "\n",
    "При этом события зависимы в совокупности, поскольку при наступлении двух из них одновременно, наступает и третье событие."
   ]
  }
 ],
 "metadata": {
  "colab": {
   "collapsed_sections": [],
   "name": "HW_8_upd",
   "provenance": []
  },
  "kernelspec": {
   "display_name": "Python 3 (ipykernel)",
   "language": "python",
   "name": "python3"
  },
  "language_info": {
   "codemirror_mode": {
    "name": "ipython",
    "version": 3
   },
   "file_extension": ".py",
   "mimetype": "text/x-python",
   "name": "python",
   "nbconvert_exporter": "python",
   "pygments_lexer": "ipython3",
   "version": "3.9.12"
  }
 },
 "nbformat": 4,
 "nbformat_minor": 1
}
