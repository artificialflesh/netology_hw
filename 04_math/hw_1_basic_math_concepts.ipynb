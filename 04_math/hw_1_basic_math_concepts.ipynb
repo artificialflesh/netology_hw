{
 "cells": [
  {
   "cell_type": "code",
   "execution_count": 1,
   "id": "7b33e85d",
   "metadata": {},
   "outputs": [],
   "source": [
    "import numpy as np\n",
    "import sympy as sym"
   ]
  },
  {
   "cell_type": "markdown",
   "id": "c62e70d0",
   "metadata": {},
   "source": [
    "## Уровень 0:"
   ]
  },
  {
   "cell_type": "markdown",
   "id": "39ac9136",
   "metadata": {},
   "source": [
    "Представим фильмы в виде бинарных векторов (numpy array) используя следующие признаки:\n",
    "\n",
    "[Комедия, Боевик, Исторический, Бред Питт, Бенедикт Камбербэтч, Квентин Тарантино]\n",
    "\n",
    "Игра в имитацию\n",
    "\n",
    "Ярость\n",
    "\n",
    "12 лет рабства\n",
    "\n",
    "Однажды в Голливуде"
   ]
  },
  {
   "cell_type": "code",
   "execution_count": 2,
   "id": "9d3d70b0",
   "metadata": {},
   "outputs": [],
   "source": [
    "film_1 = np.array([0,0,0,0,1,0])      # Игра в имитацию\n",
    "film_2 = np.array([0,1,0,1,0,0])      # Ярость\n",
    "film_3 = np.array([0,0,1,1,1,0])      # 12 лет рабства\n",
    "film_4 = np.array([1,0,0,1,0,1])      # Однажды в Голливуде"
   ]
  },
  {
   "cell_type": "markdown",
   "id": "d63f276b",
   "metadata": {},
   "source": [
    "### Задание 1"
   ]
  },
  {
   "cell_type": "markdown",
   "id": "ff6e23bb",
   "metadata": {},
   "source": [
    "Найти угол между векторами-фильмами \"Ярость\" и \"12 лет рабства\". Результатом будет являться косинусная мера, которую можно использовать для определения похожести векторов."
   ]
  },
  {
   "cell_type": "code",
   "execution_count": 3,
   "id": "523ca9d8",
   "metadata": {},
   "outputs": [],
   "source": [
    "scalar_product = np.dot(film_2, film_3)"
   ]
  },
  {
   "cell_type": "code",
   "execution_count": 4,
   "id": "cdec11c7",
   "metadata": {},
   "outputs": [],
   "source": [
    "length_film_2 = np.linalg.norm(film_2)\n",
    "length_film_3 = np.linalg.norm(film_3)"
   ]
  },
  {
   "cell_type": "code",
   "execution_count": 5,
   "id": "e47615ed",
   "metadata": {},
   "outputs": [],
   "source": [
    "vector_multip = length_film_2 * length_film_3"
   ]
  },
  {
   "cell_type": "code",
   "execution_count": 6,
   "id": "f0259e24",
   "metadata": {
    "scrolled": true
   },
   "outputs": [],
   "source": [
    "cosine = scalar_product / vector_multip"
   ]
  },
  {
   "cell_type": "code",
   "execution_count": 7,
   "id": "f0467661",
   "metadata": {},
   "outputs": [],
   "source": [
    "angle = np.arccos(cosine)"
   ]
  },
  {
   "cell_type": "code",
   "execution_count": 8,
   "id": "76b1ddd8",
   "metadata": {},
   "outputs": [],
   "source": [
    "angle_degrees = np.degrees(angle)"
   ]
  },
  {
   "cell_type": "code",
   "execution_count": 9,
   "id": "8b009f26",
   "metadata": {},
   "outputs": [
    {
     "name": "stdout",
     "output_type": "stream",
     "text": [
      "Угол между векторами: 65.90515744788931\n"
     ]
    }
   ],
   "source": [
    "print(f'Угол между векторами:', angle_degrees)"
   ]
  },
  {
   "cell_type": "markdown",
   "id": "28e14c13",
   "metadata": {},
   "source": [
    "### Задание 2"
   ]
  },
  {
   "cell_type": "markdown",
   "id": "d67d842c",
   "metadata": {},
   "source": [
    "Вычислить с помощью Python значение первой производной для функции $8x(x+3)^2$ в точке $x=1$"
   ]
  },
  {
   "cell_type": "code",
   "execution_count": 10,
   "id": "90f160b9",
   "metadata": {},
   "outputs": [],
   "source": [
    "x = sym.Symbol('x')"
   ]
  },
  {
   "cell_type": "code",
   "execution_count": 11,
   "id": "ebe892e5",
   "metadata": {},
   "outputs": [
    {
     "data": {
      "text/latex": [
       "$\\displaystyle 8 x \\left(x + 3\\right)^{2}$"
      ],
      "text/plain": [
       "8*x*(x + 3)**2"
      ]
     },
     "execution_count": 11,
     "metadata": {},
     "output_type": "execute_result"
    }
   ],
   "source": [
    "func = 8*x*(x+3)**2\n",
    "func"
   ]
  },
  {
   "cell_type": "code",
   "execution_count": 12,
   "id": "a2f22d70",
   "metadata": {},
   "outputs": [
    {
     "data": {
      "text/latex": [
       "$\\displaystyle 8 x \\left(2 x + 6\\right) + 8 \\left(x + 3\\right)^{2}$"
      ],
      "text/plain": [
       "8*x*(2*x + 6) + 8*(x + 3)**2"
      ]
     },
     "execution_count": 12,
     "metadata": {},
     "output_type": "execute_result"
    }
   ],
   "source": [
    "diff = sym.diff(func, x)\n",
    "diff"
   ]
  },
  {
   "cell_type": "code",
   "execution_count": 13,
   "id": "07576a6d",
   "metadata": {},
   "outputs": [
    {
     "data": {
      "text/latex": [
       "$\\displaystyle 192$"
      ],
      "text/plain": [
       "192"
      ]
     },
     "execution_count": 13,
     "metadata": {},
     "output_type": "execute_result"
    }
   ],
   "source": [
    "value = diff.subs(x, 1)\n",
    "value"
   ]
  },
  {
   "cell_type": "markdown",
   "id": "fc9cc83b",
   "metadata": {},
   "source": [
    "### Задание 3"
   ]
  },
  {
   "cell_type": "markdown",
   "id": "138d4d32",
   "metadata": {},
   "source": [
    "Объединить векторы фильмов в матрицу, где каждый вектор является строкой матрицы. Умножьте вектор [1,2,3,4] на полученную матрицу"
   ]
  },
  {
   "cell_type": "code",
   "execution_count": 14,
   "id": "a055e530",
   "metadata": {},
   "outputs": [
    {
     "data": {
      "text/plain": [
       "array([[0, 0, 0, 0, 1, 0],\n",
       "       [0, 1, 0, 1, 0, 0],\n",
       "       [0, 0, 1, 1, 1, 0],\n",
       "       [1, 0, 0, 1, 0, 1]])"
      ]
     },
     "execution_count": 14,
     "metadata": {},
     "output_type": "execute_result"
    }
   ],
   "source": [
    "film_matrix = np.array([\n",
    "    film_1,\n",
    "    film_2,\n",
    "    film_3,\n",
    "    film_4\n",
    "])\n",
    "\n",
    "film_matrix"
   ]
  },
  {
   "cell_type": "code",
   "execution_count": 15,
   "id": "0956bd5c",
   "metadata": {},
   "outputs": [
    {
     "data": {
      "text/plain": [
       "array([1, 2, 3, 4])"
      ]
     },
     "execution_count": 15,
     "metadata": {},
     "output_type": "execute_result"
    }
   ],
   "source": [
    "vector = np.array([1,2,3,4])\n",
    "vector"
   ]
  },
  {
   "cell_type": "code",
   "execution_count": 16,
   "id": "4ba3eea7",
   "metadata": {},
   "outputs": [
    {
     "data": {
      "text/plain": [
       "array([4, 2, 3, 9, 4, 4])"
      ]
     },
     "execution_count": 16,
     "metadata": {},
     "output_type": "execute_result"
    }
   ],
   "source": [
    "np.matmul(vector, film_matrix)"
   ]
  }
 ],
 "metadata": {
  "kernelspec": {
   "display_name": "Python 3 (ipykernel)",
   "language": "python",
   "name": "python3"
  },
  "language_info": {
   "codemirror_mode": {
    "name": "ipython",
    "version": 3
   },
   "file_extension": ".py",
   "mimetype": "text/x-python",
   "name": "python",
   "nbconvert_exporter": "python",
   "pygments_lexer": "ipython3",
   "version": "3.9.12"
  }
 },
 "nbformat": 4,
 "nbformat_minor": 5
}
