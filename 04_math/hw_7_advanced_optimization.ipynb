{
 "cells": [
  {
   "cell_type": "markdown",
   "metadata": {
    "id": "_kX74ytuOfgy"
   },
   "source": [
    "# Домашнее задание \"Продвинутая оптимизация\"."
   ]
  },
  {
   "cell_type": "markdown",
   "metadata": {
    "id": "9JUikPzroAL8"
   },
   "source": [
    "### Задание"
   ]
  },
  {
   "cell_type": "markdown",
   "metadata": {
    "id": "ya8BlSO5nQ9a"
   },
   "source": [
    "При фиксированном `seed=42` поэкспериментируйте с параметрами алгоритма [differential_evolution](https://docs.scipy.org/doc/scipy/reference/generated/scipy.optimize.differential_evolution.html): strategy, popsize, mutation.\n",
    "\n",
    "Постройте графики количества итераций (`nit`) оптимизации [функции ackley](https://en.wikipedia.org/wiki/Ackley_function) от значения параметра. \n",
    "\n",
    "Подробнее о результате выдачи [тут](https://docs.scipy.org/doc/scipy/reference/generated/scipy.optimize.OptimizeResult.html)."
   ]
  },
  {
   "cell_type": "code",
   "execution_count": 1,
   "metadata": {
    "id": "p2gC3FEFnY08"
   },
   "outputs": [],
   "source": [
    "import numpy as np\n",
    "from scipy.optimize import differential_evolution\n",
    "import matplotlib.pyplot as plt\n",
    "\n",
    "%matplotlib inline"
   ]
  },
  {
   "cell_type": "code",
   "execution_count": 2,
   "metadata": {
    "colab": {
     "base_uri": "https://localhost:8080/"
    },
    "id": "094Qv5FuC08h",
    "outputId": "c3d23bc3-c849-4161-ed16-d3207c700ee2"
   },
   "outputs": [
    {
     "data": {
      "text/plain": [
       "     fun: 4.440892098500626e-16\n",
       " message: 'Optimization terminated successfully.'\n",
       "    nfev: 2793\n",
       "     nit: 90\n",
       " success: True\n",
       "       x: array([0., 0.])"
      ]
     },
     "execution_count": 2,
     "metadata": {},
     "output_type": "execute_result"
    }
   ],
   "source": [
    "def ackley(x):\n",
    "    arg1 = -0.2 * np.sqrt(0.5 * (x[0] ** 2 + x[1] ** 2))\n",
    "    arg2 = 0.5 * (np.cos(2. * np.pi * x[0]) + np.cos(2. * np.pi * x[1]))\n",
    "    return -20. * np.exp(arg1) - np.exp(arg2) + 20. + np.e\n",
    "\n",
    "bounds = [(-10, 10), (-10, 10)]\n",
    "\n",
    "result = differential_evolution(ackley, bounds, seed=42)\n",
    "result"
   ]
  },
  {
   "cell_type": "code",
   "execution_count": 3,
   "metadata": {
    "id": "yL8ITujuFu0M"
   },
   "outputs": [],
   "source": [
    "strategies_list=['best1bin',\n",
    "                 'best1exp',\n",
    "                 'rand1exp',\n",
    "                 'randtobest1exp',\n",
    "                 'currenttobest1exp',\n",
    "                 'best2exp',\n",
    "                 'rand2exp',\n",
    "                 'randtobest1bin',\n",
    "                 'currenttobest1bin',\n",
    "                 'best2bin',\n",
    "                 'rand2bin',\n",
    "                 'rand1bin']"
   ]
  },
  {
   "cell_type": "code",
   "execution_count": 4,
   "metadata": {},
   "outputs": [],
   "source": [
    "interation_counter = {}"
   ]
  },
  {
   "cell_type": "code",
   "execution_count": 5,
   "metadata": {},
   "outputs": [
    {
     "name": "stdout",
     "output_type": "stream",
     "text": [
      " best1bin Optimization terminated successfully. nfev: 2793 nit: 90 x: [0. 0.]\n",
      " best1exp Optimization terminated successfully. nfev: 4503 nit: 147 x: [0. 0.]\n",
      " rand1exp Optimization terminated successfully. nfev: 7473 nit: 246 x: [0. 0.]\n",
      " randtobest1exp Optimization terminated successfully. nfev: 4773 nit: 156 x: [0. 0.]\n",
      " currenttobest1exp Maximum number of iterations has been exceeded. nfev: 30093 nit: 1000 x: [0. 0.]\n",
      " best2exp Optimization terminated successfully. nfev: 7413 nit: 244 x: [0. 0.]\n",
      " rand2exp Optimization terminated successfully. nfev: 10323 nit: 341 x: [0. 0.]\n",
      " randtobest1bin Optimization terminated successfully. nfev: 3123 nit: 101 x: [0. 0.]\n",
      " currenttobest1bin Maximum number of iterations has been exceeded. nfev: 30093 nit: 1000 x: [0. 0.]\n",
      " best2bin Optimization terminated successfully. nfev: 5073 nit: 166 x: [0. 0.]\n",
      " rand2bin Optimization terminated successfully. nfev: 7053 nit: 232 x: [0. 0.]\n",
      " rand1bin Optimization terminated successfully. nfev: 5133 nit: 168 x: [0. 0.]\n"
     ]
    }
   ],
   "source": [
    "for stg in strategies_list:\n",
    "    result = differential_evolution(ackley, bounds, seed=42, strategy=stg)\n",
    "    print(f'', stg, result.message, 'nfev:', result.nfev, 'nit:', result.nit, 'x:', result.x)\n",
    "    interation_counter[stg] = result.nit"
   ]
  },
  {
   "cell_type": "code",
   "execution_count": 6,
   "metadata": {},
   "outputs": [
    {
     "data": {
      "image/png": "[encoded data removed]",
      "text/plain": [
       "<Figure size 720x360 with 1 Axes>"
      ]
     },
     "metadata": {
      "needs_background": "light"
     },
     "output_type": "display_data"
    }
   ],
   "source": [
    "plt.figure(figsize=(10, 5))\n",
    "plt.bar(interation_counter.keys(),\n",
    "         interation_counter.values())\n",
    "plt.xticks(rotation=30, ha=\"right\")\n",
    "plt.show()"
   ]
  },
  {
   "cell_type": "code",
   "execution_count": 7,
   "metadata": {},
   "outputs": [],
   "source": [
    "popsize_range = range(1, 16)"
   ]
  },
  {
   "cell_type": "code",
   "execution_count": 8,
   "metadata": {},
   "outputs": [],
   "source": [
    "interation_counter = {}"
   ]
  },
  {
   "cell_type": "code",
   "execution_count": 9,
   "metadata": {},
   "outputs": [
    {
     "name": "stdout",
     "output_type": "stream",
     "text": [
      " 1 Optimization terminated successfully. nfev: 103 nit: 7 x: [-1.63444732e-08  9.52166535e-01]\n",
      " 2 Optimization terminated successfully. nfev: 103 nit: 7 x: [-1.63444732e-08  9.52166535e-01]\n",
      " 3 Optimization terminated successfully. nfev: 372 nit: 29 x: [-2.23261827e-04  7.50128262e-06]\n",
      " 4 Optimization terminated successfully. nfev: 506 nit: 39 x: [ 4.99555835e-06 -1.10110403e-07]\n",
      " 5 Optimization terminated successfully. nfev: 1073 nit: 100 x: [0. 0.]\n",
      " 6 Optimization terminated successfully. nfev: 1263 nit: 99 x: [0. 0.]\n",
      " 7 Optimization terminated successfully. nfev: 1295 nit: 87 x: [0. 0.]\n",
      " 8 Optimization terminated successfully. nfev: 1631 nit: 97 x: [0. 0.]\n",
      " 9 Optimization terminated successfully. nfev: 1899 nit: 101 x: [0. 0.]\n",
      " 10 Optimization terminated successfully. nfev: 2023 nit: 97 x: [0. 0.]\n",
      " 11 Optimization terminated successfully. nfev: 2043 nit: 89 x: [0. 0.]\n",
      " 12 Optimization terminated successfully. nfev: 2391 nit: 96 x: [0. 0.]\n",
      " 13 Optimization terminated successfully. nfev: 2585 nit: 96 x: [0. 0.]\n",
      " 14 Optimization terminated successfully. nfev: 2863 nit: 99 x: [0. 0.]\n",
      " 15 Optimization terminated successfully. nfev: 2793 nit: 90 x: [0. 0.]\n"
     ]
    }
   ],
   "source": [
    "for pop in popsize_range:\n",
    "    result = differential_evolution(ackley, bounds, seed=42, popsize=pop)\n",
    "    print(f'', pop, result.message, 'nfev:', result.nfev, 'nit:', result.nit, 'x:', result.x)\n",
    "    interation_counter[pop] = result.nit"
   ]
  },
  {
   "cell_type": "code",
   "execution_count": 10,
   "metadata": {},
   "outputs": [
    {
     "data": {
      "image/png": "[encoded data removed]",
      "text/plain": [
       "<Figure size 1080x360 with 1 Axes>"
      ]
     },
     "metadata": {
      "needs_background": "light"
     },
     "output_type": "display_data"
    }
   ],
   "source": [
    "plt.figure(figsize=(15, 5))\n",
    "plt.plot(interation_counter.keys(),\n",
    "         interation_counter.values())\n",
    "plt.xticks(list(interation_counter.keys()))\n",
    "plt.show()"
   ]
  },
  {
   "cell_type": "code",
   "execution_count": 11,
   "metadata": {},
   "outputs": [
    {
     "data": {
      "text/plain": [
       "array([0. , 0.1, 0.2, 0.3, 0.4, 0.5, 0.6, 0.7, 0.8, 0.9, 1. , 1.1, 1.2,\n",
       "       1.3, 1.4, 1.5, 1.6, 1.7, 1.8, 1.9])"
      ]
     },
     "execution_count": 11,
     "metadata": {},
     "output_type": "execute_result"
    }
   ],
   "source": [
    "mutation_range = np.arange(0, 2, 0.1).round(1)\n",
    "mutation_range"
   ]
  },
  {
   "cell_type": "code",
   "execution_count": 12,
   "metadata": {},
   "outputs": [],
   "source": [
    "interation_counter = {}"
   ]
  },
  {
   "cell_type": "code",
   "execution_count": 13,
   "metadata": {},
   "outputs": [
    {
     "name": "stdout",
     "output_type": "stream",
     "text": [
      " 0.0 Optimization terminated successfully. nfev: 156 nit: 3 x: [ 0.96847763 -0.96847758]\n",
      " 0.1 Optimization terminated successfully. nfev: 192 nit: 5 x: [0.96847769 0.96847738]\n",
      " 0.2 Optimization terminated successfully. nfev: 933 nit: 28 x: [0. 0.]\n",
      " 0.3 Optimization terminated successfully. nfev: 1233 nit: 38 x: [0. 0.]\n",
      " 0.4 Optimization terminated successfully. nfev: 1503 nit: 47 x: [0. 0.]\n",
      " 0.5 Optimization terminated successfully. nfev: 1803 nit: 57 x: [0. 0.]\n",
      " 0.6 Optimization terminated successfully. nfev: 2373 nit: 76 x: [0. 0.]\n",
      " 0.7 Optimization terminated successfully. nfev: 2823 nit: 91 x: [0. 0.]\n",
      " 0.8 Optimization terminated successfully. nfev: 3213 nit: 104 x: [0. 0.]\n",
      " 0.9 Optimization terminated successfully. nfev: 4203 nit: 137 x: [0. 0.]\n",
      " 1.0 Optimization terminated successfully. nfev: 4233 nit: 138 x: [4.4408921e-14 8.8817842e-15]\n",
      " 1.1 Optimization terminated successfully. nfev: 5703 nit: 187 x: [0. 0.]\n",
      " 1.2 Optimization terminated successfully. nfev: 6063 nit: 199 x: [0. 0.]\n",
      " 1.3 Optimization terminated successfully. nfev: 6573 nit: 216 x: [0. 0.]\n",
      " 1.4 Optimization terminated successfully. nfev: 8163 nit: 269 x: [0. 0.]\n",
      " 1.5 Optimization terminated successfully. nfev: 9633 nit: 318 x: [0. 0.]\n",
      " 1.6 Optimization terminated successfully. nfev: 5358 nit: 176 x: [-5.05866293e-09 -4.87173244e-09]\n",
      " 1.7 Optimization terminated successfully. nfev: 7413 nit: 244 x: [ 9.24149646e-12 -1.27187150e-11]\n",
      " 1.8 Optimization terminated successfully. nfev: 7443 nit: 245 x: [2.57882604e-11 1.44328993e-13]\n",
      " 1.9 Optimization terminated successfully. nfev: 7473 nit: 246 x: [-6.64750477e-10 -2.23598917e-12]\n"
     ]
    }
   ],
   "source": [
    "for mut in mutation_range:\n",
    "    result = differential_evolution(ackley, bounds, seed=42, mutation=mut)\n",
    "    print(f'', mut, result.message, 'nfev:', result.nfev, 'nit:', result.nit, 'x:', result.x)\n",
    "    interation_counter[mut] = result.nit"
   ]
  },
  {
   "cell_type": "code",
   "execution_count": 14,
   "metadata": {},
   "outputs": [
    {
     "data": {
      "image/png": "[encoded data removed]",
      "text/plain": [
       "<Figure size 720x360 with 1 Axes>"
      ]
     },
     "metadata": {
      "needs_background": "light"
     },
     "output_type": "display_data"
    }
   ],
   "source": [
    "plt.figure(figsize=(10, 5))\n",
    "plt.plot(interation_counter.keys(),\n",
    "         interation_counter.values())\n",
    "plt.xticks(list(interation_counter.keys()))\n",
    "plt.show()"
   ]
  },
  {
   "cell_type": "markdown",
   "metadata": {
    "id": "v7ZXCkamEaj4"
   },
   "source": [
    "### Дополнительное задание\n"
   ]
  },
  {
   "cell_type": "markdown",
   "metadata": {
    "id": "s5d4lLHVE9lX"
   },
   "source": [
    "Поэкспериментируйте с параметрами и оптимизацией через [minimize](https://docs.scipy.org/doc/scipy/reference/generated/scipy.optimize.minimize.html):"
   ]
  },
  {
   "cell_type": "code",
   "execution_count": 15,
   "metadata": {
    "colab": {
     "base_uri": "https://localhost:8080/"
    },
    "id": "DYlrUKvXEaFr",
    "outputId": "d7845458-dbee-4ad5-c4d4-22cd2b09f8d6"
   },
   "outputs": [
    {
     "data": {
      "text/plain": [
       " final_simplex: (array([[ 0.00000000e+00,  0.00000000e+00],\n",
       "       [-1.60675049e-05, -8.45336914e-06],\n",
       "       [-1.40380859e-06, -3.11279297e-05]]), array([4.44089210e-16, 5.13604405e-05, 8.81584216e-05]))\n",
       "           fun: 4.440892098500626e-16\n",
       "       message: 'Optimization terminated successfully.'\n",
       "          nfev: 17\n",
       "           nit: 8\n",
       "        status: 0\n",
       "       success: True\n",
       "             x: array([0., 0.])"
      ]
     },
     "execution_count": 15,
     "metadata": {},
     "output_type": "execute_result"
    }
   ],
   "source": [
    "from scipy.optimize import minimize\n",
    "\n",
    "x0 = [0, 0]\n",
    "\n",
    "result_m = minimize(ackley, x0,  method='Nelder-Mead')\n",
    "result_m"
   ]
  },
  {
   "cell_type": "code",
   "execution_count": 16,
   "metadata": {
    "id": "i0osASkQFujW"
   },
   "outputs": [],
   "source": [
    "methods = ['Nelder-Mead',\n",
    "           'Powell',\n",
    "           'CG',\n",
    "           'BFGS',\n",
    "           'L-BFGS-B',\n",
    "           'TNC',\n",
    "           'SLSQP',\n",
    "           'trust-constr']"
   ]
  },
  {
   "cell_type": "code",
   "execution_count": 17,
   "metadata": {},
   "outputs": [
    {
     "name": "stdout",
     "output_type": "stream",
     "text": [
      " Nelder-Mead Optimization terminated successfully. nfev: 17 nit: 8 x: [0. 0.]\n",
      " Powell Optimization terminated successfully. nfev: 63 nit: 1 x: [0. 0.]\n",
      " CG Desired error not necessarily achieved due to precision loss. nfev: 165 nit: 0 x: [0. 0.]\n",
      " BFGS Desired error not necessarily achieved due to precision loss. nfev: 165 nit: 0 x: [0. 0.]\n",
      " L-BFGS-B ABNORMAL_TERMINATION_IN_LNSRCH nfev: 63 nit: 0 x: [0. 0.]\n",
      " TNC Linear search failed nfev: 18 nit: 0 x: [0. 0.]\n",
      " SLSQP Optimization terminated successfully nfev: 30 nit: 5 x: [-9.01466425e-11 -9.01469759e-11]\n",
      " trust-constr `xtol` termination condition is satisfied. nfev: 81 nit: 27 x: [0. 0.]\n"
     ]
    }
   ],
   "source": [
    "for method in methods:\n",
    "    result_m = minimize(ackley, x0,  method=method)\n",
    "    print(f'', method, result_m.message, 'nfev:', result_m.nfev, 'nit:', result_m.nit, 'x:', result_m.x)"
   ]
  },
  {
   "cell_type": "code",
   "execution_count": 18,
   "metadata": {},
   "outputs": [
    {
     "name": "stdout",
     "output_type": "stream",
     "text": [
      " Nelder-Mead Optimization terminated successfully. nfev: 3 nit: 1 x: [0. 0.]\n",
      " Powell Optimization terminated successfully. nfev: 63 nit: 1 x: [0. 0.]\n",
      " CG Desired error not necessarily achieved due to precision loss. nfev: 165 nit: 0 x: [0. 0.]\n",
      " BFGS Desired error not necessarily achieved due to precision loss. nfev: 165 nit: 0 x: [0. 0.]\n",
      " L-BFGS-B ABNORMAL_TERMINATION_IN_LNSRCH nfev: 63 nit: 0 x: [0. 0.]\n",
      " TNC Linear search failed nfev: 18 nit: 0 x: [0. 0.]\n",
      " SLSQP Optimization terminated successfully nfev: 14 nit: 1 x: [-5.92124683e-06 -5.92124683e-06]\n",
      " trust-constr `xtol` termination condition is satisfied. nfev: 30 nit: 10 x: [0. 0.]\n"
     ]
    }
   ],
   "source": [
    "for method in methods:\n",
    "    result_m = minimize(ackley, x0,  method=method, tol=0.001)\n",
    "    print(f'', method, result_m.message, 'nfev:', result_m.nfev, 'nit:', result_m.nit, 'x:', result_m.x)"
   ]
  },
  {
   "cell_type": "code",
   "execution_count": 19,
   "metadata": {},
   "outputs": [
    {
     "data": {
      "text/plain": [
       "     fun: 4.440892098500626e-16\n",
       "     jac: array([0., 0.])\n",
       " message: 'Optimization terminated successfully'\n",
       "    nfev: 5\n",
       "     nit: 1\n",
       "    njev: 1\n",
       "  status: 0\n",
       " success: True\n",
       "       x: array([0., 0.])"
      ]
     },
     "execution_count": 19,
     "metadata": {},
     "output_type": "execute_result"
    }
   ],
   "source": [
    "result_m = minimize(ackley, x0,  method='SLSQP', tol=0.001, jac='3-point')\n",
    "result_m"
   ]
  }
 ],
 "metadata": {
  "colab": {
   "collapsed_sections": [],
   "name": "HW_7_upd",
   "provenance": []
  },
  "kernelspec": {
   "display_name": "Python 3 (ipykernel)",
   "language": "python",
   "name": "python3"
  },
  "language_info": {
   "codemirror_mode": {
    "name": "ipython",
    "version": 3
   },
   "file_extension": ".py",
   "mimetype": "text/x-python",
   "name": "python",
   "nbconvert_exporter": "python",
   "pygments_lexer": "ipython3",
   "version": "3.9.12"
  }
 },
 "nbformat": 4,
 "nbformat_minor": 1
}
