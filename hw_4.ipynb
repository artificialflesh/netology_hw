{
 "cells": [
  {
   "cell_type": "code",
   "execution_count": 1,
   "id": "d84f3deb",
   "metadata": {},
   "outputs": [],
   "source": [
    "documents = [\n",
    " {'type': 'passport', 'number': '2207 876234', 'name': 'Василий Гупкин'},\n",
    " {'type': 'invoice', 'number': '11-2', 'name': 'Геннадий Покемонов'},\n",
    " {'type': 'insurance', 'number': '10006', 'name': 'Аристарх Павлов'}\n",
    "]"
   ]
  },
  {
   "cell_type": "code",
   "execution_count": 2,
   "id": "ea4c4b15",
   "metadata": {},
   "outputs": [],
   "source": [
    "directories = {\n",
    " '1': ['2207 876234', '11-2'],\n",
    " '2': ['10006'],\n",
    " '3': []\n",
    "}"
   ]
  },
  {
   "cell_type": "markdown",
   "id": "4b5785b3",
   "metadata": {},
   "source": [
    "##### Пункт 1\n",
    "Пользователь по команде \"p\" может узнать владельца документа по его номеру"
   ]
  },
  {
   "cell_type": "code",
   "execution_count": 3,
   "id": "0be1ee47",
   "metadata": {},
   "outputs": [],
   "source": [
    "def doc_owner():\n",
    "    check = input('Введите номер документа: ')\n",
    "    for i in documents:\n",
    "        if check == i['number']:\n",
    "            print('Владелец документа: ' + i['name'])\n",
    "            return\n",
    "    print('Документ не найден.')"
   ]
  },
  {
   "cell_type": "markdown",
   "id": "b008cb29",
   "metadata": {},
   "source": [
    "##### Пункт 2\n",
    "Пользователь по команде \"s\" может по номеру документа узнать на какой полке он хранится"
   ]
  },
  {
   "cell_type": "code",
   "execution_count": 4,
   "id": "090f3b23",
   "metadata": {},
   "outputs": [],
   "source": [
    "def doc_shelf():\n",
    "    check = input('Введите номер документа: ')\n",
    "    for k, v in directories.items():\n",
    "        if check in v:\n",
    "            print('Документ хранится на полке: ' + k)\n",
    "            return\n",
    "    print('Документ не найден в базе.')"
   ]
  },
  {
   "cell_type": "markdown",
   "id": "1090e9a4",
   "metadata": {},
   "source": [
    "##### Пункт 3\n",
    "Пользователь по команде \"l\" может увидеть полную информацию по всем документам"
   ]
  },
  {
   "cell_type": "code",
   "execution_count": 5,
   "id": "c0ddec2c",
   "metadata": {},
   "outputs": [],
   "source": [
    "def all_info():\n",
    "    for doc in documents:\n",
    "        for k, v in directories.items():\n",
    "            if doc['number'] in v:\n",
    "                print('№: ' + doc['number'] + ', тип: ' + doc['type']\\\n",
    "                            + ', владелец: ' + doc['name'] + ', полка хранения: ' + k)"
   ]
  },
  {
   "cell_type": "markdown",
   "id": "26341ecd",
   "metadata": {},
   "source": [
    "##### Пункт 4\n",
    "Пользователь по команде \"ads\" может добавить новую полку"
   ]
  },
  {
   "cell_type": "code",
   "execution_count": 6,
   "id": "0e12ca8f",
   "metadata": {},
   "outputs": [],
   "source": [
    "def get_shelves():\n",
    "    \"\"\"Функция позволяет получить текущий перечень полок в формате '1, 2, 3' \"\"\"\n",
    "    return ', '.join([shelf for shelf in directories.keys()])"
   ]
  },
  {
   "cell_type": "code",
   "execution_count": 7,
   "id": "59bea1a6",
   "metadata": {},
   "outputs": [],
   "source": [
    "def new_shelf():\n",
    "    check = input('Введите номер полки: ')\n",
    "    if directories.get(check, 'not found') == 'not found':\n",
    "        directories[check] = []\n",
    "        print(f'Полка добавлена. Текущий перечень полок: {get_shelves()}.')\n",
    "    else:\n",
    "        print(f'Такая полка уже существует. Текущий перечень полок: {get_shelves()}.')"
   ]
  },
  {
   "cell_type": "markdown",
   "id": "72a384ec",
   "metadata": {},
   "source": [
    "##### Пункт 5\n",
    "Пользователь по команде \"ds\" может удалить существующую полку из данных (только если она пустая)"
   ]
  },
  {
   "cell_type": "code",
   "execution_count": 8,
   "id": "48177180",
   "metadata": {},
   "outputs": [],
   "source": [
    "def del_shelf():\n",
    "    check = input('Введите номер полки: ')\n",
    "    if directories.get(check, 'not found') == 'not found':\n",
    "        print(f'Такой полки не существует. Текущий перечень полок: {get_shelves()}.')\n",
    "    elif directories[check] == []:\n",
    "        del(directories[check])\n",
    "        print(f'Полка удалена. Текущий перечень полок: {get_shelves()}.')\n",
    "    else:\n",
    "        print('На полке есть документы, удалите их перед удалением полки. ' +\n",
    "             f'Текущий перечень полок: {get_shelves()}.')"
   ]
  },
  {
   "cell_type": "markdown",
   "id": "f33770dd",
   "metadata": {},
   "source": [
    "##### Пункт 6\n",
    "Пользователь по команде \"ad\" может добавить новый документ в данные"
   ]
  },
  {
   "cell_type": "code",
   "execution_count": 9,
   "id": "8217e336",
   "metadata": {},
   "outputs": [],
   "source": [
    "def new_doc():\n",
    "    new_num = input('Введите номер документа: ')\n",
    "    new_type = input('Введите тип документа: ')\n",
    "    new_owner = input('Введите владельца документа: ')\n",
    "    shelf = input('Введите полку для хранения: ')\n",
    "    if directories.get(shelf, 'not found') == 'not found':\n",
    "        print('Такой полки не существует. Добавьте полку командой ads.\\n\\nТекущий список документов:')\n",
    "        all_info()\n",
    "    else:\n",
    "        documents.append({'type': new_type, 'number': new_num, 'name': new_owner})\n",
    "        directories[shelf] = directories.get(shelf) + [new_num]\n",
    "        print('Документ добавлен. Текущий список документов:')\n",
    "        all_info()"
   ]
  },
  {
   "cell_type": "markdown",
   "id": "3392dbce",
   "metadata": {},
   "source": [
    "##### Пункт 7\n",
    "Пользователь по команде \"d\" может удалить документ из данных"
   ]
  },
  {
   "cell_type": "code",
   "execution_count": 10,
   "id": "406ea6b4",
   "metadata": {},
   "outputs": [],
   "source": [
    "def del_doc():\n",
    "    doc_num = input('Введите номер документа: ')\n",
    "    for doc in documents:\n",
    "        if doc['number'] == doc_num:\n",
    "            documents.remove(doc)\n",
    "            for key, value in directories.items():\n",
    "                if doc_num in value:\n",
    "                    directories[key].remove(doc_num)\n",
    "                    print('Документ удален. Текущий список документов:')\n",
    "                    all_info()\n",
    "                    return\n",
    "    print('Документ не найден. Текущий список документов:')\n",
    "    all_info()"
   ]
  },
  {
   "cell_type": "markdown",
   "id": "85e5a5f9",
   "metadata": {},
   "source": [
    "##### Пункт 8\n",
    "Пользователь по команде \"m\" может переместить документ с полки на полку"
   ]
  },
  {
   "cell_type": "code",
   "execution_count": 11,
   "id": "228d8541",
   "metadata": {},
   "outputs": [],
   "source": [
    "def shelf_change():\n",
    "    doc_num = input('Введите номер документа: ')\n",
    "    for value in directories.values():\n",
    "        if doc_num in value:\n",
    "            doc_shelf = input('Введите номер полки для перемещения: ')\n",
    "            if directories.get(doc_shelf, 'not found') == 'not found':\n",
    "                print(f'Такой полки не существует. Текущий перечень полок: {get_shelves()}.')\n",
    "            else:\n",
    "                for k, v in directories.items():\n",
    "                    if doc_num in v:\n",
    "                        if doc_shelf == k:\n",
    "                            print('Документ уже на этой полке. Текущий список документов:')\n",
    "                            all_info()\n",
    "                            return\n",
    "                        else:\n",
    "                            directories[k].remove(doc_num)\n",
    "                            directories[doc_shelf] += [doc_num]\n",
    "                            print('Документ перемещен. Текущий список документов:')\n",
    "                            all_info()\n",
    "                            return\n",
    "    print('Документ не найден. Текущий список документов:')\n",
    "    all_info()"
   ]
  },
  {
   "cell_type": "code",
   "execution_count": 12,
   "id": "6ef1b98d",
   "metadata": {},
   "outputs": [],
   "source": [
    "# словарь комманд\n",
    "command_dict = {'p': doc_owner, 's': doc_shelf, 'l': all_info, 'ads': new_shelf, 'ds': del_shelf, \\\n",
    "                'ad': new_doc, 'd': del_doc, 'm': shelf_change}"
   ]
  },
  {
   "cell_type": "code",
   "execution_count": 13,
   "id": "1c8d98db",
   "metadata": {},
   "outputs": [],
   "source": [
    "# основная программа\n",
    "def main():\n",
    "    while True:\n",
    "        command = input('Введите команду: ')\n",
    "        if command == 'q':\n",
    "            break\n",
    "        elif command_dict.get(command, 'not found') == 'not found':\n",
    "            print('Некорректная команда')\n",
    "        else:        \n",
    "            command_dict[command]()\n",
    "    print('Выход из программы.')"
   ]
  },
  {
   "cell_type": "code",
   "execution_count": 14,
   "id": "75789ba2",
   "metadata": {},
   "outputs": [
    {
     "name": "stdout",
     "output_type": "stream",
     "text": [
      "Введите команду: q\n",
      "Выход из программы.\n"
     ]
    }
   ],
   "source": [
    "main()"
   ]
  }
 ],
 "metadata": {
  "kernelspec": {
   "display_name": "Python 3 (ipykernel)",
   "language": "python",
   "name": "python3"
  },
  "language_info": {
   "codemirror_mode": {
    "name": "ipython",
    "version": 3
   },
   "file_extension": ".py",
   "mimetype": "text/x-python",
   "name": "python",
   "nbconvert_exporter": "python",
   "pygments_lexer": "ipython3",
   "version": "3.9.7"
  }
 },
 "nbformat": 4,
 "nbformat_minor": 5
}
