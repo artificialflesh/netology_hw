{
 "cells": [
  {
   "cell_type": "code",
   "execution_count": 1,
   "id": "74777bcf",
   "metadata": {},
   "outputs": [],
   "source": [
    "import re"
   ]
  },
  {
   "cell_type": "markdown",
   "id": "b82ad64b",
   "metadata": {},
   "source": [
    "##### Задание 1\n",
    "Напишите функцию, которая принимает на вход строку и проверяет является ли она валидным транспортным номером (1 буква, 3 цифры, 2 буквы, 2-3 цифры). Обратите внимание, что не все буквы кириллического алфавита используются в транспортных номерах.\n",
    "\n",
    "Если номер валиден, то функция должна возвращать отдельно номер и регион.\n",
    "\n",
    "Примеры работы программы:\n",
    "car_id = 'A222BC96'\n",
    "\n",
    "Результат: Номер A222BС валиден. Регион: 96\n",
    "\n",
    "car_id = 'АБ22ВВ193'\n",
    "\n",
    "Результат: Номер не валиден"
   ]
  },
  {
   "cell_type": "code",
   "execution_count": 2,
   "id": "5e68a389",
   "metadata": {},
   "outputs": [],
   "source": [
    "car_id = 'А222ВС96'"
   ]
  },
  {
   "cell_type": "code",
   "execution_count": 3,
   "id": "b3db7b82",
   "metadata": {},
   "outputs": [],
   "source": [
    "def id_check(car_id):\n",
    "    pattern = r'([АВЕКМНОРСТУХ]\\d{3}[АВЕКМНОРСТУХ]{2})(\\d{2,3})'\n",
    "    if re.match(pattern, car_id) == None:\n",
    "        print('Номер не валиден')\n",
    "    else:\n",
    "        print(f'Номер {re.match(pattern, car_id).group(1)} валиден. Регион: {re.match(pattern, car_id).group(2)}')"
   ]
  },
  {
   "cell_type": "code",
   "execution_count": 4,
   "id": "5fb08748",
   "metadata": {},
   "outputs": [
    {
     "name": "stdout",
     "output_type": "stream",
     "text": [
      "Номер А222ВС валиден. Регион: 96\n"
     ]
    }
   ],
   "source": [
    "id_check(car_id)"
   ]
  },
  {
   "cell_type": "markdown",
   "id": "12625a51",
   "metadata": {},
   "source": [
    "##### Задание 2\n",
    "Напишите функцию, которая будет удалять все последовательные повторы слов из заданной строки при помощи регулярных выражений.\n",
    "\n",
    "Пример работы программы:\n",
    "some_string = 'Напишите функцию функцию, которая будет будет будет будет удалять все все все все последовательные повторы слов из из из из заданной строки строки при помощи регулярных выражений.'\n",
    "\n",
    "Результат:\n",
    "Напишите функцию, которая будет удалять все последовательные повторы слов из заданной строки при помощи регулярных выражений."
   ]
  },
  {
   "cell_type": "code",
   "execution_count": 5,
   "id": "aed9007d",
   "metadata": {},
   "outputs": [],
   "source": [
    "some_string = 'Напишите напишите функцию функцию, которая будет будет будет будет удалять все все все все последовательные повторы слов из из из из заданной строки строки при помощи регулярных выражений.'"
   ]
  },
  {
   "cell_type": "code",
   "execution_count": 6,
   "id": "07c79173",
   "metadata": {},
   "outputs": [],
   "source": [
    "def duplicate_check(string):\n",
    "    pattern = r'(\\b\\w+)(\\s\\1)+'\n",
    "    sub = r'\\1'\n",
    "    return re.sub(pattern, sub, string, flags=re.IGNORECASE)"
   ]
  },
  {
   "cell_type": "code",
   "execution_count": 7,
   "id": "3879351c",
   "metadata": {},
   "outputs": [
    {
     "data": {
      "text/plain": [
       "'Напишите функцию, которая будет удалять все последовательные повторы слов из заданной строки при помощи регулярных выражений.'"
      ]
     },
     "execution_count": 7,
     "metadata": {},
     "output_type": "execute_result"
    }
   ],
   "source": [
    "duplicate_check(some_string)"
   ]
  },
  {
   "cell_type": "markdown",
   "id": "bd71b2c4",
   "metadata": {},
   "source": [
    "##### Задание 3\n",
    "Напишите функцию, которая будет возвращать акроним по переданной в нее строке со словами.\n",
    "\n",
    "Примеры работы программы:\n",
    "\n",
    "some_words = 'Информационные технологии'\n",
    "\n",
    "Результат: ИТ\n",
    "\n",
    "some_words = 'Near Field Communication'\n",
    "\n",
    "Результат: NFC"
   ]
  },
  {
   "cell_type": "code",
   "execution_count": 8,
   "id": "69479bbb",
   "metadata": {},
   "outputs": [],
   "source": [
    "some_words = 'Информационные технологии'\n",
    "another_words = 'Near Field Communication'"
   ]
  },
  {
   "cell_type": "code",
   "execution_count": 9,
   "id": "7c6d3512",
   "metadata": {},
   "outputs": [],
   "source": [
    "def acronym(string):\n",
    "    pattern = r'(\\w)\\w+\\s?'\n",
    "    sub = r'\\1'\n",
    "    return re.sub(pattern, sub, string).upper()"
   ]
  },
  {
   "cell_type": "code",
   "execution_count": 10,
   "id": "4ad02774",
   "metadata": {},
   "outputs": [
    {
     "data": {
      "text/plain": [
       "'ИТ'"
      ]
     },
     "execution_count": 10,
     "metadata": {},
     "output_type": "execute_result"
    }
   ],
   "source": [
    "acronym(some_words)"
   ]
  },
  {
   "cell_type": "code",
   "execution_count": 11,
   "id": "1460429a",
   "metadata": {},
   "outputs": [
    {
     "data": {
      "text/plain": [
       "'NFC'"
      ]
     },
     "execution_count": 11,
     "metadata": {},
     "output_type": "execute_result"
    }
   ],
   "source": [
    "acronym(another_words)"
   ]
  },
  {
   "cell_type": "markdown",
   "id": "b357a9f1",
   "metadata": {},
   "source": [
    "##### Задание 4\n",
    "Напишите функцию, которая будет принимать на вход список email-адресов и выводить их распределение по доменным зонам.\n",
    "\n",
    "Пример работы программы:\n",
    "\n",
    "emails = ['test@gmail.com', 'xyz@test.in', 'test@ya.ru', 'xyz@mail.ru', 'xyz@ya.ru', 'xyz@gmail.com']\n",
    "\n",
    "Результат:\n",
    "\n",
    "gmail.com: 2<br>\n",
    "test.in: 1<br>\n",
    "ya.ru: 2<br>\n",
    "mail.ru: 1<br>"
   ]
  },
  {
   "cell_type": "code",
   "execution_count": 12,
   "id": "ed9316ab",
   "metadata": {},
   "outputs": [],
   "source": [
    "emails = ['test@gmail.com', 'xyz@test.in', 'test@ya.ru', 'xyz@mail.ru', 'xyz@ya.ru', 'xyz@gmail.com']"
   ]
  },
  {
   "cell_type": "code",
   "execution_count": 13,
   "id": "dec95143",
   "metadata": {},
   "outputs": [],
   "source": [
    "def domain_finder(email):\n",
    "    pattern = r'.+@(\\w+.\\w+)'\n",
    "    sub = r'\\1'\n",
    "    domain_dict = {}\n",
    "    for mail in email:\n",
    "        if re.sub(pattern, sub, mail) not in domain_dict:\n",
    "            domain_dict[re.sub(pattern, sub, mail)] = 1\n",
    "        else:\n",
    "            domain_dict[re.sub(pattern, sub, mail)] += 1\n",
    "    return domain_dict"
   ]
  },
  {
   "cell_type": "code",
   "execution_count": 14,
   "id": "014e1681",
   "metadata": {},
   "outputs": [
    {
     "name": "stdout",
     "output_type": "stream",
     "text": [
      "gmail.com: 2\n",
      "test.in: 1\n",
      "ya.ru: 2\n",
      "mail.ru: 1\n"
     ]
    }
   ],
   "source": [
    "for domain, count in domain_finder(emails).items():\n",
    "    print(f'{domain}: {count}')"
   ]
  },
  {
   "cell_type": "code",
   "execution_count": 15,
   "id": "e4261807",
   "metadata": {},
   "outputs": [],
   "source": [
    "# второй вариант решения\n",
    "def mail_domain(list_mail):\n",
    "  list_domain = re.findall(r'\\w+\\.\\w+', ' '.join(list_mail))\n",
    "  for mail in set(list_domain):\n",
    "    print(f'{mail}: {list_domain.count(mail)}')"
   ]
  },
  {
   "cell_type": "markdown",
   "id": "95f5d9f6",
   "metadata": {},
   "source": [
    "##### Задание 5\n",
    "Напишите функцию, которая будет подсчитывать сколько слов начинается на гласные, а сколько на согласные буквы в тексте (текст может быть написан как с использованием букв кириллицы, так и латиницы).\n",
    "\n",
    "Пример работы программы:\n",
    "\n",
    "some_text = 'Эталонной реализацией Python является интерпретатор CPython, поддерживающий большинство активно используемых платформ. Он распространяется под свободной лицензией Python Software Foundation License, позволяющей использовать его без ограничений в любых приложениях, включая проприетарные.'\n",
    "\n",
    "Результат:\n",
    "\n",
    "Слов на гласные буквы: 9<br>\n",
    "Слов на согласные буквы: 21"
   ]
  },
  {
   "cell_type": "code",
   "execution_count": 16,
   "id": "fed90b47",
   "metadata": {},
   "outputs": [],
   "source": [
    "some_text = 'Эталонной реализацией Python является интерпретатор CPython, поддерживающий '\\\n",
    "            'большинство активно используемых платформ. Он распространяется под свободной '\\\n",
    "            'лицензией Python Software Foundation License, позволяющей использовать его без '\\\n",
    "            'ограничений в любых приложениях, включая проприетарные.'"
   ]
  },
  {
   "cell_type": "code",
   "execution_count": 17,
   "id": "4375d5d9",
   "metadata": {},
   "outputs": [],
   "source": [
    "def letter_counter(text):\n",
    "    vowels_count = len(re.findall(r'\\b[aeiouауоыэяюёие]', text, flags=re.I))\n",
    "    consonants_count = len(re.findall(r'\\b[^aeiouауоыэяюёие\\W]', text, flags=re.I))\n",
    "    print(f'Слов на гласные буквы: {vowels_count}')\n",
    "    print(f'Слов на согласные буквы: {consonants_count}')"
   ]
  },
  {
   "cell_type": "code",
   "execution_count": 18,
   "id": "1f08e324",
   "metadata": {},
   "outputs": [
    {
     "name": "stdout",
     "output_type": "stream",
     "text": [
      "Слов на гласные буквы: 9\n",
      "Слов на согласные буквы: 21\n"
     ]
    }
   ],
   "source": [
    "letter_counter(some_text)"
   ]
  },
  {
   "cell_type": "markdown",
   "id": "23a5e534",
   "metadata": {},
   "source": [
    "##### Задание 6\n",
    "\n",
    "Напишите функцию, которая будет проверять номер сотового телефона на валидность (только для российского формата), если он валиден, то переводить его в формат:\n",
    "+7-xxx-xxx-xx-xx\n",
    "Постарайтесь предусмотреть как можно больше адекватных форматов изначального ввода номера. Примеры работы программы:\n",
    "\n",
    "phone = '+7 955 555-55-55'<br>\n",
    "Результат: +7-955-555-55-55\n",
    "\n",
    "phone = '8(955)555-55-55'<br>\n",
    "Результат: +7-955-555-55-55\n",
    "\n",
    "phone = '+7 955 555 55 55'<br>\n",
    "Результат: +7-955-555-55-55\n",
    "\n",
    "phone = '7(955) 555-55-55'<br>\n",
    "Результат: +7-955-555-55-55\n",
    "\n",
    "phone = '423-555-55-5555'<br>\n",
    "Результат: Номер не валиден\n",
    "\n",
    "phone = '123-456-789'<br>\n",
    "Результат: Номер не валиден"
   ]
  },
  {
   "cell_type": "code",
   "execution_count": 19,
   "id": "b7914543",
   "metadata": {},
   "outputs": [],
   "source": [
    "def phonenum_format(phone):\n",
    "    pattern = r'(\\+7|7|8)\\D*(\\d{3})\\D*(\\d{3})\\D*(\\d{2})\\D*(\\d{2})'\n",
    "    sub = r'+7-\\2-\\3-\\4-\\5'\n",
    "    if re.match(pattern, phone) != None:\n",
    "        return re.sub(pattern, sub, phone)\n",
    "    else:\n",
    "        return 'Номер не валиден'"
   ]
  },
  {
   "cell_type": "code",
   "execution_count": 20,
   "id": "e2e92e77",
   "metadata": {},
   "outputs": [],
   "source": [
    "phone_list = ['+7 955 555-55-55', '8(955)555-55-55', '+7 955 555 55 55', \\\n",
    "              '7(955) 555-55-55', '423-555-55-5555', '123-456-789', '89555555555']"
   ]
  },
  {
   "cell_type": "code",
   "execution_count": 21,
   "id": "c045cb20",
   "metadata": {},
   "outputs": [
    {
     "name": "stdout",
     "output_type": "stream",
     "text": [
      "+7-955-555-55-55\n",
      "+7-955-555-55-55\n",
      "+7-955-555-55-55\n",
      "+7-955-555-55-55\n",
      "Номер не валиден\n",
      "Номер не валиден\n",
      "+7-955-555-55-55\n"
     ]
    }
   ],
   "source": [
    "for phone in phone_list:\n",
    "    print(phonenum_format(phone))"
   ]
  },
  {
   "cell_type": "code",
   "execution_count": 22,
   "id": "dd019584",
   "metadata": {},
   "outputs": [],
   "source": [
    "# второй вариант решения\n",
    "def get_correct_phone_number(number):\n",
    "    pattern = r'\\+?[87]*\\s*\\(?(\\d{3})\\)?\\s*[+\\-]?(\\d{3})\\s*[+\\-]?(\\d{2})\\s*[+\\-]?\\s*(\\d{2})'\n",
    "    example = r'+7(\\1)-\\2-\\3-\\4'\n",
    "    return re.sub(pattern, example, number)"
   ]
  }
 ],
 "metadata": {
  "kernelspec": {
   "display_name": "Python 3 (ipykernel)",
   "language": "python",
   "name": "python3"
  },
  "language_info": {
   "codemirror_mode": {
    "name": "ipython",
    "version": 3
   },
   "file_extension": ".py",
   "mimetype": "text/x-python",
   "name": "python",
   "nbconvert_exporter": "python",
   "pygments_lexer": "ipython3",
   "version": "3.9.7"
  }
 },
 "nbformat": 4,
 "nbformat_minor": 5
}
