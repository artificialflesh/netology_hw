{
 "cells": [
  {
   "cell_type": "markdown",
   "id": "dc255f06",
   "metadata": {},
   "source": [
    "##### Задание 1\n",
    "Переведите содержимое файла purchase_log.txt в словарь purchases вида: {‘1840e0b9d4’: ‘Продукты’, …}"
   ]
  },
  {
   "cell_type": "code",
   "execution_count": 1,
   "id": "2f41a55a",
   "metadata": {},
   "outputs": [],
   "source": [
    "import json\n",
    "purchases_dict = {}\n",
    "\n",
    "with open('purchase_log.txt', 'r', encoding='utf-8') as purchase_log:\n",
    "    purchase_log.readline()\n",
    "    for purchase in purchase_log:\n",
    "        row = json.loads(purchase)\n",
    "        purchases_dict[row['user_id']] = row['category']"
   ]
  },
  {
   "cell_type": "markdown",
   "id": "19f9e2e5",
   "metadata": {},
   "source": [
    "##### Задание 2\n",
    "Для каждого user_id в файле visit_log.csv определите третий столбец с категорией покупки (если покупка была, сам файл visit_log.csv изменять не надо). Запишите в файл funnel.csv визиты из файла visit_log.csv, в которых были покупки с указанием категории.<br>Учтите условия на данные:\n",
    "- содержимое purchase_log.txt помещается в оперативную память компьютера\n",
    "- содержимое visit_log.csv - нет; используйте только построчную обработку этого файла"
   ]
  },
  {
   "cell_type": "code",
   "execution_count": 2,
   "id": "1d4129a4",
   "metadata": {},
   "outputs": [],
   "source": [
    "with open('visit_log.csv', 'r', encoding='utf-8') as visit_log:\n",
    "    visit_log.readline()\n",
    "    with open('funnel.csv', 'w', encoding='utf-8') as funnel:\n",
    "        funnel.write('user_id,source,category\\n') # записываем в новый файл строку заголовков\n",
    "        for visit in visit_log:\n",
    "            user_id = visit.strip().split(',')[0] # вытаскиваем user_id из строки в логах\n",
    "            if user_id in purchases_dict:\n",
    "                result = f'{visit.strip()},{purchases_dict[user_id]}\\n' # 1840e0b9d4,other,Продукты перенос\n",
    "                funnel.write(result)"
   ]
  }
 ],
 "metadata": {
  "kernelspec": {
   "display_name": "Python 3 (ipykernel)",
   "language": "python",
   "name": "python3"
  },
  "language_info": {
   "codemirror_mode": {
    "name": "ipython",
    "version": 3
   },
   "file_extension": ".py",
   "mimetype": "text/x-python",
   "name": "python",
   "nbconvert_exporter": "python",
   "pygments_lexer": "ipython3",
   "version": "3.9.7"
  }
 },
 "nbformat": 4,
 "nbformat_minor": 5
}
