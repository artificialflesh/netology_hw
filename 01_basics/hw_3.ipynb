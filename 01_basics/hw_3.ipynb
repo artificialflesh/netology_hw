{
 "cells": [
  {
   "cell_type": "markdown",
   "id": "14e0f61f",
   "metadata": {},
   "source": [
    "##### Задание 1\n",
    "Дана переменная, в которой хранится словарь, содержащий гео-метки для каждого пользователя (пример структуры данных приведен ниже). Вам необходимо написать программу, которая выведет на экран множество уникальных гео-меток всех пользователей."
   ]
  },
  {
   "cell_type": "code",
   "execution_count": 1,
   "id": "cfc98f33",
   "metadata": {},
   "outputs": [],
   "source": [
    "ids = {'user1': [213, 213, 213, 15, 213], \n",
    "       'user2': [54, 54, 119, 119, 119], \n",
    "       'user3': [213, 98, 98, 35]}"
   ]
  },
  {
   "cell_type": "code",
   "execution_count": 2,
   "id": "f6e8efa1",
   "metadata": {},
   "outputs": [
    {
     "name": "stdout",
     "output_type": "stream",
     "text": [
      "Уникальные гео-метки всех пользователей:\n",
      "{98, 35, 15, 213, 54, 119}\n"
     ]
    }
   ],
   "source": [
    "print(f'Уникальные гео-метки всех пользователей:\\n{set(sum(ids.values(), []))}')"
   ]
  },
  {
   "cell_type": "markdown",
   "id": "1ed30c7b",
   "metadata": {},
   "source": [
    "##### Задание 2\n",
    "Дана переменная, в которой хранится список поисковых запросов пользователя (пример структуры данных приведен ниже). Вам необходимо написать программу, которая выведет на экран распределение количества слов в запросах в требуемом виде."
   ]
  },
  {
   "cell_type": "code",
   "execution_count": 1,
   "id": "e9357712",
   "metadata": {
    "scrolled": true
   },
   "outputs": [],
   "source": [
    "queries = [\n",
    "    'смотреть сериалы онлайн',\n",
    "    'новости спорта',\n",
    "    'афиша кино',\n",
    "    'курс доллара',\n",
    "    'сериалы этим летом',\n",
    "    'курс по питону',\n",
    "    'сериалы про спорт',\n",
    "]"
   ]
  },
  {
   "cell_type": "code",
   "execution_count": 4,
   "id": "0f21e0aa",
   "metadata": {},
   "outputs": [],
   "source": [
    "query_dict = {}\n",
    "\n",
    "for query in queries:\n",
    "    if query_dict.get(len(query.split(' '))) != None:\n",
    "        query_dict[len(query.split(' '))] += 1\n",
    "    else:\n",
    "        query_dict[len(query.split(' '))] = 1"
   ]
  },
  {
   "cell_type": "code",
   "execution_count": 5,
   "id": "f87d3d06",
   "metadata": {},
   "outputs": [
    {
     "name": "stdout",
     "output_type": "stream",
     "text": [
      "Поисковых запросов, содержащих 3 слов(а): 57.14%\n",
      "Поисковых запросов, содержащих 2 слов(а): 42.86%\n"
     ]
    }
   ],
   "source": [
    "for k, v in query_dict.items():\n",
    "    print(f'Поисковых запросов, содержащих {k} слов(а): {round(v / sum(query_dict.values()) * 100, 2)}%')"
   ]
  },
  {
   "cell_type": "code",
   "execution_count": 2,
   "id": "0a8e4cdf",
   "metadata": {},
   "outputs": [
    {
     "name": "stdout",
     "output_type": "stream",
     "text": [
      "Поисковых запросов, содержащих 2 слов(а): 42.86%\n",
      "Поисковых запросов, содержащих 3 слов(а): 57.14%\n"
     ]
    }
   ],
   "source": [
    "# второй вариант решения\n",
    "len_q = [len(query.split()) for query in queries]\n",
    "\n",
    "for i in sorted(set(len_q)):\n",
    "    print(f'Поисковых запросов, содержащих {i} слов(а): {len_q.count(i)/len(queries):.2%}')"
   ]
  },
  {
   "cell_type": "markdown",
   "id": "c2ac4819",
   "metadata": {},
   "source": [
    "##### Задание 3\n",
    "Дана переменная, в которой хранится информация о затратах и доходе рекламных кампаний по различным источникам. Необходимо дополнить исходную структуру показателем ROI, который рассчитаем по формуле: (revenue / cost - 1) * 100"
   ]
  },
  {
   "cell_type": "code",
   "execution_count": 6,
   "id": "ee8c4731",
   "metadata": {},
   "outputs": [],
   "source": [
    "results = {\n",
    "    'vk': {'revenue': 103, 'cost': 98},\n",
    "    'yandex': {'revenue': 179, 'cost': 153},\n",
    "    'facebook': {'revenue': 103, 'cost': 110},\n",
    "    'adwords': {'revenue': 35, 'cost': 34},\n",
    "    'twitter': {'revenue': 11, 'cost': 24},\n",
    "}"
   ]
  },
  {
   "cell_type": "code",
   "execution_count": 7,
   "id": "656c85fc",
   "metadata": {},
   "outputs": [
    {
     "data": {
      "text/plain": [
       "{'vk': {'revenue': 103, 'cost': 98, 'ROI': 5.1},\n",
       " 'yandex': {'revenue': 179, 'cost': 153, 'ROI': 16.99},\n",
       " 'facebook': {'revenue': 103, 'cost': 110, 'ROI': -6.36},\n",
       " 'adwords': {'revenue': 35, 'cost': 34, 'ROI': 2.94},\n",
       " 'twitter': {'revenue': 11, 'cost': 24, 'ROI': -54.17}}"
      ]
     },
     "execution_count": 7,
     "metadata": {},
     "output_type": "execute_result"
    }
   ],
   "source": [
    "for media in results:\n",
    "    results[media]['ROI'] = round( (results[media]['revenue'] / results[media]['cost'] - 1) * 100, 2 )\n",
    "results"
   ]
  },
  {
   "cell_type": "markdown",
   "id": "2a92fafc",
   "metadata": {},
   "source": [
    "##### Задание 4\n",
    "Дана переменная, в которой хранится статистика рекламных каналов по объемам продаж (пример структуры данных приведен ниже). Напишите программу, которая возвращает название канала с максимальным объемом продаж."
   ]
  },
  {
   "cell_type": "code",
   "execution_count": 8,
   "id": "024cb6b2",
   "metadata": {},
   "outputs": [],
   "source": [
    "stats = {'facebook': 55, 'yandex': 115, 'vk': 120, 'google': 99, 'email': 42, 'ok': 98}"
   ]
  },
  {
   "cell_type": "code",
   "execution_count": 9,
   "id": "c47ef821",
   "metadata": {},
   "outputs": [
    {
     "name": "stdout",
     "output_type": "stream",
     "text": [
      "Максимальный объем продаж на рекламном канале: vk\n"
     ]
    }
   ],
   "source": [
    "# Неуниверсальное решение, которое не сработает, если будет несколько рекламных каналов с одинаковыми\n",
    "# максимальными объемами продаж\n",
    "\n",
    "print('Максимальный объем продаж на рекламном канале:', \n",
    "      list({media: stats[media] for media in sorted(stats, key=stats.get, reverse=True)})[0])"
   ]
  },
  {
   "cell_type": "code",
   "execution_count": 10,
   "id": "3f3a3208",
   "metadata": {
    "scrolled": true
   },
   "outputs": [
    {
     "name": "stdout",
     "output_type": "stream",
     "text": [
      "Максимальный объем продаж на рекламном канале:\n",
      " - vk\n"
     ]
    }
   ],
   "source": [
    "# Универсальное решение\n",
    "\n",
    "sorted_values = sorted(stats.values(), reverse=True)\n",
    "\n",
    "print('Максимальный объем продаж на рекламном канале:')\n",
    "for x in stats.items():\n",
    "    if x[1] == sorted_values[0]:\n",
    "        print(f' - {x[0]}')"
   ]
  }
 ],
 "metadata": {
  "kernelspec": {
   "display_name": "Python 3 (ipykernel)",
   "language": "python",
   "name": "python3"
  },
  "language_info": {
   "codemirror_mode": {
    "name": "ipython",
    "version": 3
   },
   "file_extension": ".py",
   "mimetype": "text/x-python",
   "name": "python",
   "nbconvert_exporter": "python",
   "pygments_lexer": "ipython3",
   "version": "3.9.7"
  }
 },
 "nbformat": 4,
 "nbformat_minor": 5
}
